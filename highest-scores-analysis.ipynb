{
 "cells": [
  {
   "cell_type": "markdown",
   "metadata": {},
   "source": [
    "# Uma análise comparativa entre as 1% melhores notas e a demais parcela dos estudantes."
   ]
  },
  {
   "cell_type": "markdown",
   "metadata": {},
   "source": [
    "## Primeiros passos\n",
    "\n",
    "Vamos aqui importar as bibliotecas utilizadas ao longo do notebook."
   ]
  },
  {
   "cell_type": "code",
   "execution_count": 125,
   "metadata": {},
   "outputs": [],
   "source": [
    "import re\n",
    "import random\n",
    "import pandas as pd\n",
    "import matplotlib.pyplot as plt\n",
    "import seaborn as sns"
   ]
  },
  {
   "cell_type": "markdown",
   "metadata": {},
   "source": [
    "Os microdados do ENEM têm aproximadamente 3 MB, tornando muito custoso o ato de carregar o conjunto de dados por inteiro na memória. Assim, selecionaremos aleatoriamente uma amostra de aproximadamente 50 mil usuários, o que representa cerca de 1% do total de alunos que realizaram o exame em 2019.\n",
    "\n",
    "Esse valor escolhido pois garante que, ainda após uma etapa futura quando removeremos algumas linhas, teremos uma amostra que apresenta 99% de grau de confiança e 0.7% de margem de erro. "
   ]
  },
  {
   "cell_type": "code",
   "execution_count": 126,
   "metadata": {},
   "outputs": [
    {
     "data": {
      "text/html": [
       "<div>\n",
       "<style scoped>\n",
       "    .dataframe tbody tr th:only-of-type {\n",
       "        vertical-align: middle;\n",
       "    }\n",
       "\n",
       "    .dataframe tbody tr th {\n",
       "        vertical-align: top;\n",
       "    }\n",
       "\n",
       "    .dataframe thead th {\n",
       "        text-align: right;\n",
       "    }\n",
       "</style>\n",
       "<table border=\"1\" class=\"dataframe\">\n",
       "  <thead>\n",
       "    <tr style=\"text-align: right;\">\n",
       "      <th></th>\n",
       "      <th>NU_INSCRICAO</th>\n",
       "      <th>NU_ANO</th>\n",
       "      <th>CO_MUNICIPIO_RESIDENCIA</th>\n",
       "      <th>NO_MUNICIPIO_RESIDENCIA</th>\n",
       "      <th>CO_UF_RESIDENCIA</th>\n",
       "      <th>SG_UF_RESIDENCIA</th>\n",
       "      <th>NU_IDADE</th>\n",
       "      <th>TP_SEXO</th>\n",
       "      <th>TP_ESTADO_CIVIL</th>\n",
       "      <th>TP_COR_RACA</th>\n",
       "      <th>...</th>\n",
       "      <th>Q016</th>\n",
       "      <th>Q017</th>\n",
       "      <th>Q018</th>\n",
       "      <th>Q019</th>\n",
       "      <th>Q020</th>\n",
       "      <th>Q021</th>\n",
       "      <th>Q022</th>\n",
       "      <th>Q023</th>\n",
       "      <th>Q024</th>\n",
       "      <th>Q025</th>\n",
       "    </tr>\n",
       "  </thead>\n",
       "  <tbody>\n",
       "    <tr>\n",
       "      <th>0</th>\n",
       "      <td>190001004954</td>\n",
       "      <td>2019</td>\n",
       "      <td>1506807</td>\n",
       "      <td>Santarém</td>\n",
       "      <td>15</td>\n",
       "      <td>PA</td>\n",
       "      <td>31</td>\n",
       "      <td>F</td>\n",
       "      <td>3</td>\n",
       "      <td>3</td>\n",
       "      <td>...</td>\n",
       "      <td>A</td>\n",
       "      <td>A</td>\n",
       "      <td>A</td>\n",
       "      <td>B</td>\n",
       "      <td>A</td>\n",
       "      <td>A</td>\n",
       "      <td>C</td>\n",
       "      <td>A</td>\n",
       "      <td>B</td>\n",
       "      <td>B</td>\n",
       "    </tr>\n",
       "    <tr>\n",
       "      <th>1</th>\n",
       "      <td>190001005474</td>\n",
       "      <td>2019</td>\n",
       "      <td>1504208</td>\n",
       "      <td>Marabá</td>\n",
       "      <td>15</td>\n",
       "      <td>PA</td>\n",
       "      <td>19</td>\n",
       "      <td>F</td>\n",
       "      <td>1</td>\n",
       "      <td>3</td>\n",
       "      <td>...</td>\n",
       "      <td>A</td>\n",
       "      <td>A</td>\n",
       "      <td>A</td>\n",
       "      <td>A</td>\n",
       "      <td>A</td>\n",
       "      <td>A</td>\n",
       "      <td>E</td>\n",
       "      <td>A</td>\n",
       "      <td>C</td>\n",
       "      <td>B</td>\n",
       "    </tr>\n",
       "    <tr>\n",
       "      <th>2</th>\n",
       "      <td>190001005636</td>\n",
       "      <td>2019</td>\n",
       "      <td>1501402</td>\n",
       "      <td>Belém</td>\n",
       "      <td>15</td>\n",
       "      <td>PA</td>\n",
       "      <td>18</td>\n",
       "      <td>F</td>\n",
       "      <td>1</td>\n",
       "      <td>3</td>\n",
       "      <td>...</td>\n",
       "      <td>A</td>\n",
       "      <td>A</td>\n",
       "      <td>A</td>\n",
       "      <td>B</td>\n",
       "      <td>B</td>\n",
       "      <td>A</td>\n",
       "      <td>C</td>\n",
       "      <td>A</td>\n",
       "      <td>A</td>\n",
       "      <td>B</td>\n",
       "    </tr>\n",
       "    <tr>\n",
       "      <th>3</th>\n",
       "      <td>190001005759</td>\n",
       "      <td>2019</td>\n",
       "      <td>1501709</td>\n",
       "      <td>Bragança</td>\n",
       "      <td>15</td>\n",
       "      <td>PA</td>\n",
       "      <td>19</td>\n",
       "      <td>F</td>\n",
       "      <td>1</td>\n",
       "      <td>3</td>\n",
       "      <td>...</td>\n",
       "      <td>A</td>\n",
       "      <td>A</td>\n",
       "      <td>A</td>\n",
       "      <td>B</td>\n",
       "      <td>B</td>\n",
       "      <td>A</td>\n",
       "      <td>D</td>\n",
       "      <td>A</td>\n",
       "      <td>A</td>\n",
       "      <td>A</td>\n",
       "    </tr>\n",
       "    <tr>\n",
       "      <th>4</th>\n",
       "      <td>190001005816</td>\n",
       "      <td>2019</td>\n",
       "      <td>1501402</td>\n",
       "      <td>Belém</td>\n",
       "      <td>15</td>\n",
       "      <td>PA</td>\n",
       "      <td>16</td>\n",
       "      <td>F</td>\n",
       "      <td>1</td>\n",
       "      <td>1</td>\n",
       "      <td>...</td>\n",
       "      <td>A</td>\n",
       "      <td>A</td>\n",
       "      <td>A</td>\n",
       "      <td>B</td>\n",
       "      <td>A</td>\n",
       "      <td>A</td>\n",
       "      <td>B</td>\n",
       "      <td>B</td>\n",
       "      <td>A</td>\n",
       "      <td>A</td>\n",
       "    </tr>\n",
       "  </tbody>\n",
       "</table>\n",
       "<p>5 rows × 136 columns</p>\n",
       "</div>"
      ],
      "text/plain": [
       "   NU_INSCRICAO  NU_ANO  CO_MUNICIPIO_RESIDENCIA NO_MUNICIPIO_RESIDENCIA  \\\n",
       "0  190001004954    2019                  1506807                Santarém   \n",
       "1  190001005474    2019                  1504208                  Marabá   \n",
       "2  190001005636    2019                  1501402                   Belém   \n",
       "3  190001005759    2019                  1501709                Bragança   \n",
       "4  190001005816    2019                  1501402                   Belém   \n",
       "\n",
       "   CO_UF_RESIDENCIA SG_UF_RESIDENCIA  NU_IDADE TP_SEXO  TP_ESTADO_CIVIL  \\\n",
       "0                15               PA        31       F                3   \n",
       "1                15               PA        19       F                1   \n",
       "2                15               PA        18       F                1   \n",
       "3                15               PA        19       F                1   \n",
       "4                15               PA        16       F                1   \n",
       "\n",
       "   TP_COR_RACA  ...  Q016  Q017 Q018  Q019 Q020  Q021  Q022  Q023  Q024  Q025  \n",
       "0            3  ...     A     A    A     B    A     A     C     A     B     B  \n",
       "1            3  ...     A     A    A     A    A     A     E     A     C     B  \n",
       "2            3  ...     A     A    A     B    B     A     C     A     A     B  \n",
       "3            3  ...     A     A    A     B    B     A     D     A     A     A  \n",
       "4            1  ...     A     A    A     B    A     A     B     B     A     A  \n",
       "\n",
       "[5 rows x 136 columns]"
      ]
     },
     "execution_count": 126,
     "metadata": {},
     "output_type": "execute_result"
    }
   ],
   "source": [
    "p = 0.01\n",
    "\n",
    "df = pd.read_csv(\n",
    "    'MICRODADOS_ENEM_2019.csv',\n",
    "    header=0,\n",
    "    encoding = \"ISO-8859-1\",\n",
    "    skiprows=lambda i: i > 0 and random.random() > p,\n",
    "    sep=';'\n",
    ")\n",
    "\n",
    "df.head()"
   ]
  },
  {
   "cell_type": "markdown",
   "metadata": {},
   "source": [
    "## Preparação de dados\n",
    "\n",
    "Feita as primeiras configurações, podemos agora começar o trabalho relacionado a preparação dos dados utilizados para gerar as visualizações desejadas. "
   ]
  },
  {
   "cell_type": "markdown",
   "metadata": {},
   "source": [
    "Primeiro, vamos criar uma nova coluna com a média geral entre todas as áreas de conhecimento e a redação. Visando fazer isso, podemos então somar as notas de cada observação e dividir por 5."
   ]
  },
  {
   "cell_type": "code",
   "execution_count": 127,
   "metadata": {},
   "outputs": [],
   "source": [
    "df['NU_NOTA_GERAL'] = df[['NU_NOTA_LC', 'NU_NOTA_CH', 'NU_NOTA_CN', 'NU_NOTA_MT', 'NU_NOTA_REDACAO']].sum(axis=1)/5"
   ]
  },
  {
   "cell_type": "markdown",
   "metadata": {},
   "source": [
    "A fim de agrupar grupos que são pouco representativos ao longo da nossa amostra, vamos juntar todas as colunas que informam se o candidato possui algum tipo de deficiência em uma única só. Para isso, basta somar horizontalmente os valores booleanos originalmente contidos nessas colunas e aplicar uma função que retorna True caso essa soma seja maior ou igual a 1 e False para o caso contrário."
   ]
  },
  {
   "cell_type": "code",
   "execution_count": 128,
   "metadata": {},
   "outputs": [],
   "source": [
    "deficiency = ['IN_BAIXA_VISAO', 'IN_CEGUEIRA', 'IN_SURDEZ', 'IN_DEFICIENCIA_AUDITIVA', 'IN_SURDO_CEGUEIRA','IN_DEFICIENCIA_FISICA', 'IN_DEFICIENCIA_MENTAL', 'IN_DEFICIT_ATENCAO', 'IN_DISLEXIA', 'IN_DISCALCULIA', 'IN_AUTISMO', 'IN_VISAO_MONOCULAR', 'IN_OUTRA_DEF']\n",
    "df['TP_PCD'] = df[deficiency].sum(axis=1).apply(lambda x: x>=1)\n",
    "df['TP_PCD'].replace({True: 'Sim',\n",
    "                      False: 'Não'}, inplace=True)"
   ]
  },
  {
   "cell_type": "markdown",
   "metadata": {},
   "source": [
    "Uma tarefa importante que vai nos ajudar a fazer gráficos mais explicativos é substituir os valores originais do dataset por valores mais explicativos. Por exemplo, a coluna TP_COR_RACA possui valores de 0 a 5 que, na realidade, representam uma raça. \n",
    "\n",
    "Portanto, com o auxílio do dicionário de features fornecido pelo INEP, vamos realizar as substituições necessárias nas colunas que parecem ser interessantes para nosso trabalho."
   ]
  },
  {
   "cell_type": "code",
   "execution_count": 142,
   "metadata": {},
   "outputs": [],
   "source": [
    "df['TP_SEXO'].replace({'F': 'Feminino',\n",
    "                       'M': 'Masculino'}, inplace=True)"
   ]
  },
  {
   "cell_type": "code",
   "execution_count": 129,
   "metadata": {},
   "outputs": [],
   "source": [
    "df['TP_COR_RACA'].replace({0: 'Não declarada',\n",
    "                           1: 'Branca',\n",
    "                           2: 'Preta',\n",
    "                           3: 'Parda',\n",
    "                           4: 'Amarela',\n",
    "                           5: 'Indígena'}, inplace=True)"
   ]
  },
  {
   "cell_type": "code",
   "execution_count": 130,
   "metadata": {},
   "outputs": [],
   "source": [
    "df['Q001'].replace({'A': 'Nunca estudou',\n",
    "                    'B': 'Fund. incompleto',\n",
    "                    'C': 'Fund. incompleto', \n",
    "                    'D': 'Medio incompleto',\n",
    "                    'E': 'Medio completo',\n",
    "                    'F': 'Superior completo',\n",
    "                    'G': 'Pós graduação',\n",
    "                    'H': 'Não sabe'}, inplace=True)\n",
    "\n",
    "df['Q002'].replace({'A': 'Nunca estudou',\n",
    "                    'B': 'Fund. incompleto',\n",
    "                    'C': 'Fund. incompleto', \n",
    "                    'D': 'Medio incompleto',\n",
    "                    'E': 'Medio completo',\n",
    "                    'F': 'Superior completo',\n",
    "                    'G': 'Pós graduação',\n",
    "                    'H': 'Não sabe'}, inplace=True)"
   ]
  },
  {
   "cell_type": "markdown",
   "metadata": {},
   "source": [
    "A fim de evitar uso desnecessário de memória e facilitar a visualização do DataFrame, vamos selecionar agora somente as colunas que podem ter algum uso nas etapas posteriores desse notebook."
   ]
  },
  {
   "cell_type": "code",
   "execution_count": 131,
   "metadata": {},
   "outputs": [],
   "source": [
    "df = df[['SG_UF_RESIDENCIA', 'TP_SEXO', 'TP_COR_RACA', 'TP_PCD', 'Q001', 'Q002', 'Q006',\n",
    "         'NU_NOTA_LC', 'NU_NOTA_CH', 'NU_NOTA_CN', 'NU_NOTA_MT', 'NU_NOTA_REDACAO', 'NU_NOTA_GERAL']]"
   ]
  },
  {
   "cell_type": "markdown",
   "metadata": {},
   "source": [
    "Verificando a quantidade de valores faltantes ao longo das colunas, podemos ver que existem várias linhas que apresentam esse problema. A fim de contonar esse imbróglio, existem várias estratégias, desde simplesmente atribuir a média/mediana até utilizar de um algoritmo de machine learning para prever essses possíveis valores.\n",
    "\n",
    "Aqui não vamos utilizar nenhuma dessas estratégias citadas e vamos optar por utilizar uma que é bem simples: remover as linhas que contém valores nulos. \n",
    "\n",
    "Como nosso dataset possui uma quantidade grande quantidade de observações e os valores nulos atrapalhariam nossa análise já que ela se baseia fortemente nas notas, tentar atribuir algum valor para esses dados faltantes poderia gerar uma distorção indesejada."
   ]
  },
  {
   "cell_type": "code",
   "execution_count": null,
   "metadata": {},
   "outputs": [],
   "source": [
    "df.isnull().sum()"
   ]
  },
  {
   "cell_type": "code",
   "execution_count": 133,
   "metadata": {},
   "outputs": [
    {
     "data": {
      "text/plain": [
       "(36878, 13)"
      ]
     },
     "execution_count": 133,
     "metadata": {},
     "output_type": "execute_result"
    }
   ],
   "source": [
    "print(f'Quantidade original de linhas: {df.shape[0]}')\n",
    "df.dropna(inplace=True)\n",
    "print(f'Quantidade final de linhas: {df.shape[0]}')"
   ]
  },
  {
   "cell_type": "markdown",
   "metadata": {},
   "source": [
    "Como explicado no início do kernel, a ideia aqui é comparar a distribuição dos fatores entre as 1% melhores notas e as demais. A fim de fazer isso, vamos ordernar o dataset com base na recém criada coluna NU_NOTA_GERAL. "
   ]
  },
  {
   "cell_type": "code",
   "execution_count": 132,
   "metadata": {},
   "outputs": [
    {
     "data": {
      "text/html": [
       "<div>\n",
       "<style scoped>\n",
       "    .dataframe tbody tr th:only-of-type {\n",
       "        vertical-align: middle;\n",
       "    }\n",
       "\n",
       "    .dataframe tbody tr th {\n",
       "        vertical-align: top;\n",
       "    }\n",
       "\n",
       "    .dataframe thead th {\n",
       "        text-align: right;\n",
       "    }\n",
       "</style>\n",
       "<table border=\"1\" class=\"dataframe\">\n",
       "  <thead>\n",
       "    <tr style=\"text-align: right;\">\n",
       "      <th></th>\n",
       "      <th>SG_UF_RESIDENCIA</th>\n",
       "      <th>TP_SEXO</th>\n",
       "      <th>TP_COR_RACA</th>\n",
       "      <th>TP_PCD</th>\n",
       "      <th>Q001</th>\n",
       "      <th>Q002</th>\n",
       "      <th>Q006</th>\n",
       "      <th>NU_NOTA_LC</th>\n",
       "      <th>NU_NOTA_CH</th>\n",
       "      <th>NU_NOTA_CN</th>\n",
       "      <th>NU_NOTA_MT</th>\n",
       "      <th>NU_NOTA_REDACAO</th>\n",
       "      <th>NU_NOTA_GERAL</th>\n",
       "    </tr>\n",
       "  </thead>\n",
       "  <tbody>\n",
       "    <tr>\n",
       "      <th>26038</th>\n",
       "      <td>SP</td>\n",
       "      <td>F</td>\n",
       "      <td>Branca</td>\n",
       "      <td>Não</td>\n",
       "      <td>Pós graduação</td>\n",
       "      <td>Pós graduação</td>\n",
       "      <td>Q</td>\n",
       "      <td>658.7</td>\n",
       "      <td>738.7</td>\n",
       "      <td>849.7</td>\n",
       "      <td>934.0</td>\n",
       "      <td>940.0</td>\n",
       "      <td>824.22</td>\n",
       "    </tr>\n",
       "    <tr>\n",
       "      <th>8297</th>\n",
       "      <td>SP</td>\n",
       "      <td>F</td>\n",
       "      <td>Branca</td>\n",
       "      <td>Não</td>\n",
       "      <td>Pós graduação</td>\n",
       "      <td>Pós graduação</td>\n",
       "      <td>Q</td>\n",
       "      <td>674.3</td>\n",
       "      <td>712.7</td>\n",
       "      <td>757.7</td>\n",
       "      <td>964.0</td>\n",
       "      <td>960.0</td>\n",
       "      <td>813.74</td>\n",
       "    </tr>\n",
       "    <tr>\n",
       "      <th>30831</th>\n",
       "      <td>GO</td>\n",
       "      <td>F</td>\n",
       "      <td>Branca</td>\n",
       "      <td>Não</td>\n",
       "      <td>Superior completo</td>\n",
       "      <td>Pós graduação</td>\n",
       "      <td>N</td>\n",
       "      <td>696.6</td>\n",
       "      <td>720.7</td>\n",
       "      <td>773.1</td>\n",
       "      <td>891.9</td>\n",
       "      <td>980.0</td>\n",
       "      <td>812.46</td>\n",
       "    </tr>\n",
       "    <tr>\n",
       "      <th>26714</th>\n",
       "      <td>SP</td>\n",
       "      <td>M</td>\n",
       "      <td>Branca</td>\n",
       "      <td>Não</td>\n",
       "      <td>Superior completo</td>\n",
       "      <td>Superior completo</td>\n",
       "      <td>Q</td>\n",
       "      <td>661.5</td>\n",
       "      <td>777.1</td>\n",
       "      <td>768.4</td>\n",
       "      <td>929.4</td>\n",
       "      <td>900.0</td>\n",
       "      <td>807.28</td>\n",
       "    </tr>\n",
       "    <tr>\n",
       "      <th>47914</th>\n",
       "      <td>RJ</td>\n",
       "      <td>M</td>\n",
       "      <td>Branca</td>\n",
       "      <td>Não</td>\n",
       "      <td>Superior completo</td>\n",
       "      <td>Superior completo</td>\n",
       "      <td>L</td>\n",
       "      <td>637.2</td>\n",
       "      <td>704.3</td>\n",
       "      <td>775.0</td>\n",
       "      <td>927.6</td>\n",
       "      <td>980.0</td>\n",
       "      <td>804.82</td>\n",
       "    </tr>\n",
       "  </tbody>\n",
       "</table>\n",
       "</div>"
      ],
      "text/plain": [
       "      SG_UF_RESIDENCIA TP_SEXO TP_COR_RACA TP_PCD               Q001  \\\n",
       "26038               SP       F      Branca    Não      Pós graduação   \n",
       "8297                SP       F      Branca    Não      Pós graduação   \n",
       "30831               GO       F      Branca    Não  Superior completo   \n",
       "26714               SP       M      Branca    Não  Superior completo   \n",
       "47914               RJ       M      Branca    Não  Superior completo   \n",
       "\n",
       "                    Q002 Q006  NU_NOTA_LC  NU_NOTA_CH  NU_NOTA_CN  NU_NOTA_MT  \\\n",
       "26038      Pós graduação    Q       658.7       738.7       849.7       934.0   \n",
       "8297       Pós graduação    Q       674.3       712.7       757.7       964.0   \n",
       "30831      Pós graduação    N       696.6       720.7       773.1       891.9   \n",
       "26714  Superior completo    Q       661.5       777.1       768.4       929.4   \n",
       "47914  Superior completo    L       637.2       704.3       775.0       927.6   \n",
       "\n",
       "       NU_NOTA_REDACAO  NU_NOTA_GERAL  \n",
       "26038            940.0         824.22  \n",
       "8297             960.0         813.74  \n",
       "30831            980.0         812.46  \n",
       "26714            900.0         807.28  \n",
       "47914            980.0         804.82  "
      ]
     },
     "execution_count": 132,
     "metadata": {},
     "output_type": "execute_result"
    }
   ],
   "source": [
    "df.sort_values(by=['NU_NOTA_GERAL'], ascending=False, inplace=True)\n",
    "df.head()"
   ]
  },
  {
   "cell_type": "markdown",
   "metadata": {},
   "source": [
    "Agora, vamos selecionar os candidatos com as notas entre o primeiro centil, ou seja, que estão as 1% melhores notas. Para isso, podemos resetar o índice e atribuir True ou False para os casos que estão, respectivamente, entre as 1% primeiras linhas e não. \n",
    "\n",
    "Depois, vamos manter a ideia de manter valores representativos e substituir esses valores booleanos gerados."
   ]
  },
  {
   "cell_type": "code",
   "execution_count": 135,
   "metadata": {},
   "outputs": [
    {
     "data": {
      "text/html": [
       "<div>\n",
       "<style scoped>\n",
       "    .dataframe tbody tr th:only-of-type {\n",
       "        vertical-align: middle;\n",
       "    }\n",
       "\n",
       "    .dataframe tbody tr th {\n",
       "        vertical-align: top;\n",
       "    }\n",
       "\n",
       "    .dataframe thead th {\n",
       "        text-align: right;\n",
       "    }\n",
       "</style>\n",
       "<table border=\"1\" class=\"dataframe\">\n",
       "  <thead>\n",
       "    <tr style=\"text-align: right;\">\n",
       "      <th></th>\n",
       "      <th>SG_UF_RESIDENCIA</th>\n",
       "      <th>TP_SEXO</th>\n",
       "      <th>TP_COR_RACA</th>\n",
       "      <th>TP_PCD</th>\n",
       "      <th>Q001</th>\n",
       "      <th>Q002</th>\n",
       "      <th>Q006</th>\n",
       "      <th>NU_NOTA_LC</th>\n",
       "      <th>NU_NOTA_CH</th>\n",
       "      <th>NU_NOTA_CN</th>\n",
       "      <th>NU_NOTA_MT</th>\n",
       "      <th>NU_NOTA_REDACAO</th>\n",
       "      <th>NU_NOTA_GERAL</th>\n",
       "      <th>TP_RANKING</th>\n",
       "    </tr>\n",
       "  </thead>\n",
       "  <tbody>\n",
       "    <tr>\n",
       "      <th>25021</th>\n",
       "      <td>MG</td>\n",
       "      <td>M</td>\n",
       "      <td>Parda</td>\n",
       "      <td>Não</td>\n",
       "      <td>Fund. incompleto</td>\n",
       "      <td>Medio completo</td>\n",
       "      <td>B</td>\n",
       "      <td>508.4</td>\n",
       "      <td>425.1</td>\n",
       "      <td>518.0</td>\n",
       "      <td>526.1</td>\n",
       "      <td>600.0</td>\n",
       "      <td>515.52</td>\n",
       "      <td>Todos os candidatos</td>\n",
       "    </tr>\n",
       "    <tr>\n",
       "      <th>45161</th>\n",
       "      <td>TO</td>\n",
       "      <td>F</td>\n",
       "      <td>Parda</td>\n",
       "      <td>Não</td>\n",
       "      <td>Não sabe</td>\n",
       "      <td>Medio completo</td>\n",
       "      <td>B</td>\n",
       "      <td>471.6</td>\n",
       "      <td>443.3</td>\n",
       "      <td>420.5</td>\n",
       "      <td>497.4</td>\n",
       "      <td>580.0</td>\n",
       "      <td>482.56</td>\n",
       "      <td>Todos os candidatos</td>\n",
       "    </tr>\n",
       "    <tr>\n",
       "      <th>25617</th>\n",
       "      <td>MA</td>\n",
       "      <td>F</td>\n",
       "      <td>Parda</td>\n",
       "      <td>Não</td>\n",
       "      <td>Fund. incompleto</td>\n",
       "      <td>Medio completo</td>\n",
       "      <td>B</td>\n",
       "      <td>488.1</td>\n",
       "      <td>548.0</td>\n",
       "      <td>464.1</td>\n",
       "      <td>552.6</td>\n",
       "      <td>360.0</td>\n",
       "      <td>482.56</td>\n",
       "      <td>Todos os candidatos</td>\n",
       "    </tr>\n",
       "    <tr>\n",
       "      <th>2606</th>\n",
       "      <td>BA</td>\n",
       "      <td>F</td>\n",
       "      <td>Branca</td>\n",
       "      <td>Não</td>\n",
       "      <td>Medio completo</td>\n",
       "      <td>Fund. incompleto</td>\n",
       "      <td>A</td>\n",
       "      <td>503.3</td>\n",
       "      <td>507.5</td>\n",
       "      <td>518.7</td>\n",
       "      <td>403.2</td>\n",
       "      <td>480.0</td>\n",
       "      <td>482.54</td>\n",
       "      <td>Todos os candidatos</td>\n",
       "    </tr>\n",
       "    <tr>\n",
       "      <th>12066</th>\n",
       "      <td>PB</td>\n",
       "      <td>M</td>\n",
       "      <td>Parda</td>\n",
       "      <td>Não</td>\n",
       "      <td>Nunca estudou</td>\n",
       "      <td>Nunca estudou</td>\n",
       "      <td>B</td>\n",
       "      <td>475.4</td>\n",
       "      <td>373.6</td>\n",
       "      <td>441.7</td>\n",
       "      <td>582.0</td>\n",
       "      <td>540.0</td>\n",
       "      <td>482.54</td>\n",
       "      <td>Todos os candidatos</td>\n",
       "    </tr>\n",
       "  </tbody>\n",
       "</table>\n",
       "</div>"
      ],
      "text/plain": [
       "      SG_UF_RESIDENCIA TP_SEXO TP_COR_RACA TP_PCD              Q001  \\\n",
       "25021               MG       M       Parda    Não  Fund. incompleto   \n",
       "45161               TO       F       Parda    Não          Não sabe   \n",
       "25617               MA       F       Parda    Não  Fund. incompleto   \n",
       "2606                BA       F      Branca    Não    Medio completo   \n",
       "12066               PB       M       Parda    Não     Nunca estudou   \n",
       "\n",
       "                   Q002 Q006  NU_NOTA_LC  NU_NOTA_CH  NU_NOTA_CN  NU_NOTA_MT  \\\n",
       "25021    Medio completo    B       508.4       425.1       518.0       526.1   \n",
       "45161    Medio completo    B       471.6       443.3       420.5       497.4   \n",
       "25617    Medio completo    B       488.1       548.0       464.1       552.6   \n",
       "2606   Fund. incompleto    A       503.3       507.5       518.7       403.2   \n",
       "12066     Nunca estudou    B       475.4       373.6       441.7       582.0   \n",
       "\n",
       "       NU_NOTA_REDACAO  NU_NOTA_GERAL           TP_RANKING  \n",
       "25021            600.0         515.52  Todos os candidatos  \n",
       "45161            580.0         482.56  Todos os candidatos  \n",
       "25617            360.0         482.56  Todos os candidatos  \n",
       "2606             480.0         482.54  Todos os candidatos  \n",
       "12066            540.0         482.54  Todos os candidatos  "
      ]
     },
     "execution_count": 135,
     "metadata": {},
     "output_type": "execute_result"
    }
   ],
   "source": [
    "df['TP_RANKING'] = df.reset_index().drop(columns='index').index.to_numpy() < 1000\n",
    "df['TP_RANKING'].replace({True: 'Top 1%',\n",
    "                          False: 'Todos os candidatos'}, inplace=True)"
   ]
  },
  {
   "cell_type": "markdown",
   "metadata": {},
   "source": [
    "Essa próxima celula é puramente para fins estéticos. A fim de evitar que a distribuição das melhores notas seja exibida antes das demais, vamos ordernar o dataset com base nessa coluna nova que criamos anteriormente."
   ]
  },
  {
   "cell_type": "code",
   "execution_count": null,
   "metadata": {},
   "outputs": [],
   "source": [
    "df = df.sort_values(by='TP_RANKING')\n",
    "df.head()"
   ]
  },
  {
   "cell_type": "markdown",
   "metadata": {},
   "source": [
    "## Visualização de dados\n",
    "\n",
    "Chegamos finalmente a etapa de visualização de dados. Antes de mais nada, vamos escolher o estilo e a paleta de cores que vamos manter para todo o projeto. Eu particularmente gosto do estilo 'whitegrid' e da paleta (PALETA AQUI) mas você é livre para escolher o que mais te agradar :)"
   ]
  },
  {
   "cell_type": "code",
   "execution_count": 136,
   "metadata": {},
   "outputs": [],
   "source": [
    "sns.set_style('whitegrid')"
   ]
  },
  {
   "cell_type": "markdown",
   "metadata": {},
   "source": [
    "Agora, vamos criar uma função que gera um gráfico que compara a distribuição de uma determinada coluna entre as as melhores notas e entre as demais. \n",
    "\n",
    "Para isso, vamos utilzar o histplot do Seaborn. É importante que passemos os parametros ```stat=\"probability\"``` e  ```multiple=\"fill\"``` para gerar a aparência desejada, que é a de um gráfico de barra empilhado (stacked barplot).\n",
    "\n",
    "A fim de deixar mais explicátivo, vou deixar alguns comentários no código da função."
   ]
  },
  {
   "cell_type": "code",
   "execution_count": 149,
   "metadata": {},
   "outputs": [],
   "source": [
    "def compare_distribution(column, chart_title, legend_title):\n",
    "    fig, ax = plt.subplots(figsize=(15, 3)) \n",
    "    # Define o título do gráfico e cria o gráfico\n",
    "    ax.set_title(chart_title) \n",
    "    sns.histplot(df, y=\"TP_RANKING\", hue=column, stat=\"probability\", multiple=\"fill\", shrink=0.8, ax=ax, edgecolor=\"none\")\n",
    "    \n",
    "    # Remove as linhas dos eixos\n",
    "    sns.despine(left=True, bottom=True)\n",
    "    \n",
    "    # Remove o titulo do eixo vertical e define o do eixo horizontal\n",
    "    ax.set_ylabel('') \n",
    "    ax.set_xlabel('Proporção') \n",
    "    \n",
    "    # Muda a legenda de posição\n",
    "    legends = re.findall(r\"'(.*?)'\", str(list(ax.get_legend().get_texts())))\n",
    "    legends.reverse()\n",
    "    plt.legend(legends, title=legend_title,bbox_to_anchor=(0.5,-0.2), loc='upper center', ncol=3)\n",
    "    plt.show()"
   ]
  },
  {
   "cell_type": "markdown",
   "metadata": {},
   "source": [
    "De fato partindo pra análise, acho interessante começarmos com o recorte racial. Vamos lá:"
   ]
  },
  {
   "cell_type": "code",
   "execution_count": 150,
   "metadata": {
    "scrolled": true
   },
   "outputs": [
    {
     "data": {
      "image/png": "[encoded data removed]",
      "text/plain": [
       "<Figure size 1080x216 with 1 Axes>"
      ]
     },
     "metadata": {},
     "output_type": "display_data"
    }
   ],
   "source": [
    "compare_distribution('TP_COR_RACA', 'Distribuição das raças entre todos os candidatos e entre as melhores notas', 'Raças')"
   ]
  },
  {
   "cell_type": "markdown",
   "metadata": {},
   "source": [
    "Aqui podemos ver claramente que:\n",
    " * A parcela correspondente a população parda, preta e indígena é subrepresentada entre as melhores notas.\n",
    " * A parcela correspondente a população branca é a que mais ganha volume quando comparamos o grupo mais geral com o grupo das melhores notas."
   ]
  },
  {
   "cell_type": "markdown",
   "metadata": {},
   "source": []
  },
  {
   "cell_type": "code",
   "execution_count": 139,
   "metadata": {},
   "outputs": [
    {
     "data": {
      "image/png": "[encoded data removed]",
      "text/plain": [
       "<Figure size 1080x216 with 1 Axes>"
      ]
     },
     "metadata": {},
     "output_type": "display_data"
    }
   ],
   "source": [
    "compare_distribution('Q001', 'Formação do pai entre todos os candidatos e entre as melhores notas', 'Formação do pai')"
   ]
  },
  {
   "cell_type": "code",
   "execution_count": 140,
   "metadata": {},
   "outputs": [
    {
     "data": {
      "image/png": "[encoded data removed]",
      "text/plain": [
       "<Figure size 1080x216 with 1 Axes>"
      ]
     },
     "metadata": {},
     "output_type": "display_data"
    }
   ],
   "source": [
    "compare_distribution('Q002', 'Formação da mãe entre todos os candidatos e entre as melhores notas', 'Formação da mãe')"
   ]
  },
  {
   "cell_type": "code",
   "execution_count": 141,
   "metadata": {},
   "outputs": [
    {
     "data": {
      "image/png": "[encoded data removed]",
      "text/plain": [
       "<Figure size 1080x216 with 1 Axes>"
      ]
     },
     "metadata": {},
     "output_type": "display_data"
    }
   ],
   "source": [
    "compare_distribution('TP_PCD', 'Distribuição de PCD entre todos os candidatos e entre as melhores notas', 'É PCD?')"
   ]
  },
  {
   "cell_type": "code",
   "execution_count": 145,
   "metadata": {},
   "outputs": [
    {
     "data": {
      "image/png": "[encoded data removed]",
      "text/plain": [
       "<Figure size 1080x216 with 1 Axes>"
      ]
     },
     "metadata": {},
     "output_type": "display_data"
    }
   ],
   "source": [
    "compare_distribution('TP_SEXO', 'Distribuição de gêneros entre todos os candidatos e entre as melhores notas', 'Gênero')"
   ]
  },
  {
   "cell_type": "code",
   "execution_count": null,
   "metadata": {},
   "outputs": [],
   "source": []
  }
 ],
 "metadata": {
  "kernelspec": {
   "display_name": "Python 3",
   "language": "python",
   "name": "python3"
  },
  "language_info": {
   "codemirror_mode": {
    "name": "ipython",
    "version": 3
   },
   "file_extension": ".py",
   "mimetype": "text/x-python",
   "name": "python",
   "nbconvert_exporter": "python",
   "pygments_lexer": "ipython3",
   "version": "3.8.1"
  }
 },
 "nbformat": 4,
 "nbformat_minor": 2
}
