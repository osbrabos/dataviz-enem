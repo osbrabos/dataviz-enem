{
 "cells": [
  {
   "cell_type": "code",
   "execution_count": null,
   "metadata": {},
   "outputs": [],
   "source": [
    "import numpy as np\n",
    "import random\n",
    "import pandas as pd\n",
    "import matplotlib.pyplot as plt\n",
    "import seaborn as sns\n"
   ]
  },
  {
   "cell_type": "code",
   "execution_count": null,
   "metadata": {},
   "outputs": [],
   "source": [
    "p = 0.01\n",
    "\n",
    "df = pd.read_csv(\n",
    "    'MICRODADOS_ENEM_2019.csv',\n",
    "    header=0,\n",
    "    encoding = \"ISO-8859-1\",\n",
    "    skiprows=lambda i: i > 0 and random.random() > p,\n",
    "    sep=';'\n",
    ")\n",
    "\n",
    "df.head()"
   ]
  },
  {
   "cell_type": "code",
   "execution_count": null,
   "metadata": {
    "scrolled": true
   },
   "outputs": [],
   "source": [
    "df.columns"
   ]
  },
  {
   "cell_type": "markdown",
   "metadata": {},
   "source": [
    "# Funções "
   ]
  },
  {
   "cell_type": "code",
   "execution_count": null,
   "metadata": {},
   "outputs": [],
   "source": [
    "def subgrupo(x):\n",
    "    if x =='A':\n",
    "        return 0\n",
    "    if any((x =='B',x=='C',x=='D',x=='E')):\n",
    "        return 1\n",
    "    if any((x=='F',x=='G',x=='H',x=='I')):\n",
    "        return 2\n",
    "    if any((x=='J',x=='K',x=='L',x=='M')):\n",
    "        return 3\n",
    "    if any((x=='N',x=='O',x=='P',x=='Q')):\n",
    "        return 4\n",
    "    \n",
    "df['Subgrupo_Renda'] = df['Q006'].apply(subgrupo)\n",
    "\n",
    "\n",
    "def celular(x):\n",
    "    if x =='A':\n",
    "        return 'Sem Celular'\n",
    "    if x == 'B' or x =='C' or  x =='D' or  x =='E':\n",
    "        return 'Com Celular'\n",
    "\n",
    "df['Celular'] = df['Q022'].apply(celular)\n",
    "\n",
    "\n",
    "def computador(x):\n",
    "    if x == 'A':\n",
    "        return 'Sem Computador'\n",
    "    else:\n",
    "        return 'Com Computador'\n",
    "\n",
    "df['Computador'] = df['Q024'].apply(computador)\n",
    "\n",
    "\n",
    "def internet (x):\n",
    "    if x =='A':\n",
    "        return 'Sem Internet'\n",
    "    else:\n",
    "        return 'Com Internet'\n",
    "\n",
    "df['Internet'] = df['Q025'].apply(internet)\n"
   ]
  },
  {
   "cell_type": "code",
   "execution_count": null,
   "metadata": {},
   "outputs": [],
   "source": [
    "# \tNenhuma renda. 0\n",
    "# Vou comparar com o Q\n",
    "\n",
    "# B\tAté R$ 998,00\n",
    "# C\tDe R$ 998,01 até R$ 1.497,00.\n",
    "# D\tDe R$ 1.497,01 até R$ 1.996,00.\n",
    "# E\tDe R$ 1.996,01 até R$ 2.495,00.\n",
    "\n",
    "# F\tDe R$ 2.495,01 até R$ 2.994,00.\n",
    "# G\tDe R$ 2.994,01 até R$ 3.992,00.\n",
    "# H\tDe R$ 3.992,01 até R$ 4.990,00.\n",
    "# I\tDe R$ 4.990,01 até R$ 5.988,00.\n",
    "\n",
    "# J\tDe R$ 5.988,01 até R$ 6.986,00.\n",
    "# K\tDe R$ 6.986,01 até R$ 7.984,00.\n",
    "# L\tDe R$ 7.984,01 até R$ 8.982,00.\n",
    "# M\tDe R$ 8.982,01 até R$ 9.980,00.\n",
    "\n",
    "# N\tDe R$ 9.980,01 até R$ 11.976,00.\n",
    "# O\tDe R$ 11.976,01 até R$ 14.970,00.\n",
    "# P\tDe R$ 14.970,01 até R$ 19.960,00.\n",
    "# Q\tMais de R$ 19.960,00.\n",
    "\n",
    "\n",
    "#Dropei valores nulos, assim como a média, notas (pessoas que n compareceram, ou zeraram a redação)\n",
    "df = df.dropna()\n",
    "\n",
    "#media\n",
    "media = (df.NU_NOTA_CN+df.NU_NOTA_CH+df.NU_NOTA_LC+df.NU_NOTA_MT+df.NU_NOTA_REDACAO)/5\n",
    "df['media'] = media\n",
    "\n",
    "\n",
    "df.head(100)"
   ]
  },
  {
   "cell_type": "markdown",
   "metadata": {},
   "source": [
    "### GRÁFICO COMPARANDO OS SUBGRUPOS, ANALISANDO A RENDA MENSAL"
   ]
  },
  {
   "cell_type": "markdown",
   "metadata": {},
   "source": [
    "\n",
    "### Subgrupo 0\n",
    " Nenhuma renda\n",
    "\n",
    "### Subgrupo 1\n",
    "998,00 até 2495,00\n",
    "\n",
    "### Subgrupo 2\n",
    "2495,01 até 5988,00\n",
    "\n",
    "### Subgrupo 3\n",
    "5998,01 até 6986,00\n",
    "\n",
    "### Subgrupo 4\n",
    "Mais de 6986,00\n",
    "\n",
    "Valores em real\n",
    "\n"
   ]
  },
  {
   "cell_type": "code",
   "execution_count": null,
   "metadata": {},
   "outputs": [],
   "source": [
    "fig, ax = plt.subplots( figsize=(20, 10)) #cria uam figura com 1 linha, 2 colunas, de tamanho 20x10\n",
    "\n",
    "sns.set_style('dark')\n",
    "sns.set_context('talk')\n",
    "sns.kdeplot(\n",
    "   data=df, x=\"media\", hue=\"Subgrupo_Renda\",\n",
    "   fill=True, common_norm=False, palette=\"crest\",\n",
    "   alpha=.5, linewidth=0,\n",
    ")\n",
    "plt.show()"
   ]
  },
  {
   "cell_type": "markdown",
   "metadata": {},
   "source": [
    "### GRAFICO COMPARANDO PESSOAS COM OU SEM CELULAR (INTERNET INCLUSA)"
   ]
  },
  {
   "cell_type": "code",
   "execution_count": null,
   "metadata": {},
   "outputs": [],
   "source": [
    "fig, ax = plt.subplots( figsize=(20, 10)) #cria uam figura com 1 linha, 2 colunas, de tamanho 20x10\n",
    "cel_internet = df.loc[df['Q025'] == 'B']\n",
    "cel_internet\n",
    "\n",
    "sns.set_style('dark')\n",
    "sns.set_context('talk')\n",
    "\n",
    "sns.kdeplot(\n",
    "   data=cel_internet, x=\"media\", hue=\"Celular\",\n",
    "   fill=True, common_norm=False, palette=\"magma\",\n",
    "   alpha=.5, linewidth=0,\n",
    ")\n",
    "plt.show()"
   ]
  },
  {
   "cell_type": "markdown",
   "metadata": {},
   "source": [
    "### GRAFICO COMPARANDO PESSOAS COM OU SEM COMPUTADOR (INTERNET INCLUSA)"
   ]
  },
  {
   "cell_type": "code",
   "execution_count": null,
   "metadata": {},
   "outputs": [],
   "source": [
    "fig, ax = plt.subplots( figsize=(20, 10)) #cria uam figura com 1 linha, 2 colunas, de tamanho 20x10\n",
    "pc_internet = df.loc[df['Q025'] == 'B']\n",
    "pc_internet\n",
    "\n",
    "sns.set_style('dark')\n",
    "sns.set_context('talk')\n",
    "\n",
    "sns.kdeplot(\n",
    "   data=pc_internet, x=\"media\", hue=\"Computador\",\n",
    "   fill=True, common_norm=False, palette=\"viridis\",\n",
    "   alpha=.5, linewidth=0,\n",
    ")\n",
    "plt.show()"
   ]
  },
  {
   "cell_type": "code",
   "execution_count": null,
   "metadata": {},
   "outputs": [],
   "source": [
    "\n",
    "sns.set_style('dark')\n",
    "sns.set_context('talk')\n",
    "sns.displot(\n",
    "   data= pc_internet,x=\"media\", hue=\"Computador\",\n",
    "   fill=True, common_norm=False, palette=\"viridis\",\n",
    "   alpha=.5, linewidth=0,\n",
    "    \n",
    ")\n",
    "plt.show()"
   ]
  },
  {
   "cell_type": "markdown",
   "metadata": {},
   "source": [
    "# Gráfico pessoas com ou sem internet"
   ]
  },
  {
   "cell_type": "code",
   "execution_count": null,
   "metadata": {},
   "outputs": [],
   "source": [
    "fig, ax = plt.subplots( figsize=(20, 10)) #cria uam figura com 1 linha, 2 colunas, de tamanho 20x10\n",
    "\n",
    "sns.set_style('dark')\n",
    "sns.set_context('talk')\n",
    "sns.kdeplot(\n",
    "   data= df,x=\"media\", hue=\"Internet\",\n",
    "   fill=True, common_norm=False, palette=\"magma\",\n",
    "   alpha=.5, linewidth=0,\n",
    ")\n",
    "plt.show()"
   ]
  },
  {
   "cell_type": "code",
   "execution_count": null,
   "metadata": {},
   "outputs": [],
   "source": [
    "sns.set_style('dark')\n",
    "sns.set_context('talk')\n",
    "\n",
    "sns.displot(\n",
    "   data= df,x=\"media\", hue=\"Internet\",\n",
    "   fill=True, common_norm=False, palette=\"magma\",\n",
    "   alpha=.5, linewidth=0,\n",
    "     kde=False, bins= 20\n",
    ")\n",
    "plt.show()"
   ]
  },
  {
   "cell_type": "code",
   "execution_count": null,
   "metadata": {},
   "outputs": [],
   "source": [
    "# NU_NOTA_REDACAO\tNota da prova de redação\n",
    "# NU_NOTA_MT\tNota da prova de Matemática\n",
    "fig, ax = plt.subplots(figsize=(20, 10))\n",
    "sns.kdeplot(df.(media)['NU_NOTA_REDACAO'], ax=ax, shade=True, label='Female age') # plota a distribuiçao da coluna age entre as pessaos femininas\n",
    "sns.kdeplot(df.media['NU_NOTA_MT'], ax=ax, shade=True, label='Male age') #plota a distribuiçao da coluna age entre as pessoas masculinas\n",
    "ax.set_title('Distribuição das idades de acordo com o sexo') # coloca titulo\n",
    "plt.show()\n",
    "\n",
    "#df.query(\"Coluna == 'valor'\") ==> seleciona somente as linhas cujo valor da coluna é igual ao valor desejado\n"
   ]
  }
 ],
 "metadata": {
  "kernelspec": {
   "display_name": "Python 3",
   "language": "python",
   "name": "python3"
  },
  "language_info": {
   "codemirror_mode": {
    "name": "ipython",
    "version": 3
   },
   "file_extension": ".py",
   "mimetype": "text/x-python",
   "name": "python",
   "nbconvert_exporter": "python",
   "pygments_lexer": "ipython3",
   "version": "3.8.1"
  }
 },
 "nbformat": 4,
 "nbformat_minor": 4
}
