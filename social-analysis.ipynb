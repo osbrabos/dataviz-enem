{
 "cells": [
  {
   "cell_type": "markdown",
   "metadata": {},
   "source": [
    "# Análise com viés social do Exame Nacional do Ensino Médio 2019"
   ]
  },
  {
   "cell_type": "markdown",
   "metadata": {},
   "source": [
    "## Primeiros passos\n",
    "\n",
    "\n",
    "Vamos importar as bibliotecas que serão utilizadas no notebook."
   ]
  },
  {
   "cell_type": "code",
   "execution_count": 2,
   "metadata": {},
   "outputs": [],
   "source": [
    "import re\n",
    "import pandas as pd\n",
    "import random\n",
    "import matplotlib.pyplot as plt\n",
    "import seaborn as sns"
   ]
  },
  {
   "cell_type": "markdown",
   "metadata": {},
   "source": [
    "### Escolhendo os estilos para a visualização do dados\n",
    "\n",
    "Para visualizar melhor os dados utilizaremos o seguinte estilo:"
   ]
  },
  {
   "cell_type": "code",
   "execution_count": 3,
   "metadata": {},
   "outputs": [],
   "source": [
    "#Estilo escolhidos para os gráficos plotados\n",
    "sns.set_style('whitegrid')\n",
    "flatui = [\"#9b59b6\", \"#3498db\", \"#95a5a6\", \"#e74c3c\", \"#34495e\", \"#2ecc71\", \"#f5c740\"]\n",
    "sns.set_palette(flatui)"
   ]
  },
  {
   "cell_type": "markdown",
   "metadata": {},
   "source": [
    "Os microdados do ENEM têm aproximadamente 3 GB, tornando muito custoso o ato de carregar o conjunto de dados por inteiro na memória. Assim, selecionaremos aleatoriamente uma amostra de pouco mais de 50 mil usuários, o que representa cerca de 1% do total de alunos que realizaram o exame em 2019.\n",
    "\n",
    "Esse valor escolhido garante que, ainda após uma etapa futura quando removeremos algumas linhas, teremos uma amostra que apresenta 99% de grau de confiança e 0.7% de margem de erro."
   ]
  },
  {
   "cell_type": "code",
   "execution_count": 4,
   "metadata": {
    "scrolled": true
   },
   "outputs": [],
   "source": [
    "p = 0.01\n",
    "\n",
    "df = pd.read_csv(\n",
    "    'MICRODADOS_ENEM_2019.csv',\n",
    "    header=0,\n",
    "    encoding = \"ISO-8859-1\",\n",
    "    skiprows=lambda i: i > 0 and random.random() > p,\n",
    "    sep=';'\n",
    ")"
   ]
  },
  {
   "cell_type": "markdown",
   "metadata": {},
   "source": [
    "## Preparando os dados\n",
    "\n",
    "Feita as primeiras configurações, podemos agora começar o trabalho relacionado a preparação dos dados utilizados para gerar as visualizações desejadas. "
   ]
  },
  {
   "cell_type": "markdown",
   "metadata": {},
   "source": [
    "A fim de evitar uso desnecessário de memória e facilitar a visualização do DataFrame, vamos selecionar agora somente as colunas que podem ter algum uso nas etapas posteriores desse notebook."
   ]
  },
  {
   "cell_type": "code",
   "execution_count": 5,
   "metadata": {},
   "outputs": [],
   "source": [
    "selected_features = ['SG_UF_RESIDENCIA', 'TP_SEXO', 'IN_BAIXA_VISAO', 'IN_CEGUEIRA', 'IN_SURDEZ', 'IN_DEFICIENCIA_AUDITIVA', \n",
    "                     'IN_SURDO_CEGUEIRA','IN_DEFICIENCIA_FISICA', 'IN_DEFICIENCIA_MENTAL', \n",
    "                     'IN_DEFICIT_ATENCAO', 'IN_DISLEXIA', 'IN_DISCALCULIA', 'IN_AUTISMO', 'IN_VISAO_MONOCULAR', \n",
    "                     'IN_OUTRA_DEF','TP_COR_RACA', 'Q001', 'Q002', 'Q025', \n",
    "                     'NU_NOTA_LC', 'NU_NOTA_CH', 'NU_NOTA_CN', 'NU_NOTA_MT', 'NU_NOTA_REDACAO', 'NU_IDADE']\n",
    "\n",
    "df = df[selected_features].copy()"
   ]
  },
  {
   "cell_type": "markdown",
   "metadata": {},
   "source": [
    "Agora, iremos descartar os valores nulos captados acima."
   ]
  },
  {
   "cell_type": "code",
   "execution_count": 6,
   "metadata": {},
   "outputs": [
    {
     "data": {
      "text/plain": [
       "SG_UF_RESIDENCIA               0\n",
       "TP_SEXO                        0\n",
       "IN_BAIXA_VISAO                 0\n",
       "IN_CEGUEIRA                    0\n",
       "IN_SURDEZ                      0\n",
       "IN_DEFICIENCIA_AUDITIVA        0\n",
       "IN_SURDO_CEGUEIRA              0\n",
       "IN_DEFICIENCIA_FISICA          0\n",
       "IN_DEFICIENCIA_MENTAL          0\n",
       "IN_DEFICIT_ATENCAO             0\n",
       "IN_DISLEXIA                    0\n",
       "IN_DISCALCULIA                 0\n",
       "IN_AUTISMO                     0\n",
       "IN_VISAO_MONOCULAR             0\n",
       "IN_OUTRA_DEF                   0\n",
       "TP_COR_RACA                    0\n",
       "Q001                           0\n",
       "Q002                           0\n",
       "Q025                           0\n",
       "NU_NOTA_LC                 11688\n",
       "NU_NOTA_CH                 11688\n",
       "NU_NOTA_CN                 13863\n",
       "NU_NOTA_MT                 13863\n",
       "NU_NOTA_REDACAO            11688\n",
       "NU_IDADE                       0\n",
       "dtype: int64"
      ]
     },
     "execution_count": 6,
     "metadata": {},
     "output_type": "execute_result"
    }
   ],
   "source": [
    "df.isnull().sum()"
   ]
  },
  {
   "cell_type": "code",
   "execution_count": 7,
   "metadata": {},
   "outputs": [
    {
     "name": "stdout",
     "output_type": "stream",
     "text": [
      "Quantidade original de linhas: 50623\n",
      "Quantidade final de linhas: 36688\n"
     ]
    }
   ],
   "source": [
    "print(f'Quantidade original de linhas: {df.shape[0]}')\n",
    "df.dropna(inplace=True)\n",
    "print(f'Quantidade final de linhas: {df.shape[0]}')"
   ]
  },
  {
   "cell_type": "markdown",
   "metadata": {},
   "source": [
    "Agora podemos criar uma nova coluna chamada \"media_geral\", que é a soma de todas as áreas de conhecimento mais a redação divida por 5. Essa é uma coluna muito importante para nos ajudar no desenvolver desta análise."
   ]
  },
  {
   "cell_type": "code",
   "execution_count": 8,
   "metadata": {},
   "outputs": [],
   "source": [
    "#Criando uma nova coluna chamada: Média Geral.\n",
    "df['media_geral'] = df[['NU_NOTA_LC','NU_NOTA_CH','NU_NOTA_CN','NU_NOTA_MT','NU_NOTA_REDACAO']].sum(axis=1)/5"
   ]
  },
  {
   "cell_type": "markdown",
   "metadata": {},
   "source": [
    "__________________________________________________________________________________________________________________\n",
    "Existem algumas colunas que nos dão os dados de forma numérica ou alfanumérica, e um importante passo que podemos utilizar é a substituição dos valores originais por valor mais explicativos.\n",
    "\n",
    "Portanto, com o auxílio do dicionário de features fornecido pelo INEP, vamos realizar as substituições necessárias nas colunas que parecem ser interessantes para nosso trabalho."
   ]
  },
  {
   "cell_type": "code",
   "execution_count": 9,
   "metadata": {},
   "outputs": [],
   "source": [
    "df['TP_COR_RACA']=df['TP_COR_RACA'].replace({0:'Não decladado',\n",
    "                                             1:'Branca',\n",
    "                                             2:'Preta',\n",
    "                                             3:'Parda',\n",
    "                                             4:'Amarela',\n",
    "                                             5:'Indigena'})"
   ]
  },
  {
   "cell_type": "code",
   "execution_count": 10,
   "metadata": {},
   "outputs": [],
   "source": [
    "df['Q001'].replace({'A': 'Nunca estudou',\n",
    "                    'B': 'Fund. incompleto',\n",
    "                    'C': 'Fund. incompleto', \n",
    "                    'D': 'Medio incompleto',\n",
    "                    'E': 'Medio completo',\n",
    "                    'F': 'Superior completo',\n",
    "                    'G': 'Pós graduação',\n",
    "                    'H': 'Não sabe'}, inplace=True)\n",
    "\n",
    "df['Q002'].replace({'A': 'Nunca estudou',\n",
    "                    'B': 'Fund. incompleto',\n",
    "                    'C': 'Fund. incompleto', \n",
    "                    'D': 'Medio incompleto',\n",
    "                    'E': 'Medio completo',\n",
    "                    'F': 'Superior completo',\n",
    "                    'G': 'Pós graduação',\n",
    "                    'H': 'Não sabe'}, inplace=True)\n",
    "\n",
    "df['Q025'].replace({'A': 'Nao',\n",
    "                    'B': 'Sim'}, inplace=True)"
   ]
  },
  {
   "cell_type": "markdown",
   "metadata": {},
   "source": [
    "Vamos criar uma nova coluna chamada \"REGIAO\", a qual vai nos ajudar a analisar notas por determinadas regiões do Brasil e conhecer as características de cada uma delas."
   ]
  },
  {
   "cell_type": "code",
   "execution_count": 11,
   "metadata": {},
   "outputs": [],
   "source": [
    "def REGIAO(x):\n",
    "    if any((x =='MT',x=='MS',x=='GO',x=='DF')):\n",
    "        return 'CENTRO-OESTE'\n",
    "    if any((x=='AM',x=='PA',x=='AC',x=='RO',x=='RR',x=='AP',x=='TO')):\n",
    "        return 'NORTE'\n",
    "    if any((x=='MA',x=='PI',x=='CE',x=='RN',x=='PB',x=='PE',x=='AL',x=='SE',x=='BA')):\n",
    "        return 'NORDESTE'\n",
    "    if any((x=='MG',x=='SP',x=='RJ',x=='ES')):\n",
    "        return 'SUDESTE'\n",
    "    if any((x=='PR',x=='SC',x=='RS')):\n",
    "        return 'SUL'\n",
    "\n",
    "\n",
    "df['REGIAO'] = df['SG_UF_RESIDENCIA'].apply(REGIAO)"
   ]
  },
  {
   "cell_type": "markdown",
   "metadata": {},
   "source": [
    "A fim de agrupar grupos que são pouco representativos ao longo da nossa amostra, vamos juntar todas as colunas que informam se o candidato possui algum tipo de deficiência em uma única só. Para isso, basta somar horizontalmente os valores booleanos originalmente contidos nessas colunas e aplicar uma função que retorna True caso essa soma seja maior ou igual a 1 e False para o caso contrário."
   ]
  },
  {
   "cell_type": "code",
   "execution_count": 16,
   "metadata": {},
   "outputs": [],
   "source": [
    "deficiency = ['IN_BAIXA_VISAO', 'IN_CEGUEIRA', 'IN_SURDEZ', 'IN_DEFICIENCIA_AUDITIVA', 'IN_SURDO_CEGUEIRA','IN_DEFICIENCIA_FISICA', 'IN_DEFICIENCIA_MENTAL', 'IN_DEFICIT_ATENCAO', 'IN_DISLEXIA', 'IN_DISCALCULIA', 'IN_AUTISMO', 'IN_VISAO_MONOCULAR', 'IN_OUTRA_DEF']\n",
    "df['TP_PCD'] = df[deficiency].sum(axis=1).apply(lambda x: x>=1)\n",
    "df['TP_PCD'].replace({True: 'Sim',\n",
    "                      False: 'Não'}, inplace=True)"
   ]
  },
  {
   "cell_type": "code",
   "execution_count": 21,
   "metadata": {},
   "outputs": [],
   "source": [
    "df.drop(columns=['IN_BAIXA_VISAO', 'IN_CEGUEIRA', 'IN_SURDEZ', 'IN_DEFICIENCIA_AUDITIVA', \n",
    "                     'IN_SURDO_CEGUEIRA','IN_DEFICIENCIA_FISICA', 'IN_DEFICIENCIA_MENTAL', \n",
    "                     'IN_DEFICIT_ATENCAO', 'IN_DISLEXIA', 'IN_DISCALCULIA', 'IN_AUTISMO', 'IN_VISAO_MONOCULAR', \n",
    "                     'IN_OUTRA_DEF'], inplace=True)"
   ]
  },
  {
   "cell_type": "markdown",
   "metadata": {},
   "source": [
    "Veremos abaixo que as novas colunas foram criadas e os valores originais foram trocados"
   ]
  },
  {
   "cell_type": "code",
   "execution_count": 22,
   "metadata": {
    "scrolled": false
   },
   "outputs": [
    {
     "data": {
      "text/html": [
       "<div>\n",
       "<style scoped>\n",
       "    .dataframe tbody tr th:only-of-type {\n",
       "        vertical-align: middle;\n",
       "    }\n",
       "\n",
       "    .dataframe tbody tr th {\n",
       "        vertical-align: top;\n",
       "    }\n",
       "\n",
       "    .dataframe thead th {\n",
       "        text-align: right;\n",
       "    }\n",
       "</style>\n",
       "<table border=\"1\" class=\"dataframe\">\n",
       "  <thead>\n",
       "    <tr style=\"text-align: right;\">\n",
       "      <th></th>\n",
       "      <th>SG_UF_RESIDENCIA</th>\n",
       "      <th>TP_SEXO</th>\n",
       "      <th>TP_COR_RACA</th>\n",
       "      <th>Q001</th>\n",
       "      <th>Q002</th>\n",
       "      <th>Q025</th>\n",
       "      <th>NU_NOTA_LC</th>\n",
       "      <th>NU_NOTA_CH</th>\n",
       "      <th>NU_NOTA_CN</th>\n",
       "      <th>NU_NOTA_MT</th>\n",
       "      <th>NU_NOTA_REDACAO</th>\n",
       "      <th>NU_IDADE</th>\n",
       "      <th>media_geral</th>\n",
       "      <th>REGIAO</th>\n",
       "      <th>TP_PCD</th>\n",
       "      <th>RANKING</th>\n",
       "    </tr>\n",
       "  </thead>\n",
       "  <tbody>\n",
       "    <tr>\n",
       "      <th>16727</th>\n",
       "      <td>RN</td>\n",
       "      <td>M</td>\n",
       "      <td>Branca</td>\n",
       "      <td>Pós graduação</td>\n",
       "      <td>Superior completo</td>\n",
       "      <td>Sim</td>\n",
       "      <td>640.1</td>\n",
       "      <td>743.8</td>\n",
       "      <td>800.7</td>\n",
       "      <td>931.5</td>\n",
       "      <td>960.0</td>\n",
       "      <td>17</td>\n",
       "      <td>815.22</td>\n",
       "      <td>NORDESTE</td>\n",
       "      <td>Não</td>\n",
       "      <td>1%</td>\n",
       "    </tr>\n",
       "    <tr>\n",
       "      <th>30252</th>\n",
       "      <td>PR</td>\n",
       "      <td>M</td>\n",
       "      <td>Branca</td>\n",
       "      <td>Pós graduação</td>\n",
       "      <td>Pós graduação</td>\n",
       "      <td>Sim</td>\n",
       "      <td>660.1</td>\n",
       "      <td>715.2</td>\n",
       "      <td>756.9</td>\n",
       "      <td>942.8</td>\n",
       "      <td>940.0</td>\n",
       "      <td>17</td>\n",
       "      <td>803.00</td>\n",
       "      <td>SUL</td>\n",
       "      <td>Não</td>\n",
       "      <td>1%</td>\n",
       "    </tr>\n",
       "    <tr>\n",
       "      <th>8135</th>\n",
       "      <td>SP</td>\n",
       "      <td>M</td>\n",
       "      <td>Branca</td>\n",
       "      <td>Pós graduação</td>\n",
       "      <td>Superior completo</td>\n",
       "      <td>Sim</td>\n",
       "      <td>670.0</td>\n",
       "      <td>686.9</td>\n",
       "      <td>764.2</td>\n",
       "      <td>950.1</td>\n",
       "      <td>940.0</td>\n",
       "      <td>19</td>\n",
       "      <td>802.24</td>\n",
       "      <td>SUDESTE</td>\n",
       "      <td>Não</td>\n",
       "      <td>1%</td>\n",
       "    </tr>\n",
       "    <tr>\n",
       "      <th>14160</th>\n",
       "      <td>SP</td>\n",
       "      <td>M</td>\n",
       "      <td>Branca</td>\n",
       "      <td>Superior completo</td>\n",
       "      <td>Superior completo</td>\n",
       "      <td>Sim</td>\n",
       "      <td>649.3</td>\n",
       "      <td>707.5</td>\n",
       "      <td>748.9</td>\n",
       "      <td>944.5</td>\n",
       "      <td>960.0</td>\n",
       "      <td>17</td>\n",
       "      <td>802.04</td>\n",
       "      <td>SUDESTE</td>\n",
       "      <td>Não</td>\n",
       "      <td>1%</td>\n",
       "    </tr>\n",
       "    <tr>\n",
       "      <th>1228</th>\n",
       "      <td>PI</td>\n",
       "      <td>F</td>\n",
       "      <td>Branca</td>\n",
       "      <td>Medio completo</td>\n",
       "      <td>Pós graduação</td>\n",
       "      <td>Sim</td>\n",
       "      <td>647.8</td>\n",
       "      <td>712.1</td>\n",
       "      <td>739.8</td>\n",
       "      <td>930.1</td>\n",
       "      <td>980.0</td>\n",
       "      <td>18</td>\n",
       "      <td>801.96</td>\n",
       "      <td>NORDESTE</td>\n",
       "      <td>Não</td>\n",
       "      <td>1%</td>\n",
       "    </tr>\n",
       "  </tbody>\n",
       "</table>\n",
       "</div>"
      ],
      "text/plain": [
       "      SG_UF_RESIDENCIA TP_SEXO TP_COR_RACA               Q001  \\\n",
       "16727               RN       M      Branca      Pós graduação   \n",
       "30252               PR       M      Branca      Pós graduação   \n",
       "8135                SP       M      Branca      Pós graduação   \n",
       "14160               SP       M      Branca  Superior completo   \n",
       "1228                PI       F      Branca     Medio completo   \n",
       "\n",
       "                    Q002 Q025  NU_NOTA_LC  NU_NOTA_CH  NU_NOTA_CN  NU_NOTA_MT  \\\n",
       "16727  Superior completo  Sim       640.1       743.8       800.7       931.5   \n",
       "30252      Pós graduação  Sim       660.1       715.2       756.9       942.8   \n",
       "8135   Superior completo  Sim       670.0       686.9       764.2       950.1   \n",
       "14160  Superior completo  Sim       649.3       707.5       748.9       944.5   \n",
       "1228       Pós graduação  Sim       647.8       712.1       739.8       930.1   \n",
       "\n",
       "       NU_NOTA_REDACAO  NU_IDADE  media_geral    REGIAO TP_PCD RANKING  \n",
       "16727            960.0        17       815.22  NORDESTE    Não      1%  \n",
       "30252            940.0        17       803.00       SUL    Não      1%  \n",
       "8135             940.0        19       802.24   SUDESTE    Não      1%  \n",
       "14160            960.0        17       802.04   SUDESTE    Não      1%  \n",
       "1228             980.0        18       801.96  NORDESTE    Não      1%  "
      ]
     },
     "execution_count": 22,
     "metadata": {},
     "output_type": "execute_result"
    }
   ],
   "source": [
    "df.head()"
   ]
  },
  {
   "cell_type": "markdown",
   "metadata": {},
   "source": [
    "Queremos então comparar a distribuição dos fatores entre as 1% melhores notas e as demais. \n",
    "A fim de fazer isso, vamos ordernar o dataset com base na recém criada coluna \"media_geral\"."
   ]
  },
  {
   "cell_type": "code",
   "execution_count": 23,
   "metadata": {
    "scrolled": true
   },
   "outputs": [
    {
     "data": {
      "text/html": [
       "<div>\n",
       "<style scoped>\n",
       "    .dataframe tbody tr th:only-of-type {\n",
       "        vertical-align: middle;\n",
       "    }\n",
       "\n",
       "    .dataframe tbody tr th {\n",
       "        vertical-align: top;\n",
       "    }\n",
       "\n",
       "    .dataframe thead th {\n",
       "        text-align: right;\n",
       "    }\n",
       "</style>\n",
       "<table border=\"1\" class=\"dataframe\">\n",
       "  <thead>\n",
       "    <tr style=\"text-align: right;\">\n",
       "      <th></th>\n",
       "      <th>SG_UF_RESIDENCIA</th>\n",
       "      <th>TP_SEXO</th>\n",
       "      <th>TP_COR_RACA</th>\n",
       "      <th>Q001</th>\n",
       "      <th>Q002</th>\n",
       "      <th>Q025</th>\n",
       "      <th>NU_NOTA_LC</th>\n",
       "      <th>NU_NOTA_CH</th>\n",
       "      <th>NU_NOTA_CN</th>\n",
       "      <th>NU_NOTA_MT</th>\n",
       "      <th>NU_NOTA_REDACAO</th>\n",
       "      <th>NU_IDADE</th>\n",
       "      <th>media_geral</th>\n",
       "      <th>REGIAO</th>\n",
       "      <th>TP_PCD</th>\n",
       "      <th>RANKING</th>\n",
       "    </tr>\n",
       "  </thead>\n",
       "  <tbody>\n",
       "    <tr>\n",
       "      <th>16727</th>\n",
       "      <td>RN</td>\n",
       "      <td>M</td>\n",
       "      <td>Branca</td>\n",
       "      <td>Pós graduação</td>\n",
       "      <td>Superior completo</td>\n",
       "      <td>Sim</td>\n",
       "      <td>640.1</td>\n",
       "      <td>743.8</td>\n",
       "      <td>800.7</td>\n",
       "      <td>931.5</td>\n",
       "      <td>960.0</td>\n",
       "      <td>17</td>\n",
       "      <td>815.22</td>\n",
       "      <td>NORDESTE</td>\n",
       "      <td>Não</td>\n",
       "      <td>1%</td>\n",
       "    </tr>\n",
       "    <tr>\n",
       "      <th>30252</th>\n",
       "      <td>PR</td>\n",
       "      <td>M</td>\n",
       "      <td>Branca</td>\n",
       "      <td>Pós graduação</td>\n",
       "      <td>Pós graduação</td>\n",
       "      <td>Sim</td>\n",
       "      <td>660.1</td>\n",
       "      <td>715.2</td>\n",
       "      <td>756.9</td>\n",
       "      <td>942.8</td>\n",
       "      <td>940.0</td>\n",
       "      <td>17</td>\n",
       "      <td>803.00</td>\n",
       "      <td>SUL</td>\n",
       "      <td>Não</td>\n",
       "      <td>1%</td>\n",
       "    </tr>\n",
       "    <tr>\n",
       "      <th>8135</th>\n",
       "      <td>SP</td>\n",
       "      <td>M</td>\n",
       "      <td>Branca</td>\n",
       "      <td>Pós graduação</td>\n",
       "      <td>Superior completo</td>\n",
       "      <td>Sim</td>\n",
       "      <td>670.0</td>\n",
       "      <td>686.9</td>\n",
       "      <td>764.2</td>\n",
       "      <td>950.1</td>\n",
       "      <td>940.0</td>\n",
       "      <td>19</td>\n",
       "      <td>802.24</td>\n",
       "      <td>SUDESTE</td>\n",
       "      <td>Não</td>\n",
       "      <td>1%</td>\n",
       "    </tr>\n",
       "    <tr>\n",
       "      <th>14160</th>\n",
       "      <td>SP</td>\n",
       "      <td>M</td>\n",
       "      <td>Branca</td>\n",
       "      <td>Superior completo</td>\n",
       "      <td>Superior completo</td>\n",
       "      <td>Sim</td>\n",
       "      <td>649.3</td>\n",
       "      <td>707.5</td>\n",
       "      <td>748.9</td>\n",
       "      <td>944.5</td>\n",
       "      <td>960.0</td>\n",
       "      <td>17</td>\n",
       "      <td>802.04</td>\n",
       "      <td>SUDESTE</td>\n",
       "      <td>Não</td>\n",
       "      <td>1%</td>\n",
       "    </tr>\n",
       "    <tr>\n",
       "      <th>1228</th>\n",
       "      <td>PI</td>\n",
       "      <td>F</td>\n",
       "      <td>Branca</td>\n",
       "      <td>Medio completo</td>\n",
       "      <td>Pós graduação</td>\n",
       "      <td>Sim</td>\n",
       "      <td>647.8</td>\n",
       "      <td>712.1</td>\n",
       "      <td>739.8</td>\n",
       "      <td>930.1</td>\n",
       "      <td>980.0</td>\n",
       "      <td>18</td>\n",
       "      <td>801.96</td>\n",
       "      <td>NORDESTE</td>\n",
       "      <td>Não</td>\n",
       "      <td>1%</td>\n",
       "    </tr>\n",
       "  </tbody>\n",
       "</table>\n",
       "</div>"
      ],
      "text/plain": [
       "      SG_UF_RESIDENCIA TP_SEXO TP_COR_RACA               Q001  \\\n",
       "16727               RN       M      Branca      Pós graduação   \n",
       "30252               PR       M      Branca      Pós graduação   \n",
       "8135                SP       M      Branca      Pós graduação   \n",
       "14160               SP       M      Branca  Superior completo   \n",
       "1228                PI       F      Branca     Medio completo   \n",
       "\n",
       "                    Q002 Q025  NU_NOTA_LC  NU_NOTA_CH  NU_NOTA_CN  NU_NOTA_MT  \\\n",
       "16727  Superior completo  Sim       640.1       743.8       800.7       931.5   \n",
       "30252      Pós graduação  Sim       660.1       715.2       756.9       942.8   \n",
       "8135   Superior completo  Sim       670.0       686.9       764.2       950.1   \n",
       "14160  Superior completo  Sim       649.3       707.5       748.9       944.5   \n",
       "1228       Pós graduação  Sim       647.8       712.1       739.8       930.1   \n",
       "\n",
       "       NU_NOTA_REDACAO  NU_IDADE  media_geral    REGIAO TP_PCD RANKING  \n",
       "16727            960.0        17       815.22  NORDESTE    Não      1%  \n",
       "30252            940.0        17       803.00       SUL    Não      1%  \n",
       "8135             940.0        19       802.24   SUDESTE    Não      1%  \n",
       "14160            960.0        17       802.04   SUDESTE    Não      1%  \n",
       "1228             980.0        18       801.96  NORDESTE    Não      1%  "
      ]
     },
     "execution_count": 23,
     "metadata": {},
     "output_type": "execute_result"
    }
   ],
   "source": [
    "df.sort_values(by=['media_geral'], ascending=False, inplace=True)\n",
    "df.head()"
   ]
  },
  {
   "cell_type": "markdown",
   "metadata": {},
   "source": [
    "Agora, vamos selecionar os candidatos com as notas entre o primeiro centil, ou seja, que estão as 1% melhores notas. Para isso, podemos resetar o índice e atribuir True ou False para os casos que estão, respectivamente, entre as 1% das primeiras linhas.\n",
    "\n",
    "Depois, vamos manter a ideia de manter valores representativos e substituir esses valores booleanos gerados."
   ]
  },
  {
   "cell_type": "code",
   "execution_count": 24,
   "metadata": {
    "scrolled": true
   },
   "outputs": [
    {
     "data": {
      "text/html": [
       "<div>\n",
       "<style scoped>\n",
       "    .dataframe tbody tr th:only-of-type {\n",
       "        vertical-align: middle;\n",
       "    }\n",
       "\n",
       "    .dataframe tbody tr th {\n",
       "        vertical-align: top;\n",
       "    }\n",
       "\n",
       "    .dataframe thead th {\n",
       "        text-align: right;\n",
       "    }\n",
       "</style>\n",
       "<table border=\"1\" class=\"dataframe\">\n",
       "  <thead>\n",
       "    <tr style=\"text-align: right;\">\n",
       "      <th></th>\n",
       "      <th>SG_UF_RESIDENCIA</th>\n",
       "      <th>TP_SEXO</th>\n",
       "      <th>TP_COR_RACA</th>\n",
       "      <th>Q001</th>\n",
       "      <th>Q002</th>\n",
       "      <th>Q025</th>\n",
       "      <th>NU_NOTA_LC</th>\n",
       "      <th>NU_NOTA_CH</th>\n",
       "      <th>NU_NOTA_CN</th>\n",
       "      <th>NU_NOTA_MT</th>\n",
       "      <th>NU_NOTA_REDACAO</th>\n",
       "      <th>NU_IDADE</th>\n",
       "      <th>media_geral</th>\n",
       "      <th>REGIAO</th>\n",
       "      <th>TP_PCD</th>\n",
       "      <th>RANKING</th>\n",
       "    </tr>\n",
       "  </thead>\n",
       "  <tbody>\n",
       "    <tr>\n",
       "      <th>16727</th>\n",
       "      <td>RN</td>\n",
       "      <td>M</td>\n",
       "      <td>Branca</td>\n",
       "      <td>Pós graduação</td>\n",
       "      <td>Superior completo</td>\n",
       "      <td>Sim</td>\n",
       "      <td>640.1</td>\n",
       "      <td>743.8</td>\n",
       "      <td>800.7</td>\n",
       "      <td>931.5</td>\n",
       "      <td>960.0</td>\n",
       "      <td>17</td>\n",
       "      <td>815.22</td>\n",
       "      <td>NORDESTE</td>\n",
       "      <td>Não</td>\n",
       "      <td>1%</td>\n",
       "    </tr>\n",
       "    <tr>\n",
       "      <th>30252</th>\n",
       "      <td>PR</td>\n",
       "      <td>M</td>\n",
       "      <td>Branca</td>\n",
       "      <td>Pós graduação</td>\n",
       "      <td>Pós graduação</td>\n",
       "      <td>Sim</td>\n",
       "      <td>660.1</td>\n",
       "      <td>715.2</td>\n",
       "      <td>756.9</td>\n",
       "      <td>942.8</td>\n",
       "      <td>940.0</td>\n",
       "      <td>17</td>\n",
       "      <td>803.00</td>\n",
       "      <td>SUL</td>\n",
       "      <td>Não</td>\n",
       "      <td>1%</td>\n",
       "    </tr>\n",
       "    <tr>\n",
       "      <th>8135</th>\n",
       "      <td>SP</td>\n",
       "      <td>M</td>\n",
       "      <td>Branca</td>\n",
       "      <td>Pós graduação</td>\n",
       "      <td>Superior completo</td>\n",
       "      <td>Sim</td>\n",
       "      <td>670.0</td>\n",
       "      <td>686.9</td>\n",
       "      <td>764.2</td>\n",
       "      <td>950.1</td>\n",
       "      <td>940.0</td>\n",
       "      <td>19</td>\n",
       "      <td>802.24</td>\n",
       "      <td>SUDESTE</td>\n",
       "      <td>Não</td>\n",
       "      <td>1%</td>\n",
       "    </tr>\n",
       "    <tr>\n",
       "      <th>14160</th>\n",
       "      <td>SP</td>\n",
       "      <td>M</td>\n",
       "      <td>Branca</td>\n",
       "      <td>Superior completo</td>\n",
       "      <td>Superior completo</td>\n",
       "      <td>Sim</td>\n",
       "      <td>649.3</td>\n",
       "      <td>707.5</td>\n",
       "      <td>748.9</td>\n",
       "      <td>944.5</td>\n",
       "      <td>960.0</td>\n",
       "      <td>17</td>\n",
       "      <td>802.04</td>\n",
       "      <td>SUDESTE</td>\n",
       "      <td>Não</td>\n",
       "      <td>1%</td>\n",
       "    </tr>\n",
       "    <tr>\n",
       "      <th>1228</th>\n",
       "      <td>PI</td>\n",
       "      <td>F</td>\n",
       "      <td>Branca</td>\n",
       "      <td>Medio completo</td>\n",
       "      <td>Pós graduação</td>\n",
       "      <td>Sim</td>\n",
       "      <td>647.8</td>\n",
       "      <td>712.1</td>\n",
       "      <td>739.8</td>\n",
       "      <td>930.1</td>\n",
       "      <td>980.0</td>\n",
       "      <td>18</td>\n",
       "      <td>801.96</td>\n",
       "      <td>NORDESTE</td>\n",
       "      <td>Não</td>\n",
       "      <td>1%</td>\n",
       "    </tr>\n",
       "  </tbody>\n",
       "</table>\n",
       "</div>"
      ],
      "text/plain": [
       "      SG_UF_RESIDENCIA TP_SEXO TP_COR_RACA               Q001  \\\n",
       "16727               RN       M      Branca      Pós graduação   \n",
       "30252               PR       M      Branca      Pós graduação   \n",
       "8135                SP       M      Branca      Pós graduação   \n",
       "14160               SP       M      Branca  Superior completo   \n",
       "1228                PI       F      Branca     Medio completo   \n",
       "\n",
       "                    Q002 Q025  NU_NOTA_LC  NU_NOTA_CH  NU_NOTA_CN  NU_NOTA_MT  \\\n",
       "16727  Superior completo  Sim       640.1       743.8       800.7       931.5   \n",
       "30252      Pós graduação  Sim       660.1       715.2       756.9       942.8   \n",
       "8135   Superior completo  Sim       670.0       686.9       764.2       950.1   \n",
       "14160  Superior completo  Sim       649.3       707.5       748.9       944.5   \n",
       "1228       Pós graduação  Sim       647.8       712.1       739.8       930.1   \n",
       "\n",
       "       NU_NOTA_REDACAO  NU_IDADE  media_geral    REGIAO TP_PCD RANKING  \n",
       "16727            960.0        17       815.22  NORDESTE    Não      1%  \n",
       "30252            940.0        17       803.00       SUL    Não      1%  \n",
       "8135             940.0        19       802.24   SUDESTE    Não      1%  \n",
       "14160            960.0        17       802.04   SUDESTE    Não      1%  \n",
       "1228             980.0        18       801.96  NORDESTE    Não      1%  "
      ]
     },
     "execution_count": 24,
     "metadata": {},
     "output_type": "execute_result"
    }
   ],
   "source": [
    "df['RANKING'] = df.reset_index().drop(columns='index').index.to_numpy() < 1000\n",
    "df['RANKING'].replace({True:  '1%',\n",
    "                        False: '99%'}, inplace=True)\n",
    "df.head()"
   ]
  },
  {
   "cell_type": "markdown",
   "metadata": {},
   "source": [
    "## Visualização de Dados"
   ]
  },
  {
   "cell_type": "markdown",
   "metadata": {},
   "source": [
    "Chegamos a parte na qual iremos visualizar de fato os dados graficamente, com as bibliotecas, estilos de gráficos e paletas de cores escolhidas no inicio deste projeto."
   ]
  },
  {
   "cell_type": "markdown",
   "metadata": {},
   "source": [
    "Para iniciarmos de fato, acho interessante vermos o número de mulheres e homens, que fizeram o exame, assim como suas idades (o que pode ser relevante também), para posteriormente analisarmos suas notas, de acordo com cor/raça, região do brasil, por grau de instrução dos parentes e condições de acesso a internet."
   ]
  },
  {
   "cell_type": "code",
   "execution_count": 25,
   "metadata": {
    "scrolled": false
   },
   "outputs": [
    {
     "data": {
      "image/png": "[encoded data removed]",
      "text/plain": [
       "<Figure size 1440x720 with 1 Axes>"
      ]
     },
     "metadata": {},
     "output_type": "display_data"
    }
   ],
   "source": [
    "fig, ax = plt.subplots( figsize=(20, 10))\n",
    "sns.histplot(\n",
    "    data=df, x=\"NU_IDADE\", hue=\"TP_SEXO\",\n",
    "   fill=True, common_norm=False, palette=\"mako\",\n",
    "   alpha=.5, binwidth=2,\n",
    ")\n",
    "ax.set_title('Distribuição das idades de acordo com o sexo'),\n",
    "plt.show()"
   ]
  },
  {
   "cell_type": "markdown",
   "metadata": {},
   "source": [
    "Como podemos observar acima, é evidente que a quantidade de mulheres que fazemos o exame é maior que a de homens, e em sua maioria de ambos os sexos são jovens entre 15 e 25 anos de idade."
   ]
  },
  {
   "cell_type": "markdown",
   "metadata": {},
   "source": [
    "Abaixo podemos ver mais detalhadamente separado por cada região e suas respectivas quantidades do lado esquerdo do gráfico."
   ]
  },
  {
   "cell_type": "code",
   "execution_count": 26,
   "metadata": {
    "scrolled": false
   },
   "outputs": [
    {
     "data": {
      "image/png": "[encoded data removed]",
      "text/plain": [
       "<Figure size 1440x720 with 6 Axes>"
      ]
     },
     "metadata": {},
     "output_type": "display_data"
    }
   ],
   "source": [
    "fig, ax = plt.subplots( 2,3, figsize=(20, 10))\n",
    "sns.countplot(\n",
    "   data=df.query(\"REGIAO == 'NORDESTE'\"), x=\"TP_SEXO\", hue=\"REGIAO\",\n",
    "   palette=\"tab10\",\n",
    "   alpha=.5, linewidth=0,\n",
    "    ax=ax[0,0]\n",
    ")\n",
    "\n",
    "\n",
    "sns.countplot(\n",
    "   data=df.query(\"REGIAO == 'SUDESTE'\"), x=\"TP_SEXO\", hue=\"REGIAO\",\n",
    "   palette=\"tab10\",\n",
    "   alpha=.5, linewidth=0,\n",
    "    ax=ax[0,1]\n",
    ")\n",
    "    \n",
    "sns.countplot(\n",
    "   data=df.query(\"REGIAO == 'NORTE'\"), x=\"TP_SEXO\", hue=\"REGIAO\",\n",
    "   palette=\"tab10\",\n",
    "   alpha=.5, linewidth=0,\n",
    "    ax=ax[0,2]\n",
    ")\n",
    "\n",
    "sns.countplot(\n",
    "   data=df.query(\"REGIAO == 'CENTRO-OESTE'\"), x=\"TP_SEXO\", hue=\"REGIAO\",\n",
    "   palette=\"tab10\",\n",
    "   alpha=.5, linewidth=0,\n",
    "    ax=ax[1,0]\n",
    ")\n",
    "\n",
    "sns.countplot(\n",
    "   data=df.query(\"REGIAO == 'SUL'\"), x=\"TP_SEXO\", hue=\"REGIAO\",\n",
    "   palette=\"tab10\",\n",
    "   alpha=.5, linewidth=0,\n",
    "    ax=ax[1,1]\n",
    ")\n",
    "\n",
    "plt.show()"
   ]
  },
  {
   "cell_type": "markdown",
   "metadata": {},
   "source": [
    "Vamos criar um função que ajudara a compararmos os dados que queremos analisar com as melhores notas obtidas, para fins de avaliação e análise social dos períodos atuais da educação brasileira no geral."
   ]
  },
  {
   "cell_type": "code",
   "execution_count": 27,
   "metadata": {},
   "outputs": [],
   "source": [
    "def compare_distribution(column, chart_title, legend_title):\n",
    "    fig, ax = plt.subplots(figsize=(15, 3)) \n",
    "    ax.set_title(chart_title) \n",
    "    sns.histplot(df, y=\"RANKING\", hue=column, stat=\"probability\", multiple=\"fill\", shrink=0.8, ax=ax, edgecolor=\"none\")\n",
    "    \n",
    "    sns.despine(left=True, bottom=True)\n",
    "    \n",
    "    ax.set_ylabel('') \n",
    "    ax.set_xlabel('Distribuição') \n",
    "    \n",
    "    legends = re.findall(r\"'(.*?)'\", str(list(ax.get_legend().get_texts())))\n",
    "    legends.reverse()\n",
    "    plt.legend(legends, title=legend_title,bbox_to_anchor=(0.5,-0.2), loc='upper center', ncol=3)\n",
    "    plt.show()"
   ]
  },
  {
   "cell_type": "markdown",
   "metadata": {},
   "source": [
    "Vamos então ver a representatividade feminina e masculina de acordo com suas médias usando outra representação gráfica:"
   ]
  },
  {
   "cell_type": "code",
   "execution_count": 28,
   "metadata": {
    "scrolled": true
   },
   "outputs": [
    {
     "data": {
      "image/png": "[encoded data removed]",
      "text/plain": [
       "<Figure size 1080x216 with 1 Axes>"
      ]
     },
     "metadata": {},
     "output_type": "display_data"
    }
   ],
   "source": [
    "compare_distribution('TP_SEXO', 'Distribuição de gêneros entre todos os candidatos e entre as melhores notas', 'Gênero')"
   ]
  },
  {
   "cell_type": "markdown",
   "metadata": {},
   "source": [
    "Aqui podemos notar que os homens possuem uma maior representação entre as maiores notas, estando em aproximadamente 10% mais presentes que quando comparados com o resto da população analisada.\n"
   ]
  },
  {
   "cell_type": "markdown",
   "metadata": {},
   "source": [
    "#### Veremos agora a distribuição das melhores notas e as demais de acordo com a cor/raça de cada pessoa:"
   ]
  },
  {
   "cell_type": "code",
   "execution_count": 29,
   "metadata": {
    "scrolled": true
   },
   "outputs": [
    {
     "data": {
      "image/png": "[encoded data removed]",
      "text/plain": [
       "<Figure size 1080x216 with 1 Axes>"
      ]
     },
     "metadata": {},
     "output_type": "display_data"
    }
   ],
   "source": [
    "compare_distribution('TP_COR_RACA', 'Distribuição das raças entre as melhores notas e entre as demais notas', 'Cor/Raça')"
   ]
  },
  {
   "cell_type": "markdown",
   "metadata": {},
   "source": [
    "Podemos observar que:\n",
    "- A população preta, parda, indígena e não declados são pouco representados quando analisamos principalmente as melhores notas obtidas nos dados.\n",
    "- Em contra partida a população branca ganha notoriedade nesta mesma análise das melhores notas.\n",
    "- A população indígena é quase nula em relação as demais."
   ]
  },
  {
   "cell_type": "markdown",
   "metadata": {},
   "source": [
    "#### Agora vamos ver como as notas da população analisada varia de acordo com a formação dos seus parentes:"
   ]
  },
  {
   "cell_type": "code",
   "execution_count": 30,
   "metadata": {},
   "outputs": [
    {
     "data": {
      "image/png": "[encoded data removed]",
      "text/plain": [
       "<Figure size 1080x216 with 1 Axes>"
      ]
     },
     "metadata": {},
     "output_type": "display_data"
    }
   ],
   "source": [
    "compare_distribution('Q001', 'Formação do pai entre todos os candidatos e entre as melhores notas', 'Formação do pai')"
   ]
  },
  {
   "cell_type": "code",
   "execution_count": 31,
   "metadata": {},
   "outputs": [
    {
     "data": {
      "image/png": "[encoded data removed]",
      "text/plain": [
       "<Figure size 1080x216 with 1 Axes>"
      ]
     },
     "metadata": {},
     "output_type": "display_data"
    }
   ],
   "source": [
    "compare_distribution('Q002', 'Formação da mãe entre todos os candidatos e entre as melhores notas', 'Formação da mãe')"
   ]
  },
  {
   "cell_type": "markdown",
   "metadata": {},
   "source": [
    "Podemos observar que:\n",
    "- Alunos aos quais os pais tem uma melhor formação tendem a tirar notas melhores do que os outros como é observado no gráfico dos 1%."
   ]
  },
  {
   "cell_type": "markdown",
   "metadata": {},
   "source": [
    "#### Veremos agora a distribuição das notas de acordo com o acesso a internet na casa dos estudantes que prestaram o exame:"
   ]
  },
  {
   "cell_type": "code",
   "execution_count": 32,
   "metadata": {},
   "outputs": [
    {
     "data": {
      "image/png": "[encoded data removed]",
      "text/plain": [
       "<Figure size 1080x216 with 1 Axes>"
      ]
     },
     "metadata": {},
     "output_type": "display_data"
    }
   ],
   "source": [
    "compare_distribution('Q025', 'Distribuição dos canditatos que tem acesso a internet em casa', 'Tem acesso a internet')"
   ]
  },
  {
   "cell_type": "markdown",
   "metadata": {},
   "source": [
    "Podemos observar que:\n",
    "- É gritante a distruibuição da demais notas e da melhores em relação ao acesso a internet. Mostrando que geralmente as pessoas que tem acesso a internet, conseguem tirar uma nota superior aos outros estudantes que prestam esse vestibular tão disputado no Brasil.\n",
    "- Por outro lado mostra que ainda existem muitos estudantes sem acesso a internet no Brasil."
   ]
  },
  {
   "cell_type": "markdown",
   "metadata": {},
   "source": [
    "#### Veremos por último mas não menos importante a distribuição das notas por regiões do Brasil:"
   ]
  },
  {
   "cell_type": "code",
   "execution_count": 33,
   "metadata": {},
   "outputs": [
    {
     "data": {
      "image/png": "[encoded data removed]",
      "text/plain": [
       "<Figure size 1080x216 with 1 Axes>"
      ]
     },
     "metadata": {},
     "output_type": "display_data"
    }
   ],
   "source": [
    "compare_distribution('REGIAO', 'Distribuição das notas de acordo com as regiões', 'Regiões')"
   ]
  },
  {
   "cell_type": "markdown",
   "metadata": {},
   "source": [
    "Podemos observar que:\n",
    "- O número de população do Sudeste do país aumenta quando se trata das melhores notas registradas.\n",
    "- Apesar de menor representado a região Nordeste ainda ocupa uma grande parcela do percentual das melhores notas por regiões somente atrás do Sudeste."
   ]
  },
  {
   "cell_type": "code",
   "execution_count": 34,
   "metadata": {},
   "outputs": [
    {
     "data": {
      "image/png": "[encoded data removed]",
      "text/plain": [
       "<Figure size 1080x216 with 1 Axes>"
      ]
     },
     "metadata": {},
     "output_type": "display_data"
    }
   ],
   "source": [
    "compare_distribution('TP_PCD', 'Distribuição de PCD entre todos os candidatos e entre as melhores notas', 'É PCD?')"
   ]
  },
  {
   "cell_type": "markdown",
   "metadata": {},
   "source": [
    "Uma grata surpresa! Temos uma pequena mas positiva diferença no número de pessoas com deficiências em favor do grupo com as top 1% notas. "
   ]
  }
 ],
 "metadata": {
  "kernelspec": {
   "display_name": "Python 3",
   "language": "python",
   "name": "python3"
  },
  "language_info": {
   "codemirror_mode": {
    "name": "ipython",
    "version": 3
   },
   "file_extension": ".py",
   "mimetype": "text/x-python",
   "name": "python",
   "nbconvert_exporter": "python",
   "pygments_lexer": "ipython3",
   "version": "3.8.1"
  }
 },
 "nbformat": 4,
 "nbformat_minor": 4
}
