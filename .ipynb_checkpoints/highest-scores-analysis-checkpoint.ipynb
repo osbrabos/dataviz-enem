{
 "cells": [
  {
   "cell_type": "markdown",
   "metadata": {},
   "source": [
    "# Uma análise comparativa entre as 1% melhores notas e a demais parcela dos estudantes."
   ]
  },
  {
   "cell_type": "markdown",
   "metadata": {},
   "source": [
    "## Primeiros passos\n",
    "\n",
    "Vamos aqui importar as bibliotecas utilizadas ao longo do notebook."
   ]
  },
  {
   "cell_type": "code",
   "execution_count": 54,
   "metadata": {},
   "outputs": [],
   "source": [
    "import re\n",
    "import random\n",
    "import pandas as pd\n",
    "import matplotlib.pyplot as plt\n",
    "import seaborn as sns"
   ]
  },
  {
   "cell_type": "markdown",
   "metadata": {},
   "source": [
    "Os microdados do ENEM têm aproximadamente 3 MB, tornando muito custoso o ato de carregar o conjunto de dados por inteiro na memória. Assim, selecionaremos aleatoriamente uma amostra de aproximadamente 50 mil usuários, o que representa cerca de 1% do total de alunos que realizaram o exame em 2019.\n",
    "\n",
    "Esse valor escolhido pois garante que, ainda após uma etapa futura quando removeremos algumas linhas, teremos uma amostra que apresenta 99% de grau de confiança e 0.7% de margem de erro. "
   ]
  },
  {
   "cell_type": "code",
   "execution_count": 55,
   "metadata": {},
   "outputs": [
    {
     "data": {
      "text/html": [
       "<div>\n",
       "<style scoped>\n",
       "    .dataframe tbody tr th:only-of-type {\n",
       "        vertical-align: middle;\n",
       "    }\n",
       "\n",
       "    .dataframe tbody tr th {\n",
       "        vertical-align: top;\n",
       "    }\n",
       "\n",
       "    .dataframe thead th {\n",
       "        text-align: right;\n",
       "    }\n",
       "</style>\n",
       "<table border=\"1\" class=\"dataframe\">\n",
       "  <thead>\n",
       "    <tr style=\"text-align: right;\">\n",
       "      <th></th>\n",
       "      <th>NU_INSCRICAO</th>\n",
       "      <th>NU_ANO</th>\n",
       "      <th>CO_MUNICIPIO_RESIDENCIA</th>\n",
       "      <th>NO_MUNICIPIO_RESIDENCIA</th>\n",
       "      <th>CO_UF_RESIDENCIA</th>\n",
       "      <th>SG_UF_RESIDENCIA</th>\n",
       "      <th>NU_IDADE</th>\n",
       "      <th>TP_SEXO</th>\n",
       "      <th>TP_ESTADO_CIVIL</th>\n",
       "      <th>TP_COR_RACA</th>\n",
       "      <th>...</th>\n",
       "      <th>Q016</th>\n",
       "      <th>Q017</th>\n",
       "      <th>Q018</th>\n",
       "      <th>Q019</th>\n",
       "      <th>Q020</th>\n",
       "      <th>Q021</th>\n",
       "      <th>Q022</th>\n",
       "      <th>Q023</th>\n",
       "      <th>Q024</th>\n",
       "      <th>Q025</th>\n",
       "    </tr>\n",
       "  </thead>\n",
       "  <tbody>\n",
       "    <tr>\n",
       "      <th>0</th>\n",
       "      <td>190001004683</td>\n",
       "      <td>2019</td>\n",
       "      <td>1502400</td>\n",
       "      <td>Castanhal</td>\n",
       "      <td>15</td>\n",
       "      <td>PA</td>\n",
       "      <td>19</td>\n",
       "      <td>F</td>\n",
       "      <td>1</td>\n",
       "      <td>3</td>\n",
       "      <td>...</td>\n",
       "      <td>A</td>\n",
       "      <td>A</td>\n",
       "      <td>A</td>\n",
       "      <td>B</td>\n",
       "      <td>A</td>\n",
       "      <td>A</td>\n",
       "      <td>D</td>\n",
       "      <td>A</td>\n",
       "      <td>A</td>\n",
       "      <td>B</td>\n",
       "    </tr>\n",
       "    <tr>\n",
       "      <th>1</th>\n",
       "      <td>190001004787</td>\n",
       "      <td>2019</td>\n",
       "      <td>1500800</td>\n",
       "      <td>Ananindeua</td>\n",
       "      <td>15</td>\n",
       "      <td>PA</td>\n",
       "      <td>40</td>\n",
       "      <td>F</td>\n",
       "      <td>1</td>\n",
       "      <td>3</td>\n",
       "      <td>...</td>\n",
       "      <td>A</td>\n",
       "      <td>A</td>\n",
       "      <td>A</td>\n",
       "      <td>B</td>\n",
       "      <td>B</td>\n",
       "      <td>A</td>\n",
       "      <td>C</td>\n",
       "      <td>A</td>\n",
       "      <td>A</td>\n",
       "      <td>A</td>\n",
       "    </tr>\n",
       "    <tr>\n",
       "      <th>2</th>\n",
       "      <td>190001004862</td>\n",
       "      <td>2019</td>\n",
       "      <td>1500602</td>\n",
       "      <td>Altamira</td>\n",
       "      <td>15</td>\n",
       "      <td>PA</td>\n",
       "      <td>18</td>\n",
       "      <td>M</td>\n",
       "      <td>1</td>\n",
       "      <td>3</td>\n",
       "      <td>...</td>\n",
       "      <td>A</td>\n",
       "      <td>A</td>\n",
       "      <td>A</td>\n",
       "      <td>B</td>\n",
       "      <td>A</td>\n",
       "      <td>A</td>\n",
       "      <td>C</td>\n",
       "      <td>A</td>\n",
       "      <td>A</td>\n",
       "      <td>B</td>\n",
       "    </tr>\n",
       "    <tr>\n",
       "      <th>3</th>\n",
       "      <td>190001005086</td>\n",
       "      <td>2019</td>\n",
       "      <td>1506807</td>\n",
       "      <td>Santarém</td>\n",
       "      <td>15</td>\n",
       "      <td>PA</td>\n",
       "      <td>20</td>\n",
       "      <td>F</td>\n",
       "      <td>1</td>\n",
       "      <td>3</td>\n",
       "      <td>...</td>\n",
       "      <td>A</td>\n",
       "      <td>A</td>\n",
       "      <td>A</td>\n",
       "      <td>A</td>\n",
       "      <td>A</td>\n",
       "      <td>A</td>\n",
       "      <td>B</td>\n",
       "      <td>A</td>\n",
       "      <td>B</td>\n",
       "      <td>B</td>\n",
       "    </tr>\n",
       "    <tr>\n",
       "      <th>4</th>\n",
       "      <td>190001005312</td>\n",
       "      <td>2019</td>\n",
       "      <td>1502707</td>\n",
       "      <td>Conceição do Araguaia</td>\n",
       "      <td>15</td>\n",
       "      <td>PA</td>\n",
       "      <td>31</td>\n",
       "      <td>F</td>\n",
       "      <td>0</td>\n",
       "      <td>3</td>\n",
       "      <td>...</td>\n",
       "      <td>A</td>\n",
       "      <td>A</td>\n",
       "      <td>A</td>\n",
       "      <td>B</td>\n",
       "      <td>A</td>\n",
       "      <td>A</td>\n",
       "      <td>B</td>\n",
       "      <td>A</td>\n",
       "      <td>A</td>\n",
       "      <td>A</td>\n",
       "    </tr>\n",
       "  </tbody>\n",
       "</table>\n",
       "<p>5 rows × 136 columns</p>\n",
       "</div>"
      ],
      "text/plain": [
       "   NU_INSCRICAO  NU_ANO  CO_MUNICIPIO_RESIDENCIA NO_MUNICIPIO_RESIDENCIA  \\\n",
       "0  190001004683    2019                  1502400               Castanhal   \n",
       "1  190001004787    2019                  1500800              Ananindeua   \n",
       "2  190001004862    2019                  1500602                Altamira   \n",
       "3  190001005086    2019                  1506807                Santarém   \n",
       "4  190001005312    2019                  1502707   Conceição do Araguaia   \n",
       "\n",
       "   CO_UF_RESIDENCIA SG_UF_RESIDENCIA  NU_IDADE TP_SEXO  TP_ESTADO_CIVIL  \\\n",
       "0                15               PA        19       F                1   \n",
       "1                15               PA        40       F                1   \n",
       "2                15               PA        18       M                1   \n",
       "3                15               PA        20       F                1   \n",
       "4                15               PA        31       F                0   \n",
       "\n",
       "   TP_COR_RACA  ...  Q016  Q017 Q018  Q019 Q020  Q021  Q022  Q023  Q024  Q025  \n",
       "0            3  ...     A     A    A     B    A     A     D     A     A     B  \n",
       "1            3  ...     A     A    A     B    B     A     C     A     A     A  \n",
       "2            3  ...     A     A    A     B    A     A     C     A     A     B  \n",
       "3            3  ...     A     A    A     A    A     A     B     A     B     B  \n",
       "4            3  ...     A     A    A     B    A     A     B     A     A     A  \n",
       "\n",
       "[5 rows x 136 columns]"
      ]
     },
     "execution_count": 55,
     "metadata": {},
     "output_type": "execute_result"
    }
   ],
   "source": [
    "p = 0.01\n",
    "\n",
    "df = pd.read_csv(\n",
    "    'MICRODADOS_ENEM_2019.csv',\n",
    "    header=0,\n",
    "    encoding = \"ISO-8859-1\",\n",
    "    skiprows=lambda i: i > 0 and random.random() > p,\n",
    "    sep=';'\n",
    ")\n",
    "\n",
    "df.head()"
   ]
  },
  {
   "cell_type": "markdown",
   "metadata": {},
   "source": [
    "## Preparação de dados\n",
    "\n",
    "Feita as primeiras configurações, podemos agora começar o trabalho relacionado a preparação dos dados utilizados para gerar as visualizações desejadas. "
   ]
  },
  {
   "cell_type": "markdown",
   "metadata": {},
   "source": [
    "A fim de evitar uso desnecessário de memória e facilitar a visualização do DataFrame, vamos selecionar agora somente as colunas que podem ter algum uso nas etapas posteriores desse notebook."
   ]
  },
  {
   "cell_type": "code",
   "execution_count": 56,
   "metadata": {},
   "outputs": [],
   "source": [
    "selected_features = ['SG_UF_RESIDENCIA', 'TP_SEXO', 'TP_COR_RACA', 'Q001', 'Q002', 'Q006', \n",
    "                     'IN_BAIXA_VISAO', 'IN_CEGUEIRA', 'IN_SURDEZ', 'IN_DEFICIENCIA_AUDITIVA', \n",
    "                     'IN_SURDO_CEGUEIRA','IN_DEFICIENCIA_FISICA', 'IN_DEFICIENCIA_MENTAL', \n",
    "                     'IN_DEFICIT_ATENCAO', 'IN_DISLEXIA', 'IN_DISCALCULIA', 'IN_AUTISMO', 'IN_VISAO_MONOCULAR', \n",
    "                      'IN_OUTRA_DEF', 'NU_NOTA_LC', 'NU_NOTA_CH', 'NU_NOTA_CN', 'NU_NOTA_MT', 'NU_NOTA_REDACAO']\n",
    "\n",
    "df = df[selected_features].copy()"
   ]
  },
  {
   "cell_type": "markdown",
   "metadata": {},
   "source": [
    "Verificando a quantidade de valores faltantes ao longo das colunas, podemos ver que existem várias linhas que apresentam esse problema. A fim de contonar esse imbróglio, existem várias estratégias, desde simplesmente atribuir a média/mediana até utilizar de um algoritmo de machine learning para prever essses possíveis valores.\n",
    "\n",
    "Aqui não vamos utilizar nenhuma dessas estratégias citadas e vamos optar por utilizar uma que é bem simples: remover as linhas que contém valores nulos. \n",
    "\n",
    "Como nosso dataset possui uma quantidade grande quantidade de observações e os valores nulos atrapalhariam nossa análise já que ela se baseia fortemente nas notas, tentar atribuir algum valor para esses dados faltantes poderia gerar uma distorção indesejada."
   ]
  },
  {
   "cell_type": "code",
   "execution_count": 57,
   "metadata": {},
   "outputs": [
    {
     "data": {
      "text/plain": [
       "SG_UF_RESIDENCIA               0\n",
       "TP_SEXO                        0\n",
       "TP_COR_RACA                    0\n",
       "Q001                           0\n",
       "Q002                           0\n",
       "Q006                           0\n",
       "IN_BAIXA_VISAO                 0\n",
       "IN_CEGUEIRA                    0\n",
       "IN_SURDEZ                      0\n",
       "IN_DEFICIENCIA_AUDITIVA        0\n",
       "IN_SURDO_CEGUEIRA              0\n",
       "IN_DEFICIENCIA_FISICA          0\n",
       "IN_DEFICIENCIA_MENTAL          0\n",
       "IN_DEFICIT_ATENCAO             0\n",
       "IN_DISLEXIA                    0\n",
       "IN_DISCALCULIA                 0\n",
       "IN_AUTISMO                     0\n",
       "IN_VISAO_MONOCULAR             0\n",
       "IN_OUTRA_DEF                   0\n",
       "NU_NOTA_LC                 11794\n",
       "NU_NOTA_CH                 11794\n",
       "NU_NOTA_CN                 13992\n",
       "NU_NOTA_MT                 13992\n",
       "NU_NOTA_REDACAO            11794\n",
       "dtype: int64"
      ]
     },
     "execution_count": 57,
     "metadata": {},
     "output_type": "execute_result"
    }
   ],
   "source": [
    "df.isnull().sum()"
   ]
  },
  {
   "cell_type": "code",
   "execution_count": 58,
   "metadata": {},
   "outputs": [
    {
     "name": "stdout",
     "output_type": "stream",
     "text": [
      "Quantidade original de linhas: 50997\n",
      "Quantidade final de linhas: 36906\n"
     ]
    }
   ],
   "source": [
    "print(f'Quantidade original de linhas: {df.shape[0]}')\n",
    "df.dropna(inplace=True)\n",
    "print(f'Quantidade final de linhas: {df.shape[0]}')"
   ]
  },
  {
   "cell_type": "markdown",
   "metadata": {},
   "source": [
    "Primeiro, vamos criar uma nova coluna com a média geral entre todas as áreas de conhecimento e a redação. Visando fazer isso, podemos então somar as notas de cada observação e dividir por 5."
   ]
  },
  {
   "cell_type": "code",
   "execution_count": 59,
   "metadata": {},
   "outputs": [],
   "source": [
    "df['NU_NOTA_GERAL'] = df[['NU_NOTA_LC', 'NU_NOTA_CH', 'NU_NOTA_CN', 'NU_NOTA_MT', 'NU_NOTA_REDACAO']].sum(axis=1)/5"
   ]
  },
  {
   "cell_type": "markdown",
   "metadata": {},
   "source": [
    "A fim de agrupar grupos que são pouco representativos ao longo da nossa amostra, vamos juntar todas as colunas que informam se o candidato possui algum tipo de deficiência em uma única só. Para isso, basta somar horizontalmente os valores booleanos originalmente contidos nessas colunas e aplicar uma função que retorna True caso essa soma seja maior ou igual a 1 e False para o caso contrário."
   ]
  },
  {
   "cell_type": "code",
   "execution_count": 60,
   "metadata": {},
   "outputs": [],
   "source": [
    "deficiency = ['IN_BAIXA_VISAO', 'IN_CEGUEIRA', 'IN_SURDEZ', 'IN_DEFICIENCIA_AUDITIVA', 'IN_SURDO_CEGUEIRA','IN_DEFICIENCIA_FISICA', 'IN_DEFICIENCIA_MENTAL', 'IN_DEFICIT_ATENCAO', 'IN_DISLEXIA', 'IN_DISCALCULIA', 'IN_AUTISMO', 'IN_VISAO_MONOCULAR', 'IN_OUTRA_DEF']\n",
    "df['TP_PCD'] = df[deficiency].sum(axis=1).apply(lambda x: x>=1)\n",
    "df['TP_PCD'].replace({True: 'Sim',\n",
    "                      False: 'Não'}, inplace=True)"
   ]
  },
  {
   "cell_type": "markdown",
   "metadata": {},
   "source": [
    "Uma tarefa importante que vai nos ajudar a fazer gráficos mais explicativos é substituir os valores originais do dataset por valores mais explicativos. Por exemplo, a coluna TP_COR_RACA possui valores de 0 a 5 que, na realidade, representam uma raça. \n",
    "\n",
    "Portanto, com o auxílio do dicionário de features fornecido pelo INEP, vamos realizar as substituições necessárias nas colunas que parecem ser interessantes para nosso trabalho."
   ]
  },
  {
   "cell_type": "code",
   "execution_count": 61,
   "metadata": {},
   "outputs": [],
   "source": [
    "df['TP_SEXO'].replace({'F': 'Feminino',\n",
    "                       'M': 'Masculino'}, inplace=True)"
   ]
  },
  {
   "cell_type": "code",
   "execution_count": 62,
   "metadata": {},
   "outputs": [],
   "source": [
    "df['TP_COR_RACA'].replace({0: 'Não declarada',\n",
    "                           1: 'Branca',\n",
    "                           2: 'Preta',\n",
    "                           3: 'Parda',\n",
    "                           4: 'Amarela',\n",
    "                           5: 'Indígena'}, inplace=True)"
   ]
  },
  {
   "cell_type": "code",
   "execution_count": 63,
   "metadata": {},
   "outputs": [],
   "source": [
    "df['Q001'].replace({'A': 'Nunca estudou',\n",
    "                    'B': 'Fund. incompleto',\n",
    "                    'C': 'Fund. incompleto', \n",
    "                    'D': 'Medio incompleto',\n",
    "                    'E': 'Medio completo',\n",
    "                    'F': 'Superior completo',\n",
    "                    'G': 'Pós graduação',\n",
    "                    'H': 'Não sabe'}, inplace=True)\n",
    "\n",
    "df['Q002'].replace({'A': 'Nunca estudou',\n",
    "                    'B': 'Fund. incompleto',\n",
    "                    'C': 'Fund. incompleto', \n",
    "                    'D': 'Medio incompleto',\n",
    "                    'E': 'Medio completo',\n",
    "                    'F': 'Superior completo',\n",
    "                    'G': 'Pós graduação',\n",
    "                    'H': 'Não sabe'}, inplace=True)"
   ]
  },
  {
   "cell_type": "markdown",
   "metadata": {},
   "source": [
    "Como explicado no início do kernel, a ideia aqui é comparar a distribuição dos fatores entre as 1% melhores notas e as demais. A fim de fazer isso, vamos ordernar o dataset com base na recém criada coluna NU_NOTA_GERAL. "
   ]
  },
  {
   "cell_type": "code",
   "execution_count": 64,
   "metadata": {},
   "outputs": [
    {
     "data": {
      "text/html": [
       "<div>\n",
       "<style scoped>\n",
       "    .dataframe tbody tr th:only-of-type {\n",
       "        vertical-align: middle;\n",
       "    }\n",
       "\n",
       "    .dataframe tbody tr th {\n",
       "        vertical-align: top;\n",
       "    }\n",
       "\n",
       "    .dataframe thead th {\n",
       "        text-align: right;\n",
       "    }\n",
       "</style>\n",
       "<table border=\"1\" class=\"dataframe\">\n",
       "  <thead>\n",
       "    <tr style=\"text-align: right;\">\n",
       "      <th></th>\n",
       "      <th>SG_UF_RESIDENCIA</th>\n",
       "      <th>TP_SEXO</th>\n",
       "      <th>TP_COR_RACA</th>\n",
       "      <th>Q001</th>\n",
       "      <th>Q002</th>\n",
       "      <th>Q006</th>\n",
       "      <th>IN_BAIXA_VISAO</th>\n",
       "      <th>IN_CEGUEIRA</th>\n",
       "      <th>IN_SURDEZ</th>\n",
       "      <th>IN_DEFICIENCIA_AUDITIVA</th>\n",
       "      <th>...</th>\n",
       "      <th>IN_AUTISMO</th>\n",
       "      <th>IN_VISAO_MONOCULAR</th>\n",
       "      <th>IN_OUTRA_DEF</th>\n",
       "      <th>NU_NOTA_LC</th>\n",
       "      <th>NU_NOTA_CH</th>\n",
       "      <th>NU_NOTA_CN</th>\n",
       "      <th>NU_NOTA_MT</th>\n",
       "      <th>NU_NOTA_REDACAO</th>\n",
       "      <th>NU_NOTA_GERAL</th>\n",
       "      <th>TP_PCD</th>\n",
       "    </tr>\n",
       "  </thead>\n",
       "  <tbody>\n",
       "    <tr>\n",
       "      <th>2513</th>\n",
       "      <td>BA</td>\n",
       "      <td>Masculino</td>\n",
       "      <td>Branca</td>\n",
       "      <td>Pós graduação</td>\n",
       "      <td>Pós graduação</td>\n",
       "      <td>Q</td>\n",
       "      <td>0</td>\n",
       "      <td>0</td>\n",
       "      <td>0</td>\n",
       "      <td>0</td>\n",
       "      <td>...</td>\n",
       "      <td>0</td>\n",
       "      <td>0</td>\n",
       "      <td>0</td>\n",
       "      <td>654.7</td>\n",
       "      <td>765.6</td>\n",
       "      <td>840.5</td>\n",
       "      <td>925.7</td>\n",
       "      <td>980.0</td>\n",
       "      <td>833.30</td>\n",
       "      <td>Não</td>\n",
       "    </tr>\n",
       "    <tr>\n",
       "      <th>25572</th>\n",
       "      <td>ES</td>\n",
       "      <td>Feminino</td>\n",
       "      <td>Branca</td>\n",
       "      <td>Pós graduação</td>\n",
       "      <td>Pós graduação</td>\n",
       "      <td>P</td>\n",
       "      <td>0</td>\n",
       "      <td>0</td>\n",
       "      <td>0</td>\n",
       "      <td>0</td>\n",
       "      <td>...</td>\n",
       "      <td>0</td>\n",
       "      <td>0</td>\n",
       "      <td>0</td>\n",
       "      <td>660.7</td>\n",
       "      <td>710.0</td>\n",
       "      <td>750.4</td>\n",
       "      <td>910.9</td>\n",
       "      <td>960.0</td>\n",
       "      <td>798.40</td>\n",
       "      <td>Não</td>\n",
       "    </tr>\n",
       "    <tr>\n",
       "      <th>36470</th>\n",
       "      <td>SP</td>\n",
       "      <td>Masculino</td>\n",
       "      <td>Branca</td>\n",
       "      <td>Pós graduação</td>\n",
       "      <td>Pós graduação</td>\n",
       "      <td>Q</td>\n",
       "      <td>0</td>\n",
       "      <td>0</td>\n",
       "      <td>0</td>\n",
       "      <td>0</td>\n",
       "      <td>...</td>\n",
       "      <td>0</td>\n",
       "      <td>0</td>\n",
       "      <td>0</td>\n",
       "      <td>673.7</td>\n",
       "      <td>715.4</td>\n",
       "      <td>727.1</td>\n",
       "      <td>930.7</td>\n",
       "      <td>940.0</td>\n",
       "      <td>797.38</td>\n",
       "      <td>Não</td>\n",
       "    </tr>\n",
       "    <tr>\n",
       "      <th>4221</th>\n",
       "      <td>SE</td>\n",
       "      <td>Masculino</td>\n",
       "      <td>Parda</td>\n",
       "      <td>Superior completo</td>\n",
       "      <td>Pós graduação</td>\n",
       "      <td>Q</td>\n",
       "      <td>0</td>\n",
       "      <td>0</td>\n",
       "      <td>0</td>\n",
       "      <td>0</td>\n",
       "      <td>...</td>\n",
       "      <td>0</td>\n",
       "      <td>0</td>\n",
       "      <td>0</td>\n",
       "      <td>667.9</td>\n",
       "      <td>743.6</td>\n",
       "      <td>805.2</td>\n",
       "      <td>861.3</td>\n",
       "      <td>880.0</td>\n",
       "      <td>791.60</td>\n",
       "      <td>Não</td>\n",
       "    </tr>\n",
       "    <tr>\n",
       "      <th>13274</th>\n",
       "      <td>SP</td>\n",
       "      <td>Feminino</td>\n",
       "      <td>Branca</td>\n",
       "      <td>Superior completo</td>\n",
       "      <td>Superior completo</td>\n",
       "      <td>L</td>\n",
       "      <td>0</td>\n",
       "      <td>0</td>\n",
       "      <td>0</td>\n",
       "      <td>0</td>\n",
       "      <td>...</td>\n",
       "      <td>0</td>\n",
       "      <td>0</td>\n",
       "      <td>0</td>\n",
       "      <td>680.7</td>\n",
       "      <td>701.4</td>\n",
       "      <td>751.6</td>\n",
       "      <td>875.5</td>\n",
       "      <td>940.0</td>\n",
       "      <td>789.84</td>\n",
       "      <td>Não</td>\n",
       "    </tr>\n",
       "  </tbody>\n",
       "</table>\n",
       "<p>5 rows × 26 columns</p>\n",
       "</div>"
      ],
      "text/plain": [
       "      SG_UF_RESIDENCIA    TP_SEXO TP_COR_RACA               Q001  \\\n",
       "2513                BA  Masculino      Branca      Pós graduação   \n",
       "25572               ES   Feminino      Branca      Pós graduação   \n",
       "36470               SP  Masculino      Branca      Pós graduação   \n",
       "4221                SE  Masculino       Parda  Superior completo   \n",
       "13274               SP   Feminino      Branca  Superior completo   \n",
       "\n",
       "                    Q002 Q006  IN_BAIXA_VISAO  IN_CEGUEIRA  IN_SURDEZ  \\\n",
       "2513       Pós graduação    Q               0            0          0   \n",
       "25572      Pós graduação    P               0            0          0   \n",
       "36470      Pós graduação    Q               0            0          0   \n",
       "4221       Pós graduação    Q               0            0          0   \n",
       "13274  Superior completo    L               0            0          0   \n",
       "\n",
       "       IN_DEFICIENCIA_AUDITIVA  ...  IN_AUTISMO  IN_VISAO_MONOCULAR  \\\n",
       "2513                         0  ...           0                   0   \n",
       "25572                        0  ...           0                   0   \n",
       "36470                        0  ...           0                   0   \n",
       "4221                         0  ...           0                   0   \n",
       "13274                        0  ...           0                   0   \n",
       "\n",
       "       IN_OUTRA_DEF  NU_NOTA_LC  NU_NOTA_CH  NU_NOTA_CN  NU_NOTA_MT  \\\n",
       "2513              0       654.7       765.6       840.5       925.7   \n",
       "25572             0       660.7       710.0       750.4       910.9   \n",
       "36470             0       673.7       715.4       727.1       930.7   \n",
       "4221              0       667.9       743.6       805.2       861.3   \n",
       "13274             0       680.7       701.4       751.6       875.5   \n",
       "\n",
       "       NU_NOTA_REDACAO  NU_NOTA_GERAL  TP_PCD  \n",
       "2513             980.0         833.30     Não  \n",
       "25572            960.0         798.40     Não  \n",
       "36470            940.0         797.38     Não  \n",
       "4221             880.0         791.60     Não  \n",
       "13274            940.0         789.84     Não  \n",
       "\n",
       "[5 rows x 26 columns]"
      ]
     },
     "execution_count": 64,
     "metadata": {},
     "output_type": "execute_result"
    }
   ],
   "source": [
    "df.sort_values(by=['NU_NOTA_GERAL'], ascending=False, inplace=True)\n",
    "df.head()"
   ]
  },
  {
   "cell_type": "markdown",
   "metadata": {},
   "source": [
    "Agora, vamos selecionar os candidatos com as notas entre o primeiro centil, ou seja, que estão as 1% melhores notas. Para isso, podemos resetar o índice e atribuir True ou False para os casos que estão, respectivamente, entre as 1% primeiras linhas e não. \n",
    "\n",
    "Depois, vamos manter a ideia de manter valores representativos e substituir esses valores booleanos gerados."
   ]
  },
  {
   "cell_type": "code",
   "execution_count": 65,
   "metadata": {},
   "outputs": [],
   "source": [
    "df['TP_RANKING'] = df.reset_index().drop(columns='index').index.to_numpy() < 1000\n",
    "df['TP_RANKING'].replace({True:  '1%',\n",
    "                          False: '99%'}, inplace=True)"
   ]
  },
  {
   "cell_type": "markdown",
   "metadata": {},
   "source": [
    "Essa próxima celula é puramente para fins estéticos. A fim de evitar que a distribuição das melhores notas seja exibida antes das demais, vamos ordernar o dataset com base nessa coluna nova que criamos anteriormente."
   ]
  },
  {
   "cell_type": "code",
   "execution_count": 66,
   "metadata": {},
   "outputs": [
    {
     "data": {
      "text/html": [
       "<div>\n",
       "<style scoped>\n",
       "    .dataframe tbody tr th:only-of-type {\n",
       "        vertical-align: middle;\n",
       "    }\n",
       "\n",
       "    .dataframe tbody tr th {\n",
       "        vertical-align: top;\n",
       "    }\n",
       "\n",
       "    .dataframe thead th {\n",
       "        text-align: right;\n",
       "    }\n",
       "</style>\n",
       "<table border=\"1\" class=\"dataframe\">\n",
       "  <thead>\n",
       "    <tr style=\"text-align: right;\">\n",
       "      <th></th>\n",
       "      <th>SG_UF_RESIDENCIA</th>\n",
       "      <th>TP_SEXO</th>\n",
       "      <th>TP_COR_RACA</th>\n",
       "      <th>Q001</th>\n",
       "      <th>Q002</th>\n",
       "      <th>Q006</th>\n",
       "      <th>IN_BAIXA_VISAO</th>\n",
       "      <th>IN_CEGUEIRA</th>\n",
       "      <th>IN_SURDEZ</th>\n",
       "      <th>IN_DEFICIENCIA_AUDITIVA</th>\n",
       "      <th>...</th>\n",
       "      <th>IN_VISAO_MONOCULAR</th>\n",
       "      <th>IN_OUTRA_DEF</th>\n",
       "      <th>NU_NOTA_LC</th>\n",
       "      <th>NU_NOTA_CH</th>\n",
       "      <th>NU_NOTA_CN</th>\n",
       "      <th>NU_NOTA_MT</th>\n",
       "      <th>NU_NOTA_REDACAO</th>\n",
       "      <th>NU_NOTA_GERAL</th>\n",
       "      <th>TP_PCD</th>\n",
       "      <th>TP_RANKING</th>\n",
       "    </tr>\n",
       "  </thead>\n",
       "  <tbody>\n",
       "    <tr>\n",
       "      <th>2513</th>\n",
       "      <td>BA</td>\n",
       "      <td>Masculino</td>\n",
       "      <td>Branca</td>\n",
       "      <td>Pós graduação</td>\n",
       "      <td>Pós graduação</td>\n",
       "      <td>Q</td>\n",
       "      <td>0</td>\n",
       "      <td>0</td>\n",
       "      <td>0</td>\n",
       "      <td>0</td>\n",
       "      <td>...</td>\n",
       "      <td>0</td>\n",
       "      <td>0</td>\n",
       "      <td>654.7</td>\n",
       "      <td>765.6</td>\n",
       "      <td>840.5</td>\n",
       "      <td>925.7</td>\n",
       "      <td>980.0</td>\n",
       "      <td>833.30</td>\n",
       "      <td>Não</td>\n",
       "      <td>1%</td>\n",
       "    </tr>\n",
       "    <tr>\n",
       "      <th>40676</th>\n",
       "      <td>CE</td>\n",
       "      <td>Masculino</td>\n",
       "      <td>Parda</td>\n",
       "      <td>Fund. incompleto</td>\n",
       "      <td>Medio incompleto</td>\n",
       "      <td>C</td>\n",
       "      <td>0</td>\n",
       "      <td>0</td>\n",
       "      <td>0</td>\n",
       "      <td>0</td>\n",
       "      <td>...</td>\n",
       "      <td>0</td>\n",
       "      <td>0</td>\n",
       "      <td>562.0</td>\n",
       "      <td>641.4</td>\n",
       "      <td>635.3</td>\n",
       "      <td>778.8</td>\n",
       "      <td>940.0</td>\n",
       "      <td>711.50</td>\n",
       "      <td>Não</td>\n",
       "      <td>1%</td>\n",
       "    </tr>\n",
       "    <tr>\n",
       "      <th>17155</th>\n",
       "      <td>PE</td>\n",
       "      <td>Feminino</td>\n",
       "      <td>Branca</td>\n",
       "      <td>Fund. incompleto</td>\n",
       "      <td>Superior completo</td>\n",
       "      <td>H</td>\n",
       "      <td>0</td>\n",
       "      <td>0</td>\n",
       "      <td>0</td>\n",
       "      <td>0</td>\n",
       "      <td>...</td>\n",
       "      <td>0</td>\n",
       "      <td>0</td>\n",
       "      <td>591.1</td>\n",
       "      <td>650.1</td>\n",
       "      <td>656.6</td>\n",
       "      <td>759.4</td>\n",
       "      <td>900.0</td>\n",
       "      <td>711.44</td>\n",
       "      <td>Não</td>\n",
       "      <td>1%</td>\n",
       "    </tr>\n",
       "    <tr>\n",
       "      <th>25820</th>\n",
       "      <td>MA</td>\n",
       "      <td>Masculino</td>\n",
       "      <td>Parda</td>\n",
       "      <td>Medio completo</td>\n",
       "      <td>Pós graduação</td>\n",
       "      <td>G</td>\n",
       "      <td>0</td>\n",
       "      <td>0</td>\n",
       "      <td>0</td>\n",
       "      <td>0</td>\n",
       "      <td>...</td>\n",
       "      <td>0</td>\n",
       "      <td>0</td>\n",
       "      <td>657.3</td>\n",
       "      <td>675.1</td>\n",
       "      <td>640.3</td>\n",
       "      <td>664.0</td>\n",
       "      <td>920.0</td>\n",
       "      <td>711.34</td>\n",
       "      <td>Não</td>\n",
       "      <td>1%</td>\n",
       "    </tr>\n",
       "    <tr>\n",
       "      <th>21152</th>\n",
       "      <td>CE</td>\n",
       "      <td>Masculino</td>\n",
       "      <td>Parda</td>\n",
       "      <td>Não sabe</td>\n",
       "      <td>Pós graduação</td>\n",
       "      <td>F</td>\n",
       "      <td>0</td>\n",
       "      <td>0</td>\n",
       "      <td>0</td>\n",
       "      <td>0</td>\n",
       "      <td>...</td>\n",
       "      <td>0</td>\n",
       "      <td>0</td>\n",
       "      <td>612.9</td>\n",
       "      <td>651.6</td>\n",
       "      <td>626.3</td>\n",
       "      <td>685.7</td>\n",
       "      <td>980.0</td>\n",
       "      <td>711.30</td>\n",
       "      <td>Não</td>\n",
       "      <td>1%</td>\n",
       "    </tr>\n",
       "  </tbody>\n",
       "</table>\n",
       "<p>5 rows × 27 columns</p>\n",
       "</div>"
      ],
      "text/plain": [
       "      SG_UF_RESIDENCIA    TP_SEXO TP_COR_RACA              Q001  \\\n",
       "2513                BA  Masculino      Branca     Pós graduação   \n",
       "40676               CE  Masculino       Parda  Fund. incompleto   \n",
       "17155               PE   Feminino      Branca  Fund. incompleto   \n",
       "25820               MA  Masculino       Parda    Medio completo   \n",
       "21152               CE  Masculino       Parda          Não sabe   \n",
       "\n",
       "                    Q002 Q006  IN_BAIXA_VISAO  IN_CEGUEIRA  IN_SURDEZ  \\\n",
       "2513       Pós graduação    Q               0            0          0   \n",
       "40676   Medio incompleto    C               0            0          0   \n",
       "17155  Superior completo    H               0            0          0   \n",
       "25820      Pós graduação    G               0            0          0   \n",
       "21152      Pós graduação    F               0            0          0   \n",
       "\n",
       "       IN_DEFICIENCIA_AUDITIVA  ...  IN_VISAO_MONOCULAR  IN_OUTRA_DEF  \\\n",
       "2513                         0  ...                   0             0   \n",
       "40676                        0  ...                   0             0   \n",
       "17155                        0  ...                   0             0   \n",
       "25820                        0  ...                   0             0   \n",
       "21152                        0  ...                   0             0   \n",
       "\n",
       "       NU_NOTA_LC  NU_NOTA_CH  NU_NOTA_CN  NU_NOTA_MT  NU_NOTA_REDACAO  \\\n",
       "2513        654.7       765.6       840.5       925.7            980.0   \n",
       "40676       562.0       641.4       635.3       778.8            940.0   \n",
       "17155       591.1       650.1       656.6       759.4            900.0   \n",
       "25820       657.3       675.1       640.3       664.0            920.0   \n",
       "21152       612.9       651.6       626.3       685.7            980.0   \n",
       "\n",
       "       NU_NOTA_GERAL  TP_PCD  TP_RANKING  \n",
       "2513          833.30     Não          1%  \n",
       "40676         711.50     Não          1%  \n",
       "17155         711.44     Não          1%  \n",
       "25820         711.34     Não          1%  \n",
       "21152         711.30     Não          1%  \n",
       "\n",
       "[5 rows x 27 columns]"
      ]
     },
     "execution_count": 66,
     "metadata": {},
     "output_type": "execute_result"
    }
   ],
   "source": [
    "df = df.sort_values(by='TP_RANKING')\n",
    "df.head()"
   ]
  },
  {
   "cell_type": "markdown",
   "metadata": {},
   "source": [
    "## Visualização de dados\n",
    "\n",
    "Chegamos finalmente a etapa de visualização de dados. Antes de mais nada, vamos escolher o estilo e a paleta de cores que vamos manter para todo o projeto. Eu particularmente gosto do estilo 'whitegrid' e dessa paleta personalizada mas você é livre para escolher o que mais te agradar :)"
   ]
  },
  {
   "cell_type": "code",
   "execution_count": 100,
   "metadata": {},
   "outputs": [],
   "source": [
    "sns.set_style('whitegrid')\n",
    "flatui = [\"#9b59b6\", \"#3498db\", \"#95a5a6\", \"#e74c3c\", \"#34495e\", \"#2ecc71\", \"#f5c740\"]\n",
    "sns.set_palette(flatui)"
   ]
  },
  {
   "cell_type": "markdown",
   "metadata": {},
   "source": [
    "Agora, vamos criar uma função que gera um gráfico que compara a distribuição de uma determinada coluna entre as as melhores notas e entre as demais. \n",
    "\n",
    "Para isso, vamos utilzar o histplot do Seaborn. É importante que passemos os parametros ```stat=\"probability\"``` e  ```multiple=\"fill\"``` para gerar a aparência desejada, que é a de um gráfico de barra empilhado (stacked barplot).\n",
    "\n",
    "A fim de deixar mais explicátivo, vou deixar alguns comentários no código da função."
   ]
  },
  {
   "cell_type": "code",
   "execution_count": 101,
   "metadata": {},
   "outputs": [],
   "source": [
    "def compare_distribution(column, chart_title, legend_title):\n",
    "    fig, ax = plt.subplots(figsize=(15, 3)) \n",
    "    # Define o título do gráfico e cria o gráfico\n",
    "    ax.set_title(chart_title) \n",
    "    sns.histplot(df, y=\"TP_RANKING\", hue=column, stat=\"probability\", multiple=\"fill\", shrink=0.8, ax=ax, edgecolor=\"none\")\n",
    "    \n",
    "    # Remove as linhas dos eixos\n",
    "    sns.despine(left=True, bottom=True)\n",
    "    \n",
    "    # Remove o titulo do eixo vertical e define o do eixo horizontal\n",
    "    ax.set_ylabel('') \n",
    "    ax.set_xlabel('Proporção') \n",
    "    \n",
    "    # Muda a legenda de posição\n",
    "    legends = re.findall(r\"'(.*?)'\", str(list(ax.get_legend().get_texts())))\n",
    "    legends.reverse()\n",
    "    plt.legend(legends, title=legend_title,bbox_to_anchor=(0.5,-0.2), loc='upper center', ncol=3)\n",
    "    plt.show()"
   ]
  },
  {
   "cell_type": "markdown",
   "metadata": {},
   "source": [
    "De fato partindo pra análise, acho interessante começarmos com o recorte racial. Vamos lá:"
   ]
  },
  {
   "cell_type": "code",
   "execution_count": 102,
   "metadata": {
    "scrolled": true
   },
   "outputs": [
    {
     "data": {
      "image/png": "[encoded data removed]",
      "text/plain": [
       "<Figure size 1080x216 with 1 Axes>"
      ]
     },
     "metadata": {},
     "output_type": "display_data"
    }
   ],
   "source": [
    "compare_distribution('TP_COR_RACA', 'Distribuição das raças entre todos os candidatos e entre as melhores notas', 'Raças')"
   ]
  },
  {
   "cell_type": "markdown",
   "metadata": {},
   "source": [
    "Aqui podemos ver claramente que:\n",
    " * A parcela correspondente a população parda, preta e indígena é subrepresentada entre as melhores notas.\n",
    " * A parcela correspondente a população branca é a que mais ganha volume quando comparamos o grupo mais geral com o grupo das melhores notas."
   ]
  },
  {
   "cell_type": "markdown",
   "metadata": {},
   "source": [
    "Agora, vamos analisar como a formação dos pais varia entre os dois grupos."
   ]
  },
  {
   "cell_type": "code",
   "execution_count": 103,
   "metadata": {},
   "outputs": [
    {
     "data": {
      "image/png": "[encoded data removed]",
      "text/plain": [
       "<Figure size 1080x216 with 1 Axes>"
      ]
     },
     "metadata": {},
     "output_type": "display_data"
    }
   ],
   "source": [
    "compare_distribution('Q001', 'Formação do pai entre todos os candidatos e entre as melhores notas', 'Formação do pai')"
   ]
  },
  {
   "cell_type": "code",
   "execution_count": 104,
   "metadata": {
    "scrolled": true
   },
   "outputs": [
    {
     "data": {
      "image/png": "[encoded data removed]",
      "text/plain": [
       "<Figure size 1080x216 with 1 Axes>"
      ]
     },
     "metadata": {},
     "output_type": "display_data"
    }
   ],
   "source": [
    "compare_distribution('Q002', 'Formação da mãe entre todos os candidatos e entre as melhores notas', 'Formação da mãe')"
   ]
  },
  {
   "cell_type": "markdown",
   "metadata": {},
   "source": [
    "A partir dos gráficos anteriores, podemos dizer que existe alguma tendência para que alunos cujos pais possuem maior grau de instrução possuam um desempenho maior na prova."
   ]
  },
  {
   "cell_type": "markdown",
   "metadata": {},
   "source": [
    "Agora, um recorte importante a ser feito em um país que tem bastante dificuldade em inserir e manter a pessoa com deficiência no ambiente escolar/acadêmico é o de como essas pessoas estão distribuidas entre esses dois grupos em análise."
   ]
  },
  {
   "cell_type": "code",
   "execution_count": 105,
   "metadata": {},
   "outputs": [
    {
     "data": {
      "image/png": "[encoded data removed]",
      "text/plain": [
       "<Figure size 1080x216 with 1 Axes>"
      ]
     },
     "metadata": {},
     "output_type": "display_data"
    }
   ],
   "source": [
    "compare_distribution('TP_PCD', 'Distribuição de PCD entre todos os candidatos e entre as melhores notas', 'É PCD?')"
   ]
  },
  {
   "cell_type": "markdown",
   "metadata": {},
   "source": [
    "Uma grata surpresa! Temos uma pequena mas positiva diferença no número de pessoas com deficiências em favor do grupo com as top 1% notas. "
   ]
  },
  {
   "cell_type": "markdown",
   "metadata": {},
   "source": [
    "Por fim, vamos analisar se existe alguma variação na distribuição dos sexos ao longo desses grupos analisados até aqui."
   ]
  },
  {
   "cell_type": "code",
   "execution_count": 106,
   "metadata": {
    "scrolled": true
   },
   "outputs": [
    {
     "data": {
      "image/png": "[encoded data removed]",
      "text/plain": [
       "<Figure size 1080x216 with 1 Axes>"
      ]
     },
     "metadata": {},
     "output_type": "display_data"
    }
   ],
   "source": [
    "compare_distribution('TP_SEXO', 'Distribuição de gêneros entre todos os candidatos e entre as melhores notas', 'Gênero')"
   ]
  },
  {
   "cell_type": "markdown",
   "metadata": {},
   "source": [
    "Aqui podemos notar que os homens possuem uma maior representação entre as maiores notas, estando em aproximadamente 10% mais presentes quando comparados com o resto da população analisada."
   ]
  },
  {
   "cell_type": "code",
   "execution_count": null,
   "metadata": {},
   "outputs": [],
   "source": []
  }
 ],
 "metadata": {
  "kernelspec": {
   "display_name": "Python 3",
   "language": "python",
   "name": "python3"
  },
  "language_info": {
   "codemirror_mode": {
    "name": "ipython",
    "version": 3
   },
   "file_extension": ".py",
   "mimetype": "text/x-python",
   "name": "python",
   "nbconvert_exporter": "python",
   "pygments_lexer": "ipython3",
   "version": "3.8.1"
  }
 },
 "nbformat": 4,
 "nbformat_minor": 2
}
