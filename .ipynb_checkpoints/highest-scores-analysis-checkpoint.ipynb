{
 "cells": [
  {
   "cell_type": "code",
   "execution_count": 48,
   "metadata": {},
   "outputs": [],
   "source": [
    "import random\n",
    "import pandas as pd\n",
    "import matplotlib.pyplot as plt\n",
    "import seaborn as sns"
   ]
  },
  {
   "cell_type": "code",
   "execution_count": 49,
   "metadata": {},
   "outputs": [
    {
     "data": {
      "text/html": [
       "<div>\n",
       "<style scoped>\n",
       "    .dataframe tbody tr th:only-of-type {\n",
       "        vertical-align: middle;\n",
       "    }\n",
       "\n",
       "    .dataframe tbody tr th {\n",
       "        vertical-align: top;\n",
       "    }\n",
       "\n",
       "    .dataframe thead th {\n",
       "        text-align: right;\n",
       "    }\n",
       "</style>\n",
       "<table border=\"1\" class=\"dataframe\">\n",
       "  <thead>\n",
       "    <tr style=\"text-align: right;\">\n",
       "      <th></th>\n",
       "      <th>NU_INSCRICAO</th>\n",
       "      <th>NU_ANO</th>\n",
       "      <th>CO_MUNICIPIO_RESIDENCIA</th>\n",
       "      <th>NO_MUNICIPIO_RESIDENCIA</th>\n",
       "      <th>CO_UF_RESIDENCIA</th>\n",
       "      <th>SG_UF_RESIDENCIA</th>\n",
       "      <th>NU_IDADE</th>\n",
       "      <th>TP_SEXO</th>\n",
       "      <th>TP_ESTADO_CIVIL</th>\n",
       "      <th>TP_COR_RACA</th>\n",
       "      <th>...</th>\n",
       "      <th>Q016</th>\n",
       "      <th>Q017</th>\n",
       "      <th>Q018</th>\n",
       "      <th>Q019</th>\n",
       "      <th>Q020</th>\n",
       "      <th>Q021</th>\n",
       "      <th>Q022</th>\n",
       "      <th>Q023</th>\n",
       "      <th>Q024</th>\n",
       "      <th>Q025</th>\n",
       "    </tr>\n",
       "  </thead>\n",
       "  <tbody>\n",
       "    <tr>\n",
       "      <th>0</th>\n",
       "      <td>190001004675</td>\n",
       "      <td>2019</td>\n",
       "      <td>1508100</td>\n",
       "      <td>Tucuruí</td>\n",
       "      <td>15</td>\n",
       "      <td>PA</td>\n",
       "      <td>23</td>\n",
       "      <td>F</td>\n",
       "      <td>1</td>\n",
       "      <td>3</td>\n",
       "      <td>...</td>\n",
       "      <td>A</td>\n",
       "      <td>A</td>\n",
       "      <td>A</td>\n",
       "      <td>C</td>\n",
       "      <td>A</td>\n",
       "      <td>A</td>\n",
       "      <td>E</td>\n",
       "      <td>A</td>\n",
       "      <td>B</td>\n",
       "      <td>B</td>\n",
       "    </tr>\n",
       "    <tr>\n",
       "      <th>1</th>\n",
       "      <td>190001004760</td>\n",
       "      <td>2019</td>\n",
       "      <td>1501808</td>\n",
       "      <td>Breves</td>\n",
       "      <td>15</td>\n",
       "      <td>PA</td>\n",
       "      <td>19</td>\n",
       "      <td>F</td>\n",
       "      <td>1</td>\n",
       "      <td>3</td>\n",
       "      <td>...</td>\n",
       "      <td>A</td>\n",
       "      <td>A</td>\n",
       "      <td>A</td>\n",
       "      <td>B</td>\n",
       "      <td>A</td>\n",
       "      <td>A</td>\n",
       "      <td>B</td>\n",
       "      <td>A</td>\n",
       "      <td>A</td>\n",
       "      <td>A</td>\n",
       "    </tr>\n",
       "    <tr>\n",
       "      <th>2</th>\n",
       "      <td>190001004812</td>\n",
       "      <td>2019</td>\n",
       "      <td>1501402</td>\n",
       "      <td>Belém</td>\n",
       "      <td>15</td>\n",
       "      <td>PA</td>\n",
       "      <td>44</td>\n",
       "      <td>M</td>\n",
       "      <td>1</td>\n",
       "      <td>3</td>\n",
       "      <td>...</td>\n",
       "      <td>A</td>\n",
       "      <td>A</td>\n",
       "      <td>A</td>\n",
       "      <td>C</td>\n",
       "      <td>A</td>\n",
       "      <td>A</td>\n",
       "      <td>C</td>\n",
       "      <td>A</td>\n",
       "      <td>B</td>\n",
       "      <td>B</td>\n",
       "    </tr>\n",
       "    <tr>\n",
       "      <th>3</th>\n",
       "      <td>190001004916</td>\n",
       "      <td>2019</td>\n",
       "      <td>1501725</td>\n",
       "      <td>Brasil Novo</td>\n",
       "      <td>15</td>\n",
       "      <td>PA</td>\n",
       "      <td>36</td>\n",
       "      <td>F</td>\n",
       "      <td>2</td>\n",
       "      <td>1</td>\n",
       "      <td>...</td>\n",
       "      <td>A</td>\n",
       "      <td>A</td>\n",
       "      <td>A</td>\n",
       "      <td>B</td>\n",
       "      <td>A</td>\n",
       "      <td>A</td>\n",
       "      <td>D</td>\n",
       "      <td>A</td>\n",
       "      <td>B</td>\n",
       "      <td>B</td>\n",
       "    </tr>\n",
       "    <tr>\n",
       "      <th>4</th>\n",
       "      <td>190001005001</td>\n",
       "      <td>2019</td>\n",
       "      <td>1501402</td>\n",
       "      <td>Belém</td>\n",
       "      <td>15</td>\n",
       "      <td>PA</td>\n",
       "      <td>19</td>\n",
       "      <td>M</td>\n",
       "      <td>1</td>\n",
       "      <td>3</td>\n",
       "      <td>...</td>\n",
       "      <td>B</td>\n",
       "      <td>A</td>\n",
       "      <td>A</td>\n",
       "      <td>E</td>\n",
       "      <td>B</td>\n",
       "      <td>B</td>\n",
       "      <td>D</td>\n",
       "      <td>B</td>\n",
       "      <td>B</td>\n",
       "      <td>B</td>\n",
       "    </tr>\n",
       "  </tbody>\n",
       "</table>\n",
       "<p>5 rows × 136 columns</p>\n",
       "</div>"
      ],
      "text/plain": [
       "   NU_INSCRICAO  NU_ANO  CO_MUNICIPIO_RESIDENCIA NO_MUNICIPIO_RESIDENCIA  \\\n",
       "0  190001004675    2019                  1508100                 Tucuruí   \n",
       "1  190001004760    2019                  1501808                  Breves   \n",
       "2  190001004812    2019                  1501402                   Belém   \n",
       "3  190001004916    2019                  1501725             Brasil Novo   \n",
       "4  190001005001    2019                  1501402                   Belém   \n",
       "\n",
       "   CO_UF_RESIDENCIA SG_UF_RESIDENCIA  NU_IDADE TP_SEXO  TP_ESTADO_CIVIL  \\\n",
       "0                15               PA        23       F                1   \n",
       "1                15               PA        19       F                1   \n",
       "2                15               PA        44       M                1   \n",
       "3                15               PA        36       F                2   \n",
       "4                15               PA        19       M                1   \n",
       "\n",
       "   TP_COR_RACA  ...  Q016  Q017 Q018  Q019 Q020  Q021  Q022  Q023  Q024  Q025  \n",
       "0            3  ...     A     A    A     C    A     A     E     A     B     B  \n",
       "1            3  ...     A     A    A     B    A     A     B     A     A     A  \n",
       "2            3  ...     A     A    A     C    A     A     C     A     B     B  \n",
       "3            1  ...     A     A    A     B    A     A     D     A     B     B  \n",
       "4            3  ...     B     A    A     E    B     B     D     B     B     B  \n",
       "\n",
       "[5 rows x 136 columns]"
      ]
     },
     "execution_count": 49,
     "metadata": {},
     "output_type": "execute_result"
    }
   ],
   "source": [
    "p = 0.01\n",
    "\n",
    "df = pd.read_csv(\n",
    "    'MICRODADOS_ENEM_2019.csv',\n",
    "    header=0,\n",
    "    encoding = \"ISO-8859-1\",\n",
    "    skiprows=lambda i: i > 0 and random.random() > p,\n",
    "    sep=';'\n",
    ")\n",
    "\n",
    "df.head()"
   ]
  },
  {
   "cell_type": "code",
   "execution_count": 50,
   "metadata": {},
   "outputs": [],
   "source": [
    "df['NU_NOTA_GERAL'] = df[['NU_NOTA_LC', 'NU_NOTA_CH', 'NU_NOTA_CN', 'NU_NOTA_MT', 'NU_NOTA_REDACAO']].sum(axis=1)/5"
   ]
  },
  {
   "cell_type": "code",
   "execution_count": 53,
   "metadata": {},
   "outputs": [],
   "source": [
    "deficiency = ['IN_BAIXA_VISAO', 'IN_CEGUEIRA', 'IN_SURDEZ', 'IN_DEFICIENCIA_AUDITIVA', 'IN_SURDO_CEGUEIRA','IN_DEFICIENCIA_FISICA', 'IN_DEFICIENCIA_MENTAL', 'IN_DEFICIT_ATENCAO', 'IN_DISLEXIA', 'IN_DISCALCULIA', 'IN_AUTISMO', 'IN_VISAO_MONOCULAR', 'IN_OUTRA_DEF']\n",
    "df['TP_PCD'] = df[deficiency].sum(axis=1).apply(lambda x: x>=1)"
   ]
  },
  {
   "cell_type": "code",
   "execution_count": 55,
   "metadata": {},
   "outputs": [],
   "source": [
    "df['TP_COR_RACA'].replace({0: 'Não declarada',\n",
    "                           1: 'Branca',\n",
    "                           2: 'Preta',\n",
    "                           3: 'Parda',\n",
    "                           4: 'Amarela',\n",
    "                           5: 'Indígena'}, inplace=True)"
   ]
  },
  {
   "cell_type": "code",
   "execution_count": 88,
   "metadata": {},
   "outputs": [],
   "source": [
    "df['Q001'].replace({'A': 'Nunca estudou',\n",
    "                    'B': 'Fund. incompleto',\n",
    "                    'C': 'Fund. incompleto', \n",
    "                    'D': 'Medio incompleto',\n",
    "                    'E': 'Medio completo',\n",
    "                    'F': 'Superior completo',\n",
    "                    'G': 'Pós graduação',\n",
    "                    'H': 'Não sabe'}, inplace=True)\n",
    "\n",
    "df['Q002'].replace({'A': 'Nunca estudou',\n",
    "                    'B': 'Fund. incompleto',\n",
    "                    'C': 'Fund. incompleto', \n",
    "                    'D': 'Medio incompleto',\n",
    "                    'E': 'Medio completo',\n",
    "                    'F': 'Superior completo',\n",
    "                    'G': 'Pós graduação',\n",
    "                    'H': 'Não sabe'}, inplace=True)"
   ]
  },
  {
   "cell_type": "code",
   "execution_count": 89,
   "metadata": {},
   "outputs": [],
   "source": [
    "df = df[['SG_UF_RESIDENCIA', 'TP_SEXO', 'TP_COR_RACA', 'TP_PCD', 'Q001', 'Q002', 'Q006',\n",
    "         'NU_NOTA_LC', 'NU_NOTA_CH', 'NU_NOTA_CN', 'NU_NOTA_MT', 'NU_NOTA_REDACAO', 'NU_NOTA_GERAL']]"
   ]
  },
  {
   "cell_type": "code",
   "execution_count": 90,
   "metadata": {},
   "outputs": [
    {
     "data": {
      "text/html": [
       "<div>\n",
       "<style scoped>\n",
       "    .dataframe tbody tr th:only-of-type {\n",
       "        vertical-align: middle;\n",
       "    }\n",
       "\n",
       "    .dataframe tbody tr th {\n",
       "        vertical-align: top;\n",
       "    }\n",
       "\n",
       "    .dataframe thead th {\n",
       "        text-align: right;\n",
       "    }\n",
       "</style>\n",
       "<table border=\"1\" class=\"dataframe\">\n",
       "  <thead>\n",
       "    <tr style=\"text-align: right;\">\n",
       "      <th></th>\n",
       "      <th>SG_UF_RESIDENCIA</th>\n",
       "      <th>TP_SEXO</th>\n",
       "      <th>TP_COR_RACA</th>\n",
       "      <th>TP_PCD</th>\n",
       "      <th>Q001</th>\n",
       "      <th>Q002</th>\n",
       "      <th>Q006</th>\n",
       "      <th>NU_NOTA_LC</th>\n",
       "      <th>NU_NOTA_CH</th>\n",
       "      <th>NU_NOTA_CN</th>\n",
       "      <th>NU_NOTA_MT</th>\n",
       "      <th>NU_NOTA_REDACAO</th>\n",
       "      <th>NU_NOTA_GERAL</th>\n",
       "    </tr>\n",
       "  </thead>\n",
       "  <tbody>\n",
       "    <tr>\n",
       "      <th>35352</th>\n",
       "      <td>MG</td>\n",
       "      <td>M</td>\n",
       "      <td>Não declarada</td>\n",
       "      <td>False</td>\n",
       "      <td>Medio completo</td>\n",
       "      <td>Pós graduação</td>\n",
       "      <td>O</td>\n",
       "      <td>676.4</td>\n",
       "      <td>707.3</td>\n",
       "      <td>754.0</td>\n",
       "      <td>985.0</td>\n",
       "      <td>960.0</td>\n",
       "      <td>816.54</td>\n",
       "    </tr>\n",
       "    <tr>\n",
       "      <th>29747</th>\n",
       "      <td>RJ</td>\n",
       "      <td>M</td>\n",
       "      <td>Branca</td>\n",
       "      <td>False</td>\n",
       "      <td>Superior completo</td>\n",
       "      <td>Pós graduação</td>\n",
       "      <td>P</td>\n",
       "      <td>646.0</td>\n",
       "      <td>740.9</td>\n",
       "      <td>751.8</td>\n",
       "      <td>920.7</td>\n",
       "      <td>960.0</td>\n",
       "      <td>803.88</td>\n",
       "    </tr>\n",
       "    <tr>\n",
       "      <th>5797</th>\n",
       "      <td>RJ</td>\n",
       "      <td>M</td>\n",
       "      <td>Branca</td>\n",
       "      <td>False</td>\n",
       "      <td>Superior completo</td>\n",
       "      <td>Pós graduação</td>\n",
       "      <td>Q</td>\n",
       "      <td>672.2</td>\n",
       "      <td>755.6</td>\n",
       "      <td>722.3</td>\n",
       "      <td>908.5</td>\n",
       "      <td>960.0</td>\n",
       "      <td>803.72</td>\n",
       "    </tr>\n",
       "    <tr>\n",
       "      <th>26197</th>\n",
       "      <td>SP</td>\n",
       "      <td>F</td>\n",
       "      <td>Parda</td>\n",
       "      <td>False</td>\n",
       "      <td>Pós graduação</td>\n",
       "      <td>Superior completo</td>\n",
       "      <td>C</td>\n",
       "      <td>702.4</td>\n",
       "      <td>751.2</td>\n",
       "      <td>738.8</td>\n",
       "      <td>873.9</td>\n",
       "      <td>940.0</td>\n",
       "      <td>801.26</td>\n",
       "    </tr>\n",
       "    <tr>\n",
       "      <th>33708</th>\n",
       "      <td>SP</td>\n",
       "      <td>M</td>\n",
       "      <td>Branca</td>\n",
       "      <td>False</td>\n",
       "      <td>Superior completo</td>\n",
       "      <td>Superior completo</td>\n",
       "      <td>I</td>\n",
       "      <td>625.0</td>\n",
       "      <td>746.0</td>\n",
       "      <td>771.5</td>\n",
       "      <td>897.7</td>\n",
       "      <td>960.0</td>\n",
       "      <td>800.04</td>\n",
       "    </tr>\n",
       "  </tbody>\n",
       "</table>\n",
       "</div>"
      ],
      "text/plain": [
       "      SG_UF_RESIDENCIA TP_SEXO    TP_COR_RACA  TP_PCD               Q001  \\\n",
       "35352               MG       M  Não declarada   False     Medio completo   \n",
       "29747               RJ       M         Branca   False  Superior completo   \n",
       "5797                RJ       M         Branca   False  Superior completo   \n",
       "26197               SP       F          Parda   False      Pós graduação   \n",
       "33708               SP       M         Branca   False  Superior completo   \n",
       "\n",
       "                    Q002 Q006  NU_NOTA_LC  NU_NOTA_CH  NU_NOTA_CN  NU_NOTA_MT  \\\n",
       "35352      Pós graduação    O       676.4       707.3       754.0       985.0   \n",
       "29747      Pós graduação    P       646.0       740.9       751.8       920.7   \n",
       "5797       Pós graduação    Q       672.2       755.6       722.3       908.5   \n",
       "26197  Superior completo    C       702.4       751.2       738.8       873.9   \n",
       "33708  Superior completo    I       625.0       746.0       771.5       897.7   \n",
       "\n",
       "       NU_NOTA_REDACAO  NU_NOTA_GERAL  \n",
       "35352            960.0         816.54  \n",
       "29747            960.0         803.88  \n",
       "5797             960.0         803.72  \n",
       "26197            940.0         801.26  \n",
       "33708            960.0         800.04  "
      ]
     },
     "execution_count": 90,
     "metadata": {},
     "output_type": "execute_result"
    }
   ],
   "source": [
    "df.sort_values(by=['NU_NOTA_GERAL'], ascending=False, inplace=True)\n",
    "df.head()"
   ]
  },
  {
   "cell_type": "code",
   "execution_count": 91,
   "metadata": {},
   "outputs": [
    {
     "data": {
      "text/plain": [
       "(36723, 13)"
      ]
     },
     "execution_count": 91,
     "metadata": {},
     "output_type": "execute_result"
    }
   ],
   "source": [
    "df.dropna(inplace=True)\n",
    "df.shape"
   ]
  },
  {
   "cell_type": "code",
   "execution_count": 92,
   "metadata": {},
   "outputs": [
    {
     "data": {
      "text/plain": [
       "(367, 13)"
      ]
     },
     "execution_count": 92,
     "metadata": {},
     "output_type": "execute_result"
    }
   ],
   "source": [
    "top = df[:int(0.01*df.shape[0])]\n",
    "top.shape"
   ]
  },
  {
   "cell_type": "code",
   "execution_count": 93,
   "metadata": {},
   "outputs": [],
   "source": [
    "def plot_distribution(df, column, num_labels=None):\n",
    "    \"\"\"Plot a horizontal stacked bar with the value distribution of a column\n",
    "\n",
    "    Args:\n",
    "        df (pandas.core.frame.DataFrame): A dataframe.\n",
    "        col (str): Name of selected column.\n",
    "        num_labels (int): Number of labels to be shown in legend.\n",
    "    \"\"\"\n",
    "    \n",
    "    # Generate a list with lists that contain a value and its respective incidence\n",
    "    value_counts = []\n",
    "    for k, v in df[column].value_counts().items():\n",
    "        value_counts.append(list([k,v]))\n",
    "    for count in value_counts:\n",
    "        count[1]=count[1]/df.shape[0]\n",
    "    \n",
    "    value_counts = sorted(value_counts, key=lambda x: x[0])\n",
    "    \n",
    "    # Set the maximum legend label length to 50 characters, adding '...' if you exceed this limit\n",
    "    try:\n",
    "        legend_labels = [[count[0], count[0][:50]+'...'][len(count[0])>50] for count in value_counts[:num_labels]]    \n",
    "    except: # Avoid errors if the value is not a string\n",
    "        legend_labels = [count[0] for count in value_counts[:num_labels]]\n",
    "    \n",
    "    # Plot the chart\n",
    "    fig, axes = plt.subplots(figsize=(20, 2))\n",
    "    pd.DataFrame([counts[1] for counts in value_counts]).T.plot(kind='barh', stacked=True, legend=False, ax=axes)\n",
    "    sns.despine(left=True)\n",
    "    \n",
    "    plt.legend(legend_labels, bbox_to_anchor=(0.5,-0.2), loc='upper center', ncol=3)"
   ]
  },
  {
   "cell_type": "code",
   "execution_count": 94,
   "metadata": {},
   "outputs": [
    {
     "data": {
      "image/png": "[encoded data removed]",
      "text/plain": [
       "<Figure size 1440x144 with 1 Axes>"
      ]
     },
     "metadata": {
      "needs_background": "light"
     },
     "output_type": "display_data"
    }
   ],
   "source": [
    "plot_distribution(df, 'TP_COR_RACA')"
   ]
  },
  {
   "cell_type": "code",
   "execution_count": 95,
   "metadata": {},
   "outputs": [
    {
     "data": {
      "image/png": "[encoded data removed]",
      "text/plain": [
       "<Figure size 1440x144 with 1 Axes>"
      ]
     },
     "metadata": {
      "needs_background": "light"
     },
     "output_type": "display_data"
    }
   ],
   "source": [
    "plot_distribution(top, 'TP_COR_RACA')"
   ]
  },
  {
   "cell_type": "code",
   "execution_count": 96,
   "metadata": {},
   "outputs": [
    {
     "data": {
      "image/png": "[encoded data removed]",
      "text/plain": [
       "<Figure size 1440x144 with 1 Axes>"
      ]
     },
     "metadata": {
      "needs_background": "light"
     },
     "output_type": "display_data"
    }
   ],
   "source": [
    "plot_distribution(df, 'Q001')"
   ]
  },
  {
   "cell_type": "code",
   "execution_count": 97,
   "metadata": {},
   "outputs": [
    {
     "data": {
      "image/png": "[encoded data removed]",
      "text/plain": [
       "<Figure size 1440x144 with 1 Axes>"
      ]
     },
     "metadata": {
      "needs_background": "light"
     },
     "output_type": "display_data"
    }
   ],
   "source": [
    "plot_distribution(top, 'Q001')"
   ]
  },
  {
   "cell_type": "code",
   "execution_count": 98,
   "metadata": {},
   "outputs": [
    {
     "data": {
      "image/png": "[encoded data removed]",
      "text/plain": [
       "<Figure size 1440x144 with 1 Axes>"
      ]
     },
     "metadata": {
      "needs_background": "light"
     },
     "output_type": "display_data"
    }
   ],
   "source": [
    "plot_distribution(df, 'Q002')"
   ]
  },
  {
   "cell_type": "code",
   "execution_count": 99,
   "metadata": {},
   "outputs": [
    {
     "data": {
      "image/png": "[encoded data removed]",
      "text/plain": [
       "<Figure size 1440x144 with 1 Axes>"
      ]
     },
     "metadata": {
      "needs_background": "light"
     },
     "output_type": "display_data"
    }
   ],
   "source": [
    "plot_distribution(top, 'Q002')"
   ]
  },
  {
   "cell_type": "code",
   "execution_count": 100,
   "metadata": {},
   "outputs": [
    {
     "data": {
      "image/png": "[encoded data removed]",
      "text/plain": [
       "<Figure size 1440x144 with 1 Axes>"
      ]
     },
     "metadata": {
      "needs_background": "light"
     },
     "output_type": "display_data"
    }
   ],
   "source": [
    "plot_distribution(df, 'TP_PCD')"
   ]
  },
  {
   "cell_type": "code",
   "execution_count": 101,
   "metadata": {},
   "outputs": [
    {
     "data": {
      "image/png": "[encoded data removed]",
      "text/plain": [
       "<Figure size 1440x144 with 1 Axes>"
      ]
     },
     "metadata": {
      "needs_background": "light"
     },
     "output_type": "display_data"
    }
   ],
   "source": [
    "plot_distribution(top, 'TP_PCD')"
   ]
  },
  {
   "cell_type": "code",
   "execution_count": 102,
   "metadata": {},
   "outputs": [
    {
     "data": {
      "image/png": "[encoded data removed]",
      "text/plain": [
       "<Figure size 1440x144 with 1 Axes>"
      ]
     },
     "metadata": {
      "needs_background": "light"
     },
     "output_type": "display_data"
    }
   ],
   "source": [
    "plot_distribution(df, 'TP_SEXO')"
   ]
  },
  {
   "cell_type": "code",
   "execution_count": 104,
   "metadata": {},
   "outputs": [
    {
     "data": {
      "image/png": "[encoded data removed]",
      "text/plain": [
       "<Figure size 1440x144 with 1 Axes>"
      ]
     },
     "metadata": {
      "needs_background": "light"
     },
     "output_type": "display_data"
    }
   ],
   "source": [
    "plot_distribution(top, 'TP_SEXO')"
   ]
  },
  {
   "cell_type": "code",
   "execution_count": null,
   "metadata": {},
   "outputs": [],
   "source": []
  }
 ],
 "metadata": {
  "kernelspec": {
   "display_name": "Python 3",
   "language": "python",
   "name": "python3"
  },
  "language_info": {
   "codemirror_mode": {
    "name": "ipython",
    "version": 3
   },
   "file_extension": ".py",
   "mimetype": "text/x-python",
   "name": "python",
   "nbconvert_exporter": "python",
   "pygments_lexer": "ipython3",
   "version": "3.8.1"
  }
 },
 "nbformat": 4,
 "nbformat_minor": 2
}
