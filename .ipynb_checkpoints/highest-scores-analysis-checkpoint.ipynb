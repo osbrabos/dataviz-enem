{
 "cells": [
  {
   "cell_type": "markdown",
   "metadata": {},
   "source": [
    "# Uma análise comparativa entre as 1% melhores notas e a demais parcela dos estudantes."
   ]
  },
  {
   "cell_type": "markdown",
   "metadata": {},
   "source": [
    "## Primeiros passos\n",
    "\n",
    "Vamos aqui importar as bibliotecas utilizadas ao longo do notebook."
   ]
  },
  {
   "cell_type": "code",
   "execution_count": 142,
   "metadata": {},
   "outputs": [],
   "source": [
    "import re\n",
    "import random\n",
    "import pandas as pd\n",
    "import matplotlib.pyplot as plt\n",
    "import seaborn as sns"
   ]
  },
  {
   "cell_type": "markdown",
   "metadata": {},
   "source": [
    "Os microdados do ENEM têm aproximadamente 3 MB, tornando muito custoso o ato de carregar o conjunto de dados por inteiro na memória. Assim, selecionaremos aleatoriamente uma amostra de aproximadamente 50 mil usuários, o que representa cerca de 1% do total de alunos que realizaram o exame em 2019.\n",
    "\n",
    "Esse valor escolhido pois garante que, ainda após uma etapa futura quando removeremos algumas linhas, teremos uma amostra que apresenta 99% de grau de confiança e 0.7% de margem de erro. "
   ]
  },
  {
   "cell_type": "code",
   "execution_count": 143,
   "metadata": {},
   "outputs": [
    {
     "data": {
      "text/html": [
       "<div>\n",
       "<style scoped>\n",
       "    .dataframe tbody tr th:only-of-type {\n",
       "        vertical-align: middle;\n",
       "    }\n",
       "\n",
       "    .dataframe tbody tr th {\n",
       "        vertical-align: top;\n",
       "    }\n",
       "\n",
       "    .dataframe thead th {\n",
       "        text-align: right;\n",
       "    }\n",
       "</style>\n",
       "<table border=\"1\" class=\"dataframe\">\n",
       "  <thead>\n",
       "    <tr style=\"text-align: right;\">\n",
       "      <th></th>\n",
       "      <th>NU_INSCRICAO</th>\n",
       "      <th>NU_ANO</th>\n",
       "      <th>CO_MUNICIPIO_RESIDENCIA</th>\n",
       "      <th>NO_MUNICIPIO_RESIDENCIA</th>\n",
       "      <th>CO_UF_RESIDENCIA</th>\n",
       "      <th>SG_UF_RESIDENCIA</th>\n",
       "      <th>NU_IDADE</th>\n",
       "      <th>TP_SEXO</th>\n",
       "      <th>TP_ESTADO_CIVIL</th>\n",
       "      <th>TP_COR_RACA</th>\n",
       "      <th>...</th>\n",
       "      <th>Q016</th>\n",
       "      <th>Q017</th>\n",
       "      <th>Q018</th>\n",
       "      <th>Q019</th>\n",
       "      <th>Q020</th>\n",
       "      <th>Q021</th>\n",
       "      <th>Q022</th>\n",
       "      <th>Q023</th>\n",
       "      <th>Q024</th>\n",
       "      <th>Q025</th>\n",
       "    </tr>\n",
       "  </thead>\n",
       "  <tbody>\n",
       "    <tr>\n",
       "      <th>0</th>\n",
       "      <td>190001004685</td>\n",
       "      <td>2019</td>\n",
       "      <td>1503606</td>\n",
       "      <td>Itaituba</td>\n",
       "      <td>15</td>\n",
       "      <td>PA</td>\n",
       "      <td>25</td>\n",
       "      <td>M</td>\n",
       "      <td>0</td>\n",
       "      <td>0</td>\n",
       "      <td>...</td>\n",
       "      <td>B</td>\n",
       "      <td>A</td>\n",
       "      <td>B</td>\n",
       "      <td>C</td>\n",
       "      <td>A</td>\n",
       "      <td>A</td>\n",
       "      <td>B</td>\n",
       "      <td>A</td>\n",
       "      <td>B</td>\n",
       "      <td>B</td>\n",
       "    </tr>\n",
       "    <tr>\n",
       "      <th>1</th>\n",
       "      <td>190001004724</td>\n",
       "      <td>2019</td>\n",
       "      <td>1500800</td>\n",
       "      <td>Ananindeua</td>\n",
       "      <td>15</td>\n",
       "      <td>PA</td>\n",
       "      <td>20</td>\n",
       "      <td>F</td>\n",
       "      <td>1</td>\n",
       "      <td>2</td>\n",
       "      <td>...</td>\n",
       "      <td>A</td>\n",
       "      <td>A</td>\n",
       "      <td>A</td>\n",
       "      <td>B</td>\n",
       "      <td>B</td>\n",
       "      <td>A</td>\n",
       "      <td>D</td>\n",
       "      <td>A</td>\n",
       "      <td>A</td>\n",
       "      <td>A</td>\n",
       "    </tr>\n",
       "    <tr>\n",
       "      <th>2</th>\n",
       "      <td>190001004725</td>\n",
       "      <td>2019</td>\n",
       "      <td>1505536</td>\n",
       "      <td>Parauapebas</td>\n",
       "      <td>15</td>\n",
       "      <td>PA</td>\n",
       "      <td>20</td>\n",
       "      <td>F</td>\n",
       "      <td>1</td>\n",
       "      <td>3</td>\n",
       "      <td>...</td>\n",
       "      <td>A</td>\n",
       "      <td>A</td>\n",
       "      <td>A</td>\n",
       "      <td>B</td>\n",
       "      <td>A</td>\n",
       "      <td>A</td>\n",
       "      <td>B</td>\n",
       "      <td>A</td>\n",
       "      <td>A</td>\n",
       "      <td>A</td>\n",
       "    </tr>\n",
       "    <tr>\n",
       "      <th>3</th>\n",
       "      <td>190001004789</td>\n",
       "      <td>2019</td>\n",
       "      <td>1501402</td>\n",
       "      <td>Belém</td>\n",
       "      <td>15</td>\n",
       "      <td>PA</td>\n",
       "      <td>18</td>\n",
       "      <td>F</td>\n",
       "      <td>1</td>\n",
       "      <td>3</td>\n",
       "      <td>...</td>\n",
       "      <td>A</td>\n",
       "      <td>A</td>\n",
       "      <td>A</td>\n",
       "      <td>B</td>\n",
       "      <td>A</td>\n",
       "      <td>A</td>\n",
       "      <td>B</td>\n",
       "      <td>B</td>\n",
       "      <td>A</td>\n",
       "      <td>B</td>\n",
       "    </tr>\n",
       "    <tr>\n",
       "      <th>4</th>\n",
       "      <td>190001005311</td>\n",
       "      <td>2019</td>\n",
       "      <td>1502772</td>\n",
       "      <td>Curionópolis</td>\n",
       "      <td>15</td>\n",
       "      <td>PA</td>\n",
       "      <td>17</td>\n",
       "      <td>F</td>\n",
       "      <td>1</td>\n",
       "      <td>1</td>\n",
       "      <td>...</td>\n",
       "      <td>A</td>\n",
       "      <td>A</td>\n",
       "      <td>A</td>\n",
       "      <td>B</td>\n",
       "      <td>A</td>\n",
       "      <td>A</td>\n",
       "      <td>C</td>\n",
       "      <td>A</td>\n",
       "      <td>A</td>\n",
       "      <td>B</td>\n",
       "    </tr>\n",
       "  </tbody>\n",
       "</table>\n",
       "<p>5 rows × 136 columns</p>\n",
       "</div>"
      ],
      "text/plain": [
       "   NU_INSCRICAO  NU_ANO  CO_MUNICIPIO_RESIDENCIA NO_MUNICIPIO_RESIDENCIA  \\\n",
       "0  190001004685    2019                  1503606                Itaituba   \n",
       "1  190001004724    2019                  1500800              Ananindeua   \n",
       "2  190001004725    2019                  1505536             Parauapebas   \n",
       "3  190001004789    2019                  1501402                   Belém   \n",
       "4  190001005311    2019                  1502772            Curionópolis   \n",
       "\n",
       "   CO_UF_RESIDENCIA SG_UF_RESIDENCIA  NU_IDADE TP_SEXO  TP_ESTADO_CIVIL  \\\n",
       "0                15               PA        25       M                0   \n",
       "1                15               PA        20       F                1   \n",
       "2                15               PA        20       F                1   \n",
       "3                15               PA        18       F                1   \n",
       "4                15               PA        17       F                1   \n",
       "\n",
       "   TP_COR_RACA  ...  Q016  Q017 Q018  Q019 Q020  Q021  Q022  Q023  Q024  Q025  \n",
       "0            0  ...     B     A    B     C    A     A     B     A     B     B  \n",
       "1            2  ...     A     A    A     B    B     A     D     A     A     A  \n",
       "2            3  ...     A     A    A     B    A     A     B     A     A     A  \n",
       "3            3  ...     A     A    A     B    A     A     B     B     A     B  \n",
       "4            1  ...     A     A    A     B    A     A     C     A     A     B  \n",
       "\n",
       "[5 rows x 136 columns]"
      ]
     },
     "execution_count": 143,
     "metadata": {},
     "output_type": "execute_result"
    }
   ],
   "source": [
    "p = 0.01\n",
    "\n",
    "df = pd.read_csv(\n",
    "    'MICRODADOS_ENEM_2019.csv',\n",
    "    header=0,\n",
    "    encoding = \"ISO-8859-1\",\n",
    "    skiprows=lambda i: i > 0 and random.random() > p,\n",
    "    sep=';'\n",
    ")\n",
    "\n",
    "df.head()"
   ]
  },
  {
   "cell_type": "markdown",
   "metadata": {},
   "source": [
    "## Preparação de dados\n",
    "\n",
    "Feita as primeiras configurações, podemos agora começar o trabalho relacionado a preparação dos dados utilizados para gerar as visualizações desejadas. "
   ]
  },
  {
   "cell_type": "markdown",
   "metadata": {},
   "source": [
    "A fim de evitar uso desnecessário de memória e facilitar a visualização do DataFrame, vamos selecionar agora somente as colunas que podem ter algum uso nas etapas posteriores desse notebook."
   ]
  },
  {
   "cell_type": "code",
   "execution_count": 144,
   "metadata": {},
   "outputs": [],
   "source": [
    "selected_features = ['SG_UF_RESIDENCIA', 'TP_SEXO', 'TP_COR_RACA', 'Q001', 'Q002', 'Q006', \n",
    "                     'IN_BAIXA_VISAO', 'IN_CEGUEIRA', 'IN_SURDEZ', 'IN_DEFICIENCIA_AUDITIVA', \n",
    "                     'IN_SURDO_CEGUEIRA','IN_DEFICIENCIA_FISICA', 'IN_DEFICIENCIA_MENTAL', \n",
    "                     'IN_DEFICIT_ATENCAO', 'IN_DISLEXIA', 'IN_DISCALCULIA', 'IN_AUTISMO', 'IN_VISAO_MONOCULAR', \n",
    "                      'IN_OUTRA_DEF', 'NU_NOTA_LC', 'NU_NOTA_CH', 'NU_NOTA_CN', 'NU_NOTA_MT', 'NU_NOTA_REDACAO']\n",
    "\n",
    "df = df[selected_features].copy()"
   ]
  },
  {
   "cell_type": "markdown",
   "metadata": {},
   "source": [
    "Verificando a quantidade de valores faltantes ao longo das colunas, podemos ver que existem várias linhas que apresentam esse problema. A fim de contonar esse imbróglio, existem várias estratégias, desde simplesmente atribuir a média/mediana até utilizar de um algoritmo de machine learning para prever essses possíveis valores.\n",
    "\n",
    "Aqui não vamos utilizar nenhuma dessas estratégias citadas e vamos optar por utilizar uma que é bem simples: remover as linhas que contém valores nulos. \n",
    "\n",
    "Como nosso dataset possui uma quantidade grande quantidade de observações e os valores nulos atrapalhariam nossa análise já que ela se baseia fortemente nas notas, tentar atribuir algum valor para esses dados faltantes poderia gerar uma distorção indesejada."
   ]
  },
  {
   "cell_type": "code",
   "execution_count": 145,
   "metadata": {},
   "outputs": [
    {
     "data": {
      "text/plain": [
       "SG_UF_RESIDENCIA               0\n",
       "TP_SEXO                        0\n",
       "TP_COR_RACA                    0\n",
       "Q001                           0\n",
       "Q002                           0\n",
       "Q006                           0\n",
       "IN_BAIXA_VISAO                 0\n",
       "IN_CEGUEIRA                    0\n",
       "IN_SURDEZ                      0\n",
       "IN_DEFICIENCIA_AUDITIVA        0\n",
       "IN_SURDO_CEGUEIRA              0\n",
       "IN_DEFICIENCIA_FISICA          0\n",
       "IN_DEFICIENCIA_MENTAL          0\n",
       "IN_DEFICIT_ATENCAO             0\n",
       "IN_DISLEXIA                    0\n",
       "IN_DISCALCULIA                 0\n",
       "IN_AUTISMO                     0\n",
       "IN_VISAO_MONOCULAR             0\n",
       "IN_OUTRA_DEF                   0\n",
       "NU_NOTA_LC                 11370\n",
       "NU_NOTA_CH                 11370\n",
       "NU_NOTA_CN                 13524\n",
       "NU_NOTA_MT                 13524\n",
       "NU_NOTA_REDACAO            11370\n",
       "dtype: int64"
      ]
     },
     "execution_count": 145,
     "metadata": {},
     "output_type": "execute_result"
    }
   ],
   "source": [
    "df.isnull().sum()"
   ]
  },
  {
   "cell_type": "code",
   "execution_count": 146,
   "metadata": {},
   "outputs": [
    {
     "name": "stdout",
     "output_type": "stream",
     "text": [
      "Quantidade original de linhas: 50827\n",
      "Quantidade final de linhas: 37222\n"
     ]
    }
   ],
   "source": [
    "print(f'Quantidade original de linhas: {df.shape[0]}')\n",
    "df.dropna(inplace=True)\n",
    "print(f'Quantidade final de linhas: {df.shape[0]}')"
   ]
  },
  {
   "cell_type": "markdown",
   "metadata": {},
   "source": [
    "Primeiro, vamos criar uma nova coluna com a média geral entre todas as áreas de conhecimento e a redação. Visando fazer isso, podemos então somar as notas de cada observação e dividir por 5."
   ]
  },
  {
   "cell_type": "code",
   "execution_count": 147,
   "metadata": {},
   "outputs": [],
   "source": [
    "df['NU_NOTA_GERAL'] = df[['NU_NOTA_LC', 'NU_NOTA_CH', 'NU_NOTA_CN', 'NU_NOTA_MT', 'NU_NOTA_REDACAO']].sum(axis=1)/5"
   ]
  },
  {
   "cell_type": "markdown",
   "metadata": {},
   "source": [
    "A fim de agrupar grupos que são pouco representativos ao longo da nossa amostra, vamos juntar todas as colunas que informam se o candidato possui algum tipo de deficiência em uma única só. Para isso, basta somar horizontalmente os valores booleanos originalmente contidos nessas colunas e aplicar uma função que retorna True caso essa soma seja maior ou igual a 1 e False para o caso contrário."
   ]
  },
  {
   "cell_type": "code",
   "execution_count": 148,
   "metadata": {},
   "outputs": [],
   "source": [
    "deficiency = ['IN_BAIXA_VISAO', 'IN_CEGUEIRA', 'IN_SURDEZ', 'IN_DEFICIENCIA_AUDITIVA', 'IN_SURDO_CEGUEIRA','IN_DEFICIENCIA_FISICA', 'IN_DEFICIENCIA_MENTAL', 'IN_DEFICIT_ATENCAO', 'IN_DISLEXIA', 'IN_DISCALCULIA', 'IN_AUTISMO', 'IN_VISAO_MONOCULAR', 'IN_OUTRA_DEF']\n",
    "df['TP_PCD'] = df[deficiency].sum(axis=1).apply(lambda x: x>=1)\n",
    "df['TP_PCD'].replace({True: 'Sim',\n",
    "                      False: 'Não'}, inplace=True)"
   ]
  },
  {
   "cell_type": "markdown",
   "metadata": {},
   "source": [
    "Uma tarefa importante que vai nos ajudar a fazer gráficos mais explicativos é substituir os valores originais do dataset por valores mais explicativos. Por exemplo, a coluna TP_COR_RACA possui valores de 0 a 5 que, na realidade, representam uma raça. \n",
    "\n",
    "Portanto, com o auxílio do dicionário de features fornecido pelo INEP, vamos realizar as substituições necessárias nas colunas que parecem ser interessantes para nosso trabalho."
   ]
  },
  {
   "cell_type": "code",
   "execution_count": 149,
   "metadata": {},
   "outputs": [],
   "source": [
    "df['TP_SEXO'].replace({'F': 'Feminino',\n",
    "                       'M': 'Masculino'}, inplace=True)"
   ]
  },
  {
   "cell_type": "code",
   "execution_count": 150,
   "metadata": {},
   "outputs": [],
   "source": [
    "df['TP_COR_RACA'].replace({0: 'Não declarada',\n",
    "                           1: 'Branca',\n",
    "                           2: 'Preta',\n",
    "                           3: 'Parda',\n",
    "                           4: 'Amarela',\n",
    "                           5: 'Indígena'}, inplace=True)"
   ]
  },
  {
   "cell_type": "code",
   "execution_count": 151,
   "metadata": {},
   "outputs": [],
   "source": [
    "df['Q001'].replace({'A': 'Nunca estudou',\n",
    "                    'B': 'Fund. incompleto',\n",
    "                    'C': 'Fund. incompleto', \n",
    "                    'D': 'Medio incompleto',\n",
    "                    'E': 'Medio completo',\n",
    "                    'F': 'Superior completo',\n",
    "                    'G': 'Pós graduação',\n",
    "                    'H': 'Não sabe'}, inplace=True)\n",
    "\n",
    "df['Q002'].replace({'A': 'Nunca estudou',\n",
    "                    'B': 'Fund. incompleto',\n",
    "                    'C': 'Fund. incompleto', \n",
    "                    'D': 'Medio incompleto',\n",
    "                    'E': 'Medio completo',\n",
    "                    'F': 'Superior completo',\n",
    "                    'G': 'Pós graduação',\n",
    "                    'H': 'Não sabe'}, inplace=True)"
   ]
  },
  {
   "cell_type": "markdown",
   "metadata": {},
   "source": [
    "Como explicado no início do kernel, a ideia aqui é comparar a distribuição dos fatores entre as 1% melhores notas e as demais. A fim de fazer isso, vamos ordernar o dataset com base na recém criada coluna NU_NOTA_GERAL. "
   ]
  },
  {
   "cell_type": "code",
   "execution_count": 152,
   "metadata": {},
   "outputs": [
    {
     "data": {
      "text/html": [
       "<div>\n",
       "<style scoped>\n",
       "    .dataframe tbody tr th:only-of-type {\n",
       "        vertical-align: middle;\n",
       "    }\n",
       "\n",
       "    .dataframe tbody tr th {\n",
       "        vertical-align: top;\n",
       "    }\n",
       "\n",
       "    .dataframe thead th {\n",
       "        text-align: right;\n",
       "    }\n",
       "</style>\n",
       "<table border=\"1\" class=\"dataframe\">\n",
       "  <thead>\n",
       "    <tr style=\"text-align: right;\">\n",
       "      <th></th>\n",
       "      <th>SG_UF_RESIDENCIA</th>\n",
       "      <th>TP_SEXO</th>\n",
       "      <th>TP_COR_RACA</th>\n",
       "      <th>Q001</th>\n",
       "      <th>Q002</th>\n",
       "      <th>Q006</th>\n",
       "      <th>IN_BAIXA_VISAO</th>\n",
       "      <th>IN_CEGUEIRA</th>\n",
       "      <th>IN_SURDEZ</th>\n",
       "      <th>IN_DEFICIENCIA_AUDITIVA</th>\n",
       "      <th>...</th>\n",
       "      <th>IN_AUTISMO</th>\n",
       "      <th>IN_VISAO_MONOCULAR</th>\n",
       "      <th>IN_OUTRA_DEF</th>\n",
       "      <th>NU_NOTA_LC</th>\n",
       "      <th>NU_NOTA_CH</th>\n",
       "      <th>NU_NOTA_CN</th>\n",
       "      <th>NU_NOTA_MT</th>\n",
       "      <th>NU_NOTA_REDACAO</th>\n",
       "      <th>NU_NOTA_GERAL</th>\n",
       "      <th>TP_PCD</th>\n",
       "    </tr>\n",
       "  </thead>\n",
       "  <tbody>\n",
       "    <tr>\n",
       "      <th>38064</th>\n",
       "      <td>PR</td>\n",
       "      <td>Feminino</td>\n",
       "      <td>Branca</td>\n",
       "      <td>Medio completo</td>\n",
       "      <td>Pós graduação</td>\n",
       "      <td>P</td>\n",
       "      <td>0</td>\n",
       "      <td>0</td>\n",
       "      <td>0</td>\n",
       "      <td>0</td>\n",
       "      <td>...</td>\n",
       "      <td>0</td>\n",
       "      <td>0</td>\n",
       "      <td>0</td>\n",
       "      <td>706.4</td>\n",
       "      <td>755.3</td>\n",
       "      <td>808.7</td>\n",
       "      <td>949.3</td>\n",
       "      <td>940.0</td>\n",
       "      <td>831.94</td>\n",
       "      <td>Não</td>\n",
       "    </tr>\n",
       "    <tr>\n",
       "      <th>12381</th>\n",
       "      <td>PB</td>\n",
       "      <td>Masculino</td>\n",
       "      <td>Branca</td>\n",
       "      <td>Pós graduação</td>\n",
       "      <td>Pós graduação</td>\n",
       "      <td>Q</td>\n",
       "      <td>0</td>\n",
       "      <td>0</td>\n",
       "      <td>0</td>\n",
       "      <td>0</td>\n",
       "      <td>...</td>\n",
       "      <td>0</td>\n",
       "      <td>0</td>\n",
       "      <td>0</td>\n",
       "      <td>655.3</td>\n",
       "      <td>771.4</td>\n",
       "      <td>711.9</td>\n",
       "      <td>984.2</td>\n",
       "      <td>960.0</td>\n",
       "      <td>816.56</td>\n",
       "      <td>Não</td>\n",
       "    </tr>\n",
       "    <tr>\n",
       "      <th>46725</th>\n",
       "      <td>PI</td>\n",
       "      <td>Masculino</td>\n",
       "      <td>Parda</td>\n",
       "      <td>Superior completo</td>\n",
       "      <td>Pós graduação</td>\n",
       "      <td>Q</td>\n",
       "      <td>0</td>\n",
       "      <td>0</td>\n",
       "      <td>0</td>\n",
       "      <td>0</td>\n",
       "      <td>...</td>\n",
       "      <td>0</td>\n",
       "      <td>0</td>\n",
       "      <td>0</td>\n",
       "      <td>801.7</td>\n",
       "      <td>735.4</td>\n",
       "      <td>715.9</td>\n",
       "      <td>984.2</td>\n",
       "      <td>780.0</td>\n",
       "      <td>803.44</td>\n",
       "      <td>Não</td>\n",
       "    </tr>\n",
       "    <tr>\n",
       "      <th>30521</th>\n",
       "      <td>PR</td>\n",
       "      <td>Masculino</td>\n",
       "      <td>Branca</td>\n",
       "      <td>Pós graduação</td>\n",
       "      <td>Pós graduação</td>\n",
       "      <td>N</td>\n",
       "      <td>0</td>\n",
       "      <td>0</td>\n",
       "      <td>0</td>\n",
       "      <td>0</td>\n",
       "      <td>...</td>\n",
       "      <td>0</td>\n",
       "      <td>0</td>\n",
       "      <td>0</td>\n",
       "      <td>660.1</td>\n",
       "      <td>715.2</td>\n",
       "      <td>756.9</td>\n",
       "      <td>942.8</td>\n",
       "      <td>940.0</td>\n",
       "      <td>803.00</td>\n",
       "      <td>Não</td>\n",
       "    </tr>\n",
       "    <tr>\n",
       "      <th>7529</th>\n",
       "      <td>GO</td>\n",
       "      <td>Feminino</td>\n",
       "      <td>Branca</td>\n",
       "      <td>Pós graduação</td>\n",
       "      <td>Pós graduação</td>\n",
       "      <td>I</td>\n",
       "      <td>0</td>\n",
       "      <td>0</td>\n",
       "      <td>0</td>\n",
       "      <td>0</td>\n",
       "      <td>...</td>\n",
       "      <td>0</td>\n",
       "      <td>0</td>\n",
       "      <td>0</td>\n",
       "      <td>731.1</td>\n",
       "      <td>696.3</td>\n",
       "      <td>732.0</td>\n",
       "      <td>914.2</td>\n",
       "      <td>940.0</td>\n",
       "      <td>802.72</td>\n",
       "      <td>Não</td>\n",
       "    </tr>\n",
       "  </tbody>\n",
       "</table>\n",
       "<p>5 rows × 26 columns</p>\n",
       "</div>"
      ],
      "text/plain": [
       "      SG_UF_RESIDENCIA    TP_SEXO TP_COR_RACA               Q001  \\\n",
       "38064               PR   Feminino      Branca     Medio completo   \n",
       "12381               PB  Masculino      Branca      Pós graduação   \n",
       "46725               PI  Masculino       Parda  Superior completo   \n",
       "30521               PR  Masculino      Branca      Pós graduação   \n",
       "7529                GO   Feminino      Branca      Pós graduação   \n",
       "\n",
       "                Q002 Q006  IN_BAIXA_VISAO  IN_CEGUEIRA  IN_SURDEZ  \\\n",
       "38064  Pós graduação    P               0            0          0   \n",
       "12381  Pós graduação    Q               0            0          0   \n",
       "46725  Pós graduação    Q               0            0          0   \n",
       "30521  Pós graduação    N               0            0          0   \n",
       "7529   Pós graduação    I               0            0          0   \n",
       "\n",
       "       IN_DEFICIENCIA_AUDITIVA  ...  IN_AUTISMO  IN_VISAO_MONOCULAR  \\\n",
       "38064                        0  ...           0                   0   \n",
       "12381                        0  ...           0                   0   \n",
       "46725                        0  ...           0                   0   \n",
       "30521                        0  ...           0                   0   \n",
       "7529                         0  ...           0                   0   \n",
       "\n",
       "       IN_OUTRA_DEF  NU_NOTA_LC  NU_NOTA_CH  NU_NOTA_CN  NU_NOTA_MT  \\\n",
       "38064             0       706.4       755.3       808.7       949.3   \n",
       "12381             0       655.3       771.4       711.9       984.2   \n",
       "46725             0       801.7       735.4       715.9       984.2   \n",
       "30521             0       660.1       715.2       756.9       942.8   \n",
       "7529              0       731.1       696.3       732.0       914.2   \n",
       "\n",
       "       NU_NOTA_REDACAO  NU_NOTA_GERAL  TP_PCD  \n",
       "38064            940.0         831.94     Não  \n",
       "12381            960.0         816.56     Não  \n",
       "46725            780.0         803.44     Não  \n",
       "30521            940.0         803.00     Não  \n",
       "7529             940.0         802.72     Não  \n",
       "\n",
       "[5 rows x 26 columns]"
      ]
     },
     "execution_count": 152,
     "metadata": {},
     "output_type": "execute_result"
    }
   ],
   "source": [
    "df.sort_values(by=['NU_NOTA_GERAL'], ascending=False, inplace=True)\n",
    "df.head()"
   ]
  },
  {
   "cell_type": "markdown",
   "metadata": {},
   "source": [
    "Agora, vamos selecionar os candidatos com as notas entre o primeiro centil, ou seja, que estão as 1% melhores notas. Para isso, podemos resetar o índice e atribuir True ou False para os casos que estão, respectivamente, entre as 1% primeiras linhas e não. \n",
    "\n",
    "Depois, vamos manter a ideia de manter valores representativos e substituir esses valores booleanos gerados."
   ]
  },
  {
   "cell_type": "code",
   "execution_count": 153,
   "metadata": {},
   "outputs": [],
   "source": [
    "df['TP_RANKING'] = df.reset_index().drop(columns='index').index.to_numpy() < 1000\n",
    "df['TP_RANKING'].replace({True:  '1%',\n",
    "                          False: '99%'}, inplace=True)"
   ]
  },
  {
   "cell_type": "markdown",
   "metadata": {},
   "source": [
    "Essa próxima celula é puramente para fins estéticos. A fim de evitar que a distribuição das melhores notas seja exibida antes das demais, vamos ordernar o dataset com base nessa coluna nova que criamos anteriormente."
   ]
  },
  {
   "cell_type": "code",
   "execution_count": 154,
   "metadata": {},
   "outputs": [
    {
     "data": {
      "text/html": [
       "<div>\n",
       "<style scoped>\n",
       "    .dataframe tbody tr th:only-of-type {\n",
       "        vertical-align: middle;\n",
       "    }\n",
       "\n",
       "    .dataframe tbody tr th {\n",
       "        vertical-align: top;\n",
       "    }\n",
       "\n",
       "    .dataframe thead th {\n",
       "        text-align: right;\n",
       "    }\n",
       "</style>\n",
       "<table border=\"1\" class=\"dataframe\">\n",
       "  <thead>\n",
       "    <tr style=\"text-align: right;\">\n",
       "      <th></th>\n",
       "      <th>SG_UF_RESIDENCIA</th>\n",
       "      <th>TP_SEXO</th>\n",
       "      <th>TP_COR_RACA</th>\n",
       "      <th>Q001</th>\n",
       "      <th>Q002</th>\n",
       "      <th>Q006</th>\n",
       "      <th>IN_BAIXA_VISAO</th>\n",
       "      <th>IN_CEGUEIRA</th>\n",
       "      <th>IN_SURDEZ</th>\n",
       "      <th>IN_DEFICIENCIA_AUDITIVA</th>\n",
       "      <th>...</th>\n",
       "      <th>IN_VISAO_MONOCULAR</th>\n",
       "      <th>IN_OUTRA_DEF</th>\n",
       "      <th>NU_NOTA_LC</th>\n",
       "      <th>NU_NOTA_CH</th>\n",
       "      <th>NU_NOTA_CN</th>\n",
       "      <th>NU_NOTA_MT</th>\n",
       "      <th>NU_NOTA_REDACAO</th>\n",
       "      <th>NU_NOTA_GERAL</th>\n",
       "      <th>TP_PCD</th>\n",
       "      <th>TP_RANKING</th>\n",
       "    </tr>\n",
       "  </thead>\n",
       "  <tbody>\n",
       "    <tr>\n",
       "      <th>38064</th>\n",
       "      <td>PR</td>\n",
       "      <td>Feminino</td>\n",
       "      <td>Branca</td>\n",
       "      <td>Medio completo</td>\n",
       "      <td>Pós graduação</td>\n",
       "      <td>P</td>\n",
       "      <td>0</td>\n",
       "      <td>0</td>\n",
       "      <td>0</td>\n",
       "      <td>0</td>\n",
       "      <td>...</td>\n",
       "      <td>0</td>\n",
       "      <td>0</td>\n",
       "      <td>706.4</td>\n",
       "      <td>755.3</td>\n",
       "      <td>808.7</td>\n",
       "      <td>949.3</td>\n",
       "      <td>940.0</td>\n",
       "      <td>831.94</td>\n",
       "      <td>Não</td>\n",
       "      <td>1%</td>\n",
       "    </tr>\n",
       "    <tr>\n",
       "      <th>11984</th>\n",
       "      <td>PE</td>\n",
       "      <td>Masculino</td>\n",
       "      <td>Branca</td>\n",
       "      <td>Fund. incompleto</td>\n",
       "      <td>Pós graduação</td>\n",
       "      <td>G</td>\n",
       "      <td>0</td>\n",
       "      <td>0</td>\n",
       "      <td>0</td>\n",
       "      <td>0</td>\n",
       "      <td>...</td>\n",
       "      <td>0</td>\n",
       "      <td>0</td>\n",
       "      <td>621.7</td>\n",
       "      <td>663.0</td>\n",
       "      <td>629.3</td>\n",
       "      <td>747.7</td>\n",
       "      <td>900.0</td>\n",
       "      <td>712.34</td>\n",
       "      <td>Não</td>\n",
       "      <td>1%</td>\n",
       "    </tr>\n",
       "    <tr>\n",
       "      <th>19050</th>\n",
       "      <td>RS</td>\n",
       "      <td>Masculino</td>\n",
       "      <td>Branca</td>\n",
       "      <td>Fund. incompleto</td>\n",
       "      <td>Fund. incompleto</td>\n",
       "      <td>G</td>\n",
       "      <td>0</td>\n",
       "      <td>0</td>\n",
       "      <td>0</td>\n",
       "      <td>0</td>\n",
       "      <td>...</td>\n",
       "      <td>0</td>\n",
       "      <td>0</td>\n",
       "      <td>615.8</td>\n",
       "      <td>668.5</td>\n",
       "      <td>600.2</td>\n",
       "      <td>716.6</td>\n",
       "      <td>960.0</td>\n",
       "      <td>712.22</td>\n",
       "      <td>Não</td>\n",
       "      <td>1%</td>\n",
       "    </tr>\n",
       "    <tr>\n",
       "      <th>20192</th>\n",
       "      <td>GO</td>\n",
       "      <td>Masculino</td>\n",
       "      <td>Branca</td>\n",
       "      <td>Pós graduação</td>\n",
       "      <td>Pós graduação</td>\n",
       "      <td>L</td>\n",
       "      <td>0</td>\n",
       "      <td>0</td>\n",
       "      <td>0</td>\n",
       "      <td>0</td>\n",
       "      <td>...</td>\n",
       "      <td>0</td>\n",
       "      <td>0</td>\n",
       "      <td>596.5</td>\n",
       "      <td>726.2</td>\n",
       "      <td>579.1</td>\n",
       "      <td>698.4</td>\n",
       "      <td>960.0</td>\n",
       "      <td>712.04</td>\n",
       "      <td>Não</td>\n",
       "      <td>1%</td>\n",
       "    </tr>\n",
       "    <tr>\n",
       "      <th>25457</th>\n",
       "      <td>SP</td>\n",
       "      <td>Masculino</td>\n",
       "      <td>Branca</td>\n",
       "      <td>Superior completo</td>\n",
       "      <td>Superior completo</td>\n",
       "      <td>Q</td>\n",
       "      <td>0</td>\n",
       "      <td>0</td>\n",
       "      <td>0</td>\n",
       "      <td>0</td>\n",
       "      <td>...</td>\n",
       "      <td>0</td>\n",
       "      <td>0</td>\n",
       "      <td>610.2</td>\n",
       "      <td>650.8</td>\n",
       "      <td>649.2</td>\n",
       "      <td>789.5</td>\n",
       "      <td>860.0</td>\n",
       "      <td>711.94</td>\n",
       "      <td>Não</td>\n",
       "      <td>1%</td>\n",
       "    </tr>\n",
       "  </tbody>\n",
       "</table>\n",
       "<p>5 rows × 27 columns</p>\n",
       "</div>"
      ],
      "text/plain": [
       "      SG_UF_RESIDENCIA    TP_SEXO TP_COR_RACA               Q001  \\\n",
       "38064               PR   Feminino      Branca     Medio completo   \n",
       "11984               PE  Masculino      Branca   Fund. incompleto   \n",
       "19050               RS  Masculino      Branca   Fund. incompleto   \n",
       "20192               GO  Masculino      Branca      Pós graduação   \n",
       "25457               SP  Masculino      Branca  Superior completo   \n",
       "\n",
       "                    Q002 Q006  IN_BAIXA_VISAO  IN_CEGUEIRA  IN_SURDEZ  \\\n",
       "38064      Pós graduação    P               0            0          0   \n",
       "11984      Pós graduação    G               0            0          0   \n",
       "19050   Fund. incompleto    G               0            0          0   \n",
       "20192      Pós graduação    L               0            0          0   \n",
       "25457  Superior completo    Q               0            0          0   \n",
       "\n",
       "       IN_DEFICIENCIA_AUDITIVA  ...  IN_VISAO_MONOCULAR  IN_OUTRA_DEF  \\\n",
       "38064                        0  ...                   0             0   \n",
       "11984                        0  ...                   0             0   \n",
       "19050                        0  ...                   0             0   \n",
       "20192                        0  ...                   0             0   \n",
       "25457                        0  ...                   0             0   \n",
       "\n",
       "       NU_NOTA_LC  NU_NOTA_CH  NU_NOTA_CN  NU_NOTA_MT  NU_NOTA_REDACAO  \\\n",
       "38064       706.4       755.3       808.7       949.3            940.0   \n",
       "11984       621.7       663.0       629.3       747.7            900.0   \n",
       "19050       615.8       668.5       600.2       716.6            960.0   \n",
       "20192       596.5       726.2       579.1       698.4            960.0   \n",
       "25457       610.2       650.8       649.2       789.5            860.0   \n",
       "\n",
       "       NU_NOTA_GERAL  TP_PCD  TP_RANKING  \n",
       "38064         831.94     Não          1%  \n",
       "11984         712.34     Não          1%  \n",
       "19050         712.22     Não          1%  \n",
       "20192         712.04     Não          1%  \n",
       "25457         711.94     Não          1%  \n",
       "\n",
       "[5 rows x 27 columns]"
      ]
     },
     "execution_count": 154,
     "metadata": {},
     "output_type": "execute_result"
    }
   ],
   "source": [
    "df = df.sort_values(by='TP_RANKING')\n",
    "df.head()"
   ]
  },
  {
   "cell_type": "markdown",
   "metadata": {},
   "source": [
    "## Visualização de dados\n",
    "\n",
    "Chegamos finalmente a etapa de visualização de dados. Antes de mais nada, vamos escolher o estilo e a paleta de cores que vamos manter para todo o projeto. Eu particularmente gosto do estilo 'whitegrid' e da paleta (PALETA AQUI) mas você é livre para escolher o que mais te agradar :)"
   ]
  },
  {
   "cell_type": "code",
   "execution_count": 155,
   "metadata": {},
   "outputs": [],
   "source": [
    "sns.set_style('whitegrid')"
   ]
  },
  {
   "cell_type": "markdown",
   "metadata": {},
   "source": [
    "Agora, vamos criar uma função que gera um gráfico que compara a distribuição de uma determinada coluna entre as as melhores notas e entre as demais. \n",
    "\n",
    "Para isso, vamos utilzar o histplot do Seaborn. É importante que passemos os parametros ```stat=\"probability\"``` e  ```multiple=\"fill\"``` para gerar a aparência desejada, que é a de um gráfico de barra empilhado (stacked barplot).\n",
    "\n",
    "A fim de deixar mais explicátivo, vou deixar alguns comentários no código da função."
   ]
  },
  {
   "cell_type": "code",
   "execution_count": 156,
   "metadata": {},
   "outputs": [],
   "source": [
    "def compare_distribution(column, chart_title, legend_title):\n",
    "    fig, ax = plt.subplots(figsize=(15, 3)) \n",
    "    # Define o título do gráfico e cria o gráfico\n",
    "    ax.set_title(chart_title) \n",
    "    sns.histplot(df, y=\"TP_RANKING\", hue=column, stat=\"probability\", multiple=\"fill\", shrink=0.8, ax=ax, edgecolor=\"none\")\n",
    "    \n",
    "    # Remove as linhas dos eixos\n",
    "    sns.despine(left=True, bottom=True)\n",
    "    \n",
    "    # Remove o titulo do eixo vertical e define o do eixo horizontal\n",
    "    ax.set_ylabel('') \n",
    "    ax.set_xlabel('Proporção') \n",
    "    \n",
    "    # Muda a legenda de posição\n",
    "    legends = re.findall(r\"'(.*?)'\", str(list(ax.get_legend().get_texts())))\n",
    "    legends.reverse()\n",
    "    plt.legend(legends, title=legend_title,bbox_to_anchor=(0.5,-0.2), loc='upper center', ncol=3)\n",
    "    plt.show()"
   ]
  },
  {
   "cell_type": "markdown",
   "metadata": {},
   "source": [
    "De fato partindo pra análise, acho interessante começarmos com o recorte racial. Vamos lá:"
   ]
  },
  {
   "cell_type": "code",
   "execution_count": 157,
   "metadata": {
    "scrolled": true
   },
   "outputs": [
    {
     "data": {
      "image/png": "[encoded data removed]",
      "text/plain": [
       "<Figure size 1080x216 with 1 Axes>"
      ]
     },
     "metadata": {},
     "output_type": "display_data"
    }
   ],
   "source": [
    "compare_distribution('TP_COR_RACA', 'Distribuição das raças entre todos os candidatos e entre as melhores notas', 'Raças')"
   ]
  },
  {
   "cell_type": "markdown",
   "metadata": {},
   "source": [
    "Aqui podemos ver claramente que:\n",
    " * A parcela correspondente a população parda, preta e indígena é subrepresentada entre as melhores notas.\n",
    " * A parcela correspondente a população branca é a que mais ganha volume quando comparamos o grupo mais geral com o grupo das melhores notas."
   ]
  },
  {
   "cell_type": "markdown",
   "metadata": {},
   "source": [
    "Agora, vamos analisar como a formação dos pais varia entre os dois grupos."
   ]
  },
  {
   "cell_type": "code",
   "execution_count": 158,
   "metadata": {},
   "outputs": [
    {
     "data": {
      "image/png": "[encoded data removed]",
      "text/plain": [
       "<Figure size 1080x216 with 1 Axes>"
      ]
     },
     "metadata": {},
     "output_type": "display_data"
    }
   ],
   "source": [
    "compare_distribution('Q001', 'Formação do pai entre todos os candidatos e entre as melhores notas', 'Formação do pai')"
   ]
  },
  {
   "cell_type": "code",
   "execution_count": 159,
   "metadata": {
    "scrolled": true
   },
   "outputs": [
    {
     "data": {
      "image/png": "[encoded data removed]",
      "text/plain": [
       "<Figure size 1080x216 with 1 Axes>"
      ]
     },
     "metadata": {},
     "output_type": "display_data"
    }
   ],
   "source": [
    "compare_distribution('Q002', 'Formação da mãe entre todos os candidatos e entre as melhores notas', 'Formação da mãe')"
   ]
  },
  {
   "cell_type": "markdown",
   "metadata": {},
   "source": [
    "A partir dos gráficos anteriores, podemos dizer que existe alguma tendência para que alunos cujos pais possuem maior grau de instrução possuam um desempenho maior na prova."
   ]
  },
  {
   "cell_type": "markdown",
   "metadata": {},
   "source": [
    "Agora, um recorte importante a ser feito em um país que tem bastante dificuldade em inserir e manter a pessoa com deficiência no ambiente escolar/acadêmico é o de como essas pessoas estão distribuidas entre esses dois grupos em análise."
   ]
  },
  {
   "cell_type": "code",
   "execution_count": 160,
   "metadata": {},
   "outputs": [
    {
     "data": {
      "image/png": "[encoded data removed]",
      "text/plain": [
       "<Figure size 1080x216 with 1 Axes>"
      ]
     },
     "metadata": {},
     "output_type": "display_data"
    }
   ],
   "source": [
    "compare_distribution('TP_PCD', 'Distribuição de PCD entre todos os candidatos e entre as melhores notas', 'É PCD?')"
   ]
  },
  {
   "cell_type": "markdown",
   "metadata": {},
   "source": [
    "Uma grata surpresa! Temos uma pequena mas positiva diferença no número de pessoas com deficiências em favor do grupo com as top 1% notas. "
   ]
  },
  {
   "cell_type": "markdown",
   "metadata": {},
   "source": [
    "Por fim, vamos analisar se existe alguma variação na distribuição dos sexos ao longo desses grupos analisados até aqui."
   ]
  },
  {
   "cell_type": "code",
   "execution_count": 161,
   "metadata": {
    "scrolled": true
   },
   "outputs": [
    {
     "data": {
      "image/png": "[encoded data removed]",
      "text/plain": [
       "<Figure size 1080x216 with 1 Axes>"
      ]
     },
     "metadata": {},
     "output_type": "display_data"
    }
   ],
   "source": [
    "compare_distribution('TP_SEXO', 'Distribuição de gêneros entre todos os candidatos e entre as melhores notas', 'Gênero')"
   ]
  },
  {
   "cell_type": "markdown",
   "metadata": {},
   "source": [
    "Aqui podemos notar que os homens possuem uma maior representação entre as maiores notas, estando em aproximadamente 10% mais presentes quando comparados com o resto da população analisada."
   ]
  },
  {
   "cell_type": "markdown",
   "metadata": {},
   "source": [
    "Nesse últiimo recorte, acho que é valido fazer uma análise mais detalhada com base na pergunta \"qual área será que é responsável por trazer essa maior representação dos homens entre as maiores notas?\"\n",
    "\n",
    "A fim de visualizar isso, vamos sobrepor os histogramas das notas de cada área do conhecimento de cada grupo desse. Isso vai trazer uma visualização bastante interessante e a partir dela podemos formular algumas hipóteses."
   ]
  },
  {
   "cell_type": "code",
   "execution_count": 162,
   "metadata": {},
   "outputs": [
    {
     "data": {
      "image/png": "[encoded data removed]",
      "text/plain": [
       "<Figure size 1440x576 with 6 Axes>"
      ]
     },
     "metadata": {},
     "output_type": "display_data"
    }
   ],
   "source": [
    "fig, ax = plt.subplots(2, 3, figsize=(20, 8))\n",
    "\n",
    "sns.kdeplot(data=df.query(\"TP_RANKING == '99%'\"), x='NU_NOTA_LC', ax=ax[0, 0], color='r', label='Melhores 1%', shade=True)\n",
    "sns.kdeplot(data=df.query(\"TP_RANKING == '99%'\"), x='NU_NOTA_CH', ax=ax[0, 1], color='r', label='Melhores 1%', shade=True)\n",
    "sns.kdeplot(data=df.query(\"TP_RANKING == '99%'\"), x='NU_NOTA_CN', ax=ax[0, 2], color='r', label='Melhores 1%', shade=True)\n",
    "sns.kdeplot(data=df.query(\"TP_RANKING == '99%'\"), x='NU_NOTA_MT', ax=ax[1, 0], color='r', label='Melhores 1%', shade=True)\n",
    "sns.kdeplot(data=df.query(\"TP_RANKING == '99%'\"), x='NU_NOTA_REDACAO', ax=ax[1, 1], color='r',  label='Melhores 1%', shade=True)\n",
    "\n",
    "sns.kdeplot(data=df.query(\"TP_RANKING == '1%'\"), x='NU_NOTA_LC', ax=ax[0, 0], color='b', label='Demais notas', shade=True)\n",
    "sns.kdeplot(data=df.query(\"TP_RANKING == '1%'\"), x='NU_NOTA_CH', ax=ax[0, 1], color='b', label='Demais notas', shade=True)\n",
    "sns.kdeplot(data=df.query(\"TP_RANKING == '1%'\"), x='NU_NOTA_CN', ax=ax[0, 2], color='b', label='Demais notas',shade=True)\n",
    "sns.kdeplot(data=df.query(\"TP_RANKING == '1%'\"), x='NU_NOTA_MT', ax=ax[1, 0], color='b', label='Demais notas',shade=True)\n",
    "sns.kdeplot(data=df.query(\"TP_RANKING == '1%'\"), x='NU_NOTA_REDACAO', ax=ax[1,1], color='b', label='Demais notas', shade=True)\n",
    "\n",
    "ax[0,0].legend(loc='upper left')\n",
    "ax[0,1].legend(loc='upper left')\n",
    "ax[0,2].legend(loc='upper left')\n",
    "ax[1,0].legend(loc='upper left')\n",
    "ax[1,1].legend(loc='upper left')\n",
    "\n",
    "plt.show()"
   ]
  },
  {
   "cell_type": "markdown",
   "metadata": {},
   "source": [
    "Pelo comportamento exibido nas curvas anteriores, podemos notar que principalmente nas provas de matemática e redação eexiste uma diferença significativa entre as medidas de tendência central das duas tribuições. Só para fins de confirmação, vamos escrever lado a lado a mediana de cada distribuição."
   ]
  },
  {
   "cell_type": "code",
   "execution_count": 163,
   "metadata": {},
   "outputs": [],
   "source": [
    "import numpy as np"
   ]
  },
  {
   "cell_type": "code",
   "execution_count": 186,
   "metadata": {},
   "outputs": [
    {
     "data": {
      "text/html": [
       "<div>\n",
       "<style scoped>\n",
       "    .dataframe tbody tr th:only-of-type {\n",
       "        vertical-align: middle;\n",
       "    }\n",
       "\n",
       "    .dataframe tbody tr th {\n",
       "        vertical-align: top;\n",
       "    }\n",
       "\n",
       "    .dataframe thead th {\n",
       "        text-align: right;\n",
       "    }\n",
       "</style>\n",
       "<table border=\"1\" class=\"dataframe\">\n",
       "  <thead>\n",
       "    <tr style=\"text-align: right;\">\n",
       "      <th></th>\n",
       "      <th>Mediana dos melhores 1%</th>\n",
       "      <th>Mediana dos demais candidatos</th>\n",
       "      <th>Diferença</th>\n",
       "    </tr>\n",
       "  </thead>\n",
       "  <tbody>\n",
       "    <tr>\n",
       "      <th>NU_NOTA_LC</th>\n",
       "      <td>628.20</td>\n",
       "      <td>526.2</td>\n",
       "      <td>102.00</td>\n",
       "    </tr>\n",
       "    <tr>\n",
       "      <th>NU_NOTA_CH</th>\n",
       "      <td>663.95</td>\n",
       "      <td>510.2</td>\n",
       "      <td>153.75</td>\n",
       "    </tr>\n",
       "    <tr>\n",
       "      <th>NU_NOTA_CN</th>\n",
       "      <td>641.15</td>\n",
       "      <td>467.1</td>\n",
       "      <td>174.05</td>\n",
       "    </tr>\n",
       "    <tr>\n",
       "      <th>NU_NOTA_MT</th>\n",
       "      <td>775.35</td>\n",
       "      <td>496.4</td>\n",
       "      <td>278.95</td>\n",
       "    </tr>\n",
       "    <tr>\n",
       "      <th>NU_NOTA_REDACAO</th>\n",
       "      <td>920.00</td>\n",
       "      <td>580.0</td>\n",
       "      <td>340.00</td>\n",
       "    </tr>\n",
       "  </tbody>\n",
       "</table>\n",
       "</div>"
      ],
      "text/plain": [
       "                 Mediana dos melhores 1%  Mediana dos demais candidatos  \\\n",
       "NU_NOTA_LC                        628.20                          526.2   \n",
       "NU_NOTA_CH                        663.95                          510.2   \n",
       "NU_NOTA_CN                        641.15                          467.1   \n",
       "NU_NOTA_MT                        775.35                          496.4   \n",
       "NU_NOTA_REDACAO                   920.00                          580.0   \n",
       "\n",
       "                 Diferença  \n",
       "NU_NOTA_LC          102.00  \n",
       "NU_NOTA_CH          153.75  \n",
       "NU_NOTA_CN          174.05  \n",
       "NU_NOTA_MT          278.95  \n",
       "NU_NOTA_REDACAO     340.00  "
      ]
     },
     "execution_count": 186,
     "metadata": {},
     "output_type": "execute_result"
    }
   ],
   "source": [
    "scores = ['NU_NOTA_LC', 'NU_NOTA_CH', 'NU_NOTA_CN', 'NU_NOTA_MT', 'NU_NOTA_REDACAO']\n",
    "a = df.query(\"TP_RANKING == '1%'\")[scores].median()\n",
    "b = df.query(\"TP_RANKING == '99%'\")[scores].median()\n",
    "metrics = pd.DataFrame(pd.concat([a, b], axis=1))\n",
    "metrics.columns = ['Mediana dos melhores 1%', 'Mediana dos demais candidatos']\n",
    "metrics['Diferença'] = metrics['Mediana dos melhores 1%'] - metrics['Mediana dos demais candidatos']\n",
    "metrics"
   ]
  },
  {
   "cell_type": "code",
   "execution_count": 140,
   "metadata": {},
   "outputs": [
    {
     "data": {
      "text/html": [
       "<div>\n",
       "<style scoped>\n",
       "    .dataframe tbody tr th:only-of-type {\n",
       "        vertical-align: middle;\n",
       "    }\n",
       "\n",
       "    .dataframe tbody tr th {\n",
       "        vertical-align: top;\n",
       "    }\n",
       "\n",
       "    .dataframe thead th {\n",
       "        text-align: right;\n",
       "    }\n",
       "</style>\n",
       "<table border=\"1\" class=\"dataframe\">\n",
       "  <thead>\n",
       "    <tr style=\"text-align: right;\">\n",
       "      <th></th>\n",
       "      <th>0</th>\n",
       "    </tr>\n",
       "  </thead>\n",
       "  <tbody>\n",
       "    <tr>\n",
       "      <th>0</th>\n",
       "      <td>627.70</td>\n",
       "    </tr>\n",
       "    <tr>\n",
       "      <th>1</th>\n",
       "      <td>663.90</td>\n",
       "    </tr>\n",
       "    <tr>\n",
       "      <th>2</th>\n",
       "      <td>639.35</td>\n",
       "    </tr>\n",
       "    <tr>\n",
       "      <th>3</th>\n",
       "      <td>777.75</td>\n",
       "    </tr>\n",
       "    <tr>\n",
       "      <th>4</th>\n",
       "      <td>920.00</td>\n",
       "    </tr>\n",
       "    <tr>\n",
       "      <th>5</th>\n",
       "      <td>525.70</td>\n",
       "    </tr>\n",
       "    <tr>\n",
       "      <th>6</th>\n",
       "      <td>510.50</td>\n",
       "    </tr>\n",
       "    <tr>\n",
       "      <th>7</th>\n",
       "      <td>467.30</td>\n",
       "    </tr>\n",
       "    <tr>\n",
       "      <th>8</th>\n",
       "      <td>496.90</td>\n",
       "    </tr>\n",
       "    <tr>\n",
       "      <th>9</th>\n",
       "      <td>580.00</td>\n",
       "    </tr>\n",
       "  </tbody>\n",
       "</table>\n",
       "</div>"
      ],
      "text/plain": [
       "        0\n",
       "0  627.70\n",
       "1  663.90\n",
       "2  639.35\n",
       "3  777.75\n",
       "4  920.00\n",
       "5  525.70\n",
       "6  510.50\n",
       "7  467.30\n",
       "8  496.90\n",
       "9  580.00"
      ]
     },
     "execution_count": 140,
     "metadata": {},
     "output_type": "execute_result"
    }
   ],
   "source": [
    "df"
   ]
  },
  {
   "cell_type": "code",
   "execution_count": 135,
   "metadata": {},
   "outputs": [
    {
     "data": {
      "text/plain": [
       "NU_NOTA_LC         525.7\n",
       "NU_NOTA_CH         510.5\n",
       "NU_NOTA_CN         467.3\n",
       "NU_NOTA_MT         496.9\n",
       "NU_NOTA_REDACAO    580.0\n",
       "dtype: float64"
      ]
     },
     "execution_count": 135,
     "metadata": {},
     "output_type": "execute_result"
    }
   ],
   "source": [
    "df.query(\"TP_RANKING == '99%'\")[scores].median()"
   ]
  },
  {
   "cell_type": "code",
   "execution_count": null,
   "metadata": {},
   "outputs": [],
   "source": []
  }
 ],
 "metadata": {
  "kernelspec": {
   "display_name": "Python 3",
   "language": "python",
   "name": "python3"
  },
  "language_info": {
   "codemirror_mode": {
    "name": "ipython",
    "version": 3
   },
   "file_extension": ".py",
   "mimetype": "text/x-python",
   "name": "python",
   "nbconvert_exporter": "python",
   "pygments_lexer": "ipython3",
   "version": "3.8.1"
  }
 },
 "nbformat": 4,
 "nbformat_minor": 2
}
