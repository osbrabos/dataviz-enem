{
 "cells": [
  {
   "cell_type": "code",
   "execution_count": 264,
   "metadata": {},
   "outputs": [],
   "source": [
    "import random\n",
    "import pandas as pd\n",
    "import matplotlib.pyplot as plt\n",
    "import seaborn as sns"
   ]
  },
  {
   "cell_type": "code",
   "execution_count": 265,
   "metadata": {},
   "outputs": [
    {
     "data": {
      "text/html": [
       "<div>\n",
       "<style scoped>\n",
       "    .dataframe tbody tr th:only-of-type {\n",
       "        vertical-align: middle;\n",
       "    }\n",
       "\n",
       "    .dataframe tbody tr th {\n",
       "        vertical-align: top;\n",
       "    }\n",
       "\n",
       "    .dataframe thead th {\n",
       "        text-align: right;\n",
       "    }\n",
       "</style>\n",
       "<table border=\"1\" class=\"dataframe\">\n",
       "  <thead>\n",
       "    <tr style=\"text-align: right;\">\n",
       "      <th></th>\n",
       "      <th>NU_INSCRICAO</th>\n",
       "      <th>NU_ANO</th>\n",
       "      <th>CO_MUNICIPIO_RESIDENCIA</th>\n",
       "      <th>NO_MUNICIPIO_RESIDENCIA</th>\n",
       "      <th>CO_UF_RESIDENCIA</th>\n",
       "      <th>SG_UF_RESIDENCIA</th>\n",
       "      <th>NU_IDADE</th>\n",
       "      <th>TP_SEXO</th>\n",
       "      <th>TP_ESTADO_CIVIL</th>\n",
       "      <th>TP_COR_RACA</th>\n",
       "      <th>...</th>\n",
       "      <th>Q016</th>\n",
       "      <th>Q017</th>\n",
       "      <th>Q018</th>\n",
       "      <th>Q019</th>\n",
       "      <th>Q020</th>\n",
       "      <th>Q021</th>\n",
       "      <th>Q022</th>\n",
       "      <th>Q023</th>\n",
       "      <th>Q024</th>\n",
       "      <th>Q025</th>\n",
       "    </tr>\n",
       "  </thead>\n",
       "  <tbody>\n",
       "    <tr>\n",
       "      <th>0</th>\n",
       "      <td>190001004653</td>\n",
       "      <td>2019</td>\n",
       "      <td>1503606</td>\n",
       "      <td>Itaituba</td>\n",
       "      <td>15</td>\n",
       "      <td>PA</td>\n",
       "      <td>16</td>\n",
       "      <td>F</td>\n",
       "      <td>1</td>\n",
       "      <td>2</td>\n",
       "      <td>...</td>\n",
       "      <td>B</td>\n",
       "      <td>A</td>\n",
       "      <td>A</td>\n",
       "      <td>C</td>\n",
       "      <td>A</td>\n",
       "      <td>A</td>\n",
       "      <td>E</td>\n",
       "      <td>A</td>\n",
       "      <td>B</td>\n",
       "      <td>B</td>\n",
       "    </tr>\n",
       "    <tr>\n",
       "      <th>1</th>\n",
       "      <td>190001004669</td>\n",
       "      <td>2019</td>\n",
       "      <td>1501402</td>\n",
       "      <td>Belém</td>\n",
       "      <td>15</td>\n",
       "      <td>PA</td>\n",
       "      <td>23</td>\n",
       "      <td>M</td>\n",
       "      <td>0</td>\n",
       "      <td>3</td>\n",
       "      <td>...</td>\n",
       "      <td>A</td>\n",
       "      <td>A</td>\n",
       "      <td>A</td>\n",
       "      <td>B</td>\n",
       "      <td>A</td>\n",
       "      <td>A</td>\n",
       "      <td>E</td>\n",
       "      <td>A</td>\n",
       "      <td>B</td>\n",
       "      <td>B</td>\n",
       "    </tr>\n",
       "    <tr>\n",
       "      <th>2</th>\n",
       "      <td>190001005173</td>\n",
       "      <td>2019</td>\n",
       "      <td>1501402</td>\n",
       "      <td>Belém</td>\n",
       "      <td>15</td>\n",
       "      <td>PA</td>\n",
       "      <td>18</td>\n",
       "      <td>F</td>\n",
       "      <td>1</td>\n",
       "      <td>3</td>\n",
       "      <td>...</td>\n",
       "      <td>B</td>\n",
       "      <td>A</td>\n",
       "      <td>A</td>\n",
       "      <td>B</td>\n",
       "      <td>A</td>\n",
       "      <td>A</td>\n",
       "      <td>E</td>\n",
       "      <td>A</td>\n",
       "      <td>A</td>\n",
       "      <td>A</td>\n",
       "    </tr>\n",
       "    <tr>\n",
       "      <th>3</th>\n",
       "      <td>190001005242</td>\n",
       "      <td>2019</td>\n",
       "      <td>1501402</td>\n",
       "      <td>Belém</td>\n",
       "      <td>15</td>\n",
       "      <td>PA</td>\n",
       "      <td>18</td>\n",
       "      <td>M</td>\n",
       "      <td>1</td>\n",
       "      <td>3</td>\n",
       "      <td>...</td>\n",
       "      <td>B</td>\n",
       "      <td>A</td>\n",
       "      <td>A</td>\n",
       "      <td>B</td>\n",
       "      <td>B</td>\n",
       "      <td>B</td>\n",
       "      <td>C</td>\n",
       "      <td>A</td>\n",
       "      <td>A</td>\n",
       "      <td>B</td>\n",
       "    </tr>\n",
       "    <tr>\n",
       "      <th>4</th>\n",
       "      <td>190001005322</td>\n",
       "      <td>2019</td>\n",
       "      <td>1501402</td>\n",
       "      <td>Belém</td>\n",
       "      <td>15</td>\n",
       "      <td>PA</td>\n",
       "      <td>17</td>\n",
       "      <td>F</td>\n",
       "      <td>1</td>\n",
       "      <td>3</td>\n",
       "      <td>...</td>\n",
       "      <td>A</td>\n",
       "      <td>A</td>\n",
       "      <td>A</td>\n",
       "      <td>B</td>\n",
       "      <td>A</td>\n",
       "      <td>A</td>\n",
       "      <td>C</td>\n",
       "      <td>A</td>\n",
       "      <td>A</td>\n",
       "      <td>A</td>\n",
       "    </tr>\n",
       "  </tbody>\n",
       "</table>\n",
       "<p>5 rows × 136 columns</p>\n",
       "</div>"
      ],
      "text/plain": [
       "   NU_INSCRICAO  NU_ANO  CO_MUNICIPIO_RESIDENCIA NO_MUNICIPIO_RESIDENCIA  \\\n",
       "0  190001004653    2019                  1503606                Itaituba   \n",
       "1  190001004669    2019                  1501402                   Belém   \n",
       "2  190001005173    2019                  1501402                   Belém   \n",
       "3  190001005242    2019                  1501402                   Belém   \n",
       "4  190001005322    2019                  1501402                   Belém   \n",
       "\n",
       "   CO_UF_RESIDENCIA SG_UF_RESIDENCIA  NU_IDADE TP_SEXO  TP_ESTADO_CIVIL  \\\n",
       "0                15               PA        16       F                1   \n",
       "1                15               PA        23       M                0   \n",
       "2                15               PA        18       F                1   \n",
       "3                15               PA        18       M                1   \n",
       "4                15               PA        17       F                1   \n",
       "\n",
       "   TP_COR_RACA  ...  Q016  Q017 Q018  Q019 Q020  Q021  Q022  Q023  Q024  Q025  \n",
       "0            2  ...     B     A    A     C    A     A     E     A     B     B  \n",
       "1            3  ...     A     A    A     B    A     A     E     A     B     B  \n",
       "2            3  ...     B     A    A     B    A     A     E     A     A     A  \n",
       "3            3  ...     B     A    A     B    B     B     C     A     A     B  \n",
       "4            3  ...     A     A    A     B    A     A     C     A     A     A  \n",
       "\n",
       "[5 rows x 136 columns]"
      ]
     },
     "execution_count": 265,
     "metadata": {},
     "output_type": "execute_result"
    }
   ],
   "source": [
    "p = 0.01\n",
    "\n",
    "df = pd.read_csv(\n",
    "    'MICRODADOS_ENEM_2019.csv',\n",
    "    header=0,\n",
    "    encoding = \"ISO-8859-1\",\n",
    "    skiprows=lambda i: i > 0 and random.random() > p,\n",
    "    sep=';'\n",
    ")\n",
    "\n",
    "df.head()"
   ]
  },
  {
   "cell_type": "code",
   "execution_count": 266,
   "metadata": {},
   "outputs": [],
   "source": [
    "df['NU_NOTA_GERAL'] = df[['NU_NOTA_LC', 'NU_NOTA_CH', 'NU_NOTA_CN', 'NU_NOTA_MT', 'NU_NOTA_REDACAO']].sum(axis=1)/5"
   ]
  },
  {
   "cell_type": "code",
   "execution_count": 267,
   "metadata": {},
   "outputs": [],
   "source": [
    "deficiency = ['IN_BAIXA_VISAO', 'IN_CEGUEIRA', 'IN_SURDEZ', 'IN_DEFICIENCIA_AUDITIVA', 'IN_SURDO_CEGUEIRA','IN_DEFICIENCIA_FISICA', 'IN_DEFICIENCIA_MENTAL', 'IN_DEFICIT_ATENCAO', 'IN_DISLEXIA', 'IN_DISCALCULIA', 'IN_AUTISMO', 'IN_VISAO_MONOCULAR', 'IN_OUTRA_DEF']\n",
    "df['TP_PCD'] = df[deficiency].sum(axis=1).apply(lambda x: x>=1)"
   ]
  },
  {
   "cell_type": "code",
   "execution_count": 268,
   "metadata": {},
   "outputs": [],
   "source": [
    "df['TP_COR_RACA'].replace({0: 'Não declarada',\n",
    "                           1: 'Branca',\n",
    "                           2: 'Preta',\n",
    "                           3: 'Parda',\n",
    "                           4: 'Amarela',\n",
    "                           5: 'Indígena'}, inplace=True)"
   ]
  },
  {
   "cell_type": "code",
   "execution_count": 269,
   "metadata": {},
   "outputs": [],
   "source": [
    "df['Q001'].replace({'A': 'Nunca estudou',\n",
    "                    'B': 'Fund. incompleto',\n",
    "                    'C': 'Fund. incompleto', \n",
    "                    'D': 'Medio incompleto',\n",
    "                    'E': 'Medio completo',\n",
    "                    'F': 'Superior completo',\n",
    "                    'G': 'Pós graduação',\n",
    "                    'H': 'Não sabe'}, inplace=True)\n",
    "\n",
    "df['Q002'].replace({'A': 'Nunca estudou',\n",
    "                    'B': 'Fund. incompleto',\n",
    "                    'C': 'Fund. incompleto', \n",
    "                    'D': 'Medio incompleto',\n",
    "                    'E': 'Medio completo',\n",
    "                    'F': 'Superior completo',\n",
    "                    'G': 'Pós graduação',\n",
    "                    'H': 'Não sabe'}, inplace=True)"
   ]
  },
  {
   "cell_type": "code",
   "execution_count": 270,
   "metadata": {},
   "outputs": [],
   "source": [
    "df = df[['SG_UF_RESIDENCIA', 'TP_SEXO', 'TP_COR_RACA', 'TP_PCD', 'Q001', 'Q002', 'Q006',\n",
    "         'NU_NOTA_LC', 'NU_NOTA_CH', 'NU_NOTA_CN', 'NU_NOTA_MT', 'NU_NOTA_REDACAO', 'NU_NOTA_GERAL']]"
   ]
  },
  {
   "cell_type": "code",
   "execution_count": 271,
   "metadata": {},
   "outputs": [
    {
     "data": {
      "text/html": [
       "<div>\n",
       "<style scoped>\n",
       "    .dataframe tbody tr th:only-of-type {\n",
       "        vertical-align: middle;\n",
       "    }\n",
       "\n",
       "    .dataframe tbody tr th {\n",
       "        vertical-align: top;\n",
       "    }\n",
       "\n",
       "    .dataframe thead th {\n",
       "        text-align: right;\n",
       "    }\n",
       "</style>\n",
       "<table border=\"1\" class=\"dataframe\">\n",
       "  <thead>\n",
       "    <tr style=\"text-align: right;\">\n",
       "      <th></th>\n",
       "      <th>SG_UF_RESIDENCIA</th>\n",
       "      <th>TP_SEXO</th>\n",
       "      <th>TP_COR_RACA</th>\n",
       "      <th>TP_PCD</th>\n",
       "      <th>Q001</th>\n",
       "      <th>Q002</th>\n",
       "      <th>Q006</th>\n",
       "      <th>NU_NOTA_LC</th>\n",
       "      <th>NU_NOTA_CH</th>\n",
       "      <th>NU_NOTA_CN</th>\n",
       "      <th>NU_NOTA_MT</th>\n",
       "      <th>NU_NOTA_REDACAO</th>\n",
       "      <th>NU_NOTA_GERAL</th>\n",
       "    </tr>\n",
       "  </thead>\n",
       "  <tbody>\n",
       "    <tr>\n",
       "      <th>29909</th>\n",
       "      <td>MG</td>\n",
       "      <td>M</td>\n",
       "      <td>Branca</td>\n",
       "      <td>False</td>\n",
       "      <td>Pós graduação</td>\n",
       "      <td>Pós graduação</td>\n",
       "      <td>O</td>\n",
       "      <td>723.5</td>\n",
       "      <td>790.0</td>\n",
       "      <td>705.8</td>\n",
       "      <td>964.8</td>\n",
       "      <td>980.0</td>\n",
       "      <td>832.82</td>\n",
       "    </tr>\n",
       "    <tr>\n",
       "      <th>18258</th>\n",
       "      <td>MG</td>\n",
       "      <td>M</td>\n",
       "      <td>Branca</td>\n",
       "      <td>False</td>\n",
       "      <td>Pós graduação</td>\n",
       "      <td>Pós graduação</td>\n",
       "      <td>Q</td>\n",
       "      <td>692.7</td>\n",
       "      <td>672.2</td>\n",
       "      <td>715.6</td>\n",
       "      <td>984.7</td>\n",
       "      <td>960.0</td>\n",
       "      <td>805.04</td>\n",
       "    </tr>\n",
       "    <tr>\n",
       "      <th>28341</th>\n",
       "      <td>GO</td>\n",
       "      <td>M</td>\n",
       "      <td>Branca</td>\n",
       "      <td>False</td>\n",
       "      <td>Pós graduação</td>\n",
       "      <td>Pós graduação</td>\n",
       "      <td>Q</td>\n",
       "      <td>653.0</td>\n",
       "      <td>755.3</td>\n",
       "      <td>756.1</td>\n",
       "      <td>886.2</td>\n",
       "      <td>960.0</td>\n",
       "      <td>802.12</td>\n",
       "    </tr>\n",
       "    <tr>\n",
       "      <th>8342</th>\n",
       "      <td>SP</td>\n",
       "      <td>M</td>\n",
       "      <td>Branca</td>\n",
       "      <td>False</td>\n",
       "      <td>Pós graduação</td>\n",
       "      <td>Pós graduação</td>\n",
       "      <td>M</td>\n",
       "      <td>664.0</td>\n",
       "      <td>725.8</td>\n",
       "      <td>755.3</td>\n",
       "      <td>902.3</td>\n",
       "      <td>960.0</td>\n",
       "      <td>801.48</td>\n",
       "    </tr>\n",
       "    <tr>\n",
       "      <th>35237</th>\n",
       "      <td>MG</td>\n",
       "      <td>M</td>\n",
       "      <td>Branca</td>\n",
       "      <td>False</td>\n",
       "      <td>Pós graduação</td>\n",
       "      <td>Superior completo</td>\n",
       "      <td>J</td>\n",
       "      <td>710.7</td>\n",
       "      <td>713.3</td>\n",
       "      <td>712.9</td>\n",
       "      <td>885.4</td>\n",
       "      <td>980.0</td>\n",
       "      <td>800.46</td>\n",
       "    </tr>\n",
       "  </tbody>\n",
       "</table>\n",
       "</div>"
      ],
      "text/plain": [
       "      SG_UF_RESIDENCIA TP_SEXO TP_COR_RACA  TP_PCD           Q001  \\\n",
       "29909               MG       M      Branca   False  Pós graduação   \n",
       "18258               MG       M      Branca   False  Pós graduação   \n",
       "28341               GO       M      Branca   False  Pós graduação   \n",
       "8342                SP       M      Branca   False  Pós graduação   \n",
       "35237               MG       M      Branca   False  Pós graduação   \n",
       "\n",
       "                    Q002 Q006  NU_NOTA_LC  NU_NOTA_CH  NU_NOTA_CN  NU_NOTA_MT  \\\n",
       "29909      Pós graduação    O       723.5       790.0       705.8       964.8   \n",
       "18258      Pós graduação    Q       692.7       672.2       715.6       984.7   \n",
       "28341      Pós graduação    Q       653.0       755.3       756.1       886.2   \n",
       "8342       Pós graduação    M       664.0       725.8       755.3       902.3   \n",
       "35237  Superior completo    J       710.7       713.3       712.9       885.4   \n",
       "\n",
       "       NU_NOTA_REDACAO  NU_NOTA_GERAL  \n",
       "29909            980.0         832.82  \n",
       "18258            960.0         805.04  \n",
       "28341            960.0         802.12  \n",
       "8342             960.0         801.48  \n",
       "35237            980.0         800.46  "
      ]
     },
     "execution_count": 271,
     "metadata": {},
     "output_type": "execute_result"
    }
   ],
   "source": [
    "df.sort_values(by=['NU_NOTA_GERAL'], ascending=False, inplace=True)\n",
    "df.head()"
   ]
  },
  {
   "cell_type": "code",
   "execution_count": 272,
   "metadata": {},
   "outputs": [
    {
     "data": {
      "text/plain": [
       "(37055, 13)"
      ]
     },
     "execution_count": 272,
     "metadata": {},
     "output_type": "execute_result"
    }
   ],
   "source": [
    "df.dropna(inplace=True)\n",
    "df.shape"
   ]
  },
  {
   "cell_type": "code",
   "execution_count": 273,
   "metadata": {},
   "outputs": [
    {
     "data": {
      "text/plain": [
       "(370, 13)"
      ]
     },
     "execution_count": 273,
     "metadata": {},
     "output_type": "execute_result"
    }
   ],
   "source": [
    "top = df[:int(0.01*df.shape[0])]\n",
    "top.shape"
   ]
  },
  {
   "cell_type": "code",
   "execution_count": 274,
   "metadata": {},
   "outputs": [
    {
     "data": {
      "text/html": [
       "<div>\n",
       "<style scoped>\n",
       "    .dataframe tbody tr th:only-of-type {\n",
       "        vertical-align: middle;\n",
       "    }\n",
       "\n",
       "    .dataframe tbody tr th {\n",
       "        vertical-align: top;\n",
       "    }\n",
       "\n",
       "    .dataframe thead th {\n",
       "        text-align: right;\n",
       "    }\n",
       "</style>\n",
       "<table border=\"1\" class=\"dataframe\">\n",
       "  <thead>\n",
       "    <tr style=\"text-align: right;\">\n",
       "      <th></th>\n",
       "      <th>SG_UF_RESIDENCIA</th>\n",
       "      <th>TP_SEXO</th>\n",
       "      <th>TP_COR_RACA</th>\n",
       "      <th>TP_PCD</th>\n",
       "      <th>Q001</th>\n",
       "      <th>Q002</th>\n",
       "      <th>Q006</th>\n",
       "      <th>NU_NOTA_LC</th>\n",
       "      <th>NU_NOTA_CH</th>\n",
       "      <th>NU_NOTA_CN</th>\n",
       "      <th>NU_NOTA_MT</th>\n",
       "      <th>NU_NOTA_REDACAO</th>\n",
       "      <th>NU_NOTA_GERAL</th>\n",
       "      <th>TP_RANKING</th>\n",
       "    </tr>\n",
       "  </thead>\n",
       "  <tbody>\n",
       "    <tr>\n",
       "      <th>1111</th>\n",
       "      <td>PI</td>\n",
       "      <td>F</td>\n",
       "      <td>Parda</td>\n",
       "      <td>False</td>\n",
       "      <td>Fund. incompleto</td>\n",
       "      <td>Fund. incompleto</td>\n",
       "      <td>B</td>\n",
       "      <td>486.8</td>\n",
       "      <td>478.1</td>\n",
       "      <td>467.0</td>\n",
       "      <td>482.3</td>\n",
       "      <td>660.0</td>\n",
       "      <td>514.84</td>\n",
       "      <td>Todos os candidatos</td>\n",
       "    </tr>\n",
       "    <tr>\n",
       "      <th>7112</th>\n",
       "      <td>RS</td>\n",
       "      <td>F</td>\n",
       "      <td>Parda</td>\n",
       "      <td>False</td>\n",
       "      <td>Fund. incompleto</td>\n",
       "      <td>Fund. incompleto</td>\n",
       "      <td>B</td>\n",
       "      <td>495.2</td>\n",
       "      <td>503.8</td>\n",
       "      <td>454.2</td>\n",
       "      <td>476.5</td>\n",
       "      <td>480.0</td>\n",
       "      <td>481.94</td>\n",
       "      <td>Todos os candidatos</td>\n",
       "    </tr>\n",
       "    <tr>\n",
       "      <th>13437</th>\n",
       "      <td>SP</td>\n",
       "      <td>M</td>\n",
       "      <td>Parda</td>\n",
       "      <td>False</td>\n",
       "      <td>Fund. incompleto</td>\n",
       "      <td>Fund. incompleto</td>\n",
       "      <td>A</td>\n",
       "      <td>480.2</td>\n",
       "      <td>501.3</td>\n",
       "      <td>433.3</td>\n",
       "      <td>414.9</td>\n",
       "      <td>580.0</td>\n",
       "      <td>481.94</td>\n",
       "      <td>Todos os candidatos</td>\n",
       "    </tr>\n",
       "    <tr>\n",
       "      <th>12557</th>\n",
       "      <td>SE</td>\n",
       "      <td>F</td>\n",
       "      <td>Branca</td>\n",
       "      <td>False</td>\n",
       "      <td>Fund. incompleto</td>\n",
       "      <td>Fund. incompleto</td>\n",
       "      <td>B</td>\n",
       "      <td>494.6</td>\n",
       "      <td>470.6</td>\n",
       "      <td>396.0</td>\n",
       "      <td>488.5</td>\n",
       "      <td>560.0</td>\n",
       "      <td>481.94</td>\n",
       "      <td>Todos os candidatos</td>\n",
       "    </tr>\n",
       "    <tr>\n",
       "      <th>2170</th>\n",
       "      <td>MA</td>\n",
       "      <td>M</td>\n",
       "      <td>Preta</td>\n",
       "      <td>False</td>\n",
       "      <td>Medio completo</td>\n",
       "      <td>Fund. incompleto</td>\n",
       "      <td>B</td>\n",
       "      <td>545.7</td>\n",
       "      <td>481.6</td>\n",
       "      <td>473.2</td>\n",
       "      <td>429.1</td>\n",
       "      <td>480.0</td>\n",
       "      <td>481.92</td>\n",
       "      <td>Todos os candidatos</td>\n",
       "    </tr>\n",
       "  </tbody>\n",
       "</table>\n",
       "</div>"
      ],
      "text/plain": [
       "      SG_UF_RESIDENCIA TP_SEXO TP_COR_RACA  TP_PCD              Q001  \\\n",
       "1111                PI       F       Parda   False  Fund. incompleto   \n",
       "7112                RS       F       Parda   False  Fund. incompleto   \n",
       "13437               SP       M       Parda   False  Fund. incompleto   \n",
       "12557               SE       F      Branca   False  Fund. incompleto   \n",
       "2170                MA       M       Preta   False    Medio completo   \n",
       "\n",
       "                   Q002 Q006  NU_NOTA_LC  NU_NOTA_CH  NU_NOTA_CN  NU_NOTA_MT  \\\n",
       "1111   Fund. incompleto    B       486.8       478.1       467.0       482.3   \n",
       "7112   Fund. incompleto    B       495.2       503.8       454.2       476.5   \n",
       "13437  Fund. incompleto    A       480.2       501.3       433.3       414.9   \n",
       "12557  Fund. incompleto    B       494.6       470.6       396.0       488.5   \n",
       "2170   Fund. incompleto    B       545.7       481.6       473.2       429.1   \n",
       "\n",
       "       NU_NOTA_REDACAO  NU_NOTA_GERAL           TP_RANKING  \n",
       "1111             660.0         514.84  Todos os candidatos  \n",
       "7112             480.0         481.94  Todos os candidatos  \n",
       "13437            580.0         481.94  Todos os candidatos  \n",
       "12557            560.0         481.94  Todos os candidatos  \n",
       "2170             480.0         481.92  Todos os candidatos  "
      ]
     },
     "execution_count": 274,
     "metadata": {},
     "output_type": "execute_result"
    }
   ],
   "source": [
    "df['TP_RANKING'] = df.reset_index().drop(columns='index').index.to_numpy() < 1000\n",
    "df['TP_RANKING'].replace({True: 'Top 1%',\n",
    "                          False: 'Todos os candidatos'}, inplace=True)\n",
    "df = df.sort_values(by='TP_RANKING')\n",
    "df.head()"
   ]
  },
  {
   "cell_type": "code",
   "execution_count": 275,
   "metadata": {},
   "outputs": [],
   "source": [
    "sns.set_style('whitegrid')"
   ]
  },
  {
   "cell_type": "code",
   "execution_count": 276,
   "metadata": {},
   "outputs": [
    {
     "data": {
      "image/png": "[encoded data removed]",
      "text/plain": [
       "<Figure size 1080x216 with 1 Axes>"
      ]
     },
     "metadata": {},
     "output_type": "display_data"
    }
   ],
   "source": [
    "fig, ax = plt.subplots(figsize=(15, 3))\n",
    "sns.histplot(df, y=\"TP_RANKING\", hue=\"TP_COR_RACA\", stat=\"probability\", multiple=\"fill\", shrink=0.8, ax=ax, edgecolor=\"none\")\n",
    "sns.despine(left=True, bottom=True)\n",
    "plt.margins(x=0.7)\n",
    "ax.set_ylabel('')\n",
    "ax.set_xlabel('Proporção a cada 100')\n",
    "plt.show()"
   ]
  },
  {
   "cell_type": "code",
   "execution_count": 277,
   "metadata": {},
   "outputs": [
    {
     "data": {
      "image/png": "[encoded data removed]",
      "text/plain": [
       "<Figure size 1080x216 with 1 Axes>"
      ]
     },
     "metadata": {},
     "output_type": "display_data"
    }
   ],
   "source": [
    "fig, ax = plt.subplots(figsize=(15, 3))\n",
    "sns.histplot(df, y=\"TP_RANKING\", hue=\"Q001\", stat=\"probability\", multiple=\"fill\", shrink=0.8, ax=ax, edgecolor=\"none\")\n",
    "sns.despine(left=True, bottom=True)\n",
    "plt.margins(x=0.7)\n",
    "ax.set_ylabel('')\n",
    "ax.set_xlabel('Proporção a cada 100')\n",
    "plt.show()"
   ]
  },
  {
   "cell_type": "code",
   "execution_count": 278,
   "metadata": {},
   "outputs": [
    {
     "data": {
      "image/png": "[encoded data removed]",
      "text/plain": [
       "<Figure size 1080x216 with 1 Axes>"
      ]
     },
     "metadata": {},
     "output_type": "display_data"
    }
   ],
   "source": [
    "fig, ax = plt.subplots(figsize=(15, 3))\n",
    "sns.histplot(df, y=\"TP_RANKING\", hue=\"Q002\", stat=\"probability\", multiple=\"fill\", shrink=0.8, ax=ax, edgecolor=\"none\")\n",
    "sns.despine(left=True, bottom=True)\n",
    "plt.margins(x=0.7)\n",
    "ax.set_ylabel('')\n",
    "ax.set_xlabel('Proporção a cada 100')\n",
    "plt.show()"
   ]
  },
  {
   "cell_type": "code",
   "execution_count": 279,
   "metadata": {},
   "outputs": [
    {
     "data": {
      "image/png": "[encoded data removed]",
      "text/plain": [
       "<Figure size 1080x216 with 1 Axes>"
      ]
     },
     "metadata": {},
     "output_type": "display_data"
    }
   ],
   "source": [
    "fig, ax = plt.subplots(figsize=(15, 3))\n",
    "sns.histplot(df, y=\"TP_RANKING\", hue=\"TP_PCD\", stat=\"probability\", multiple=\"fill\", shrink=0.8, ax=ax, edgecolor=\"none\")\n",
    "sns.despine(left=True, bottom=True)\n",
    "plt.margins(x=0.7)\n",
    "ax.set_ylabel('')\n",
    "ax.set_xlabel('Proporção a cada 100')\n",
    "plt.show()"
   ]
  },
  {
   "cell_type": "code",
   "execution_count": 280,
   "metadata": {},
   "outputs": [
    {
     "data": {
      "image/png": "[encoded data removed]",
      "text/plain": [
       "<Figure size 1080x216 with 1 Axes>"
      ]
     },
     "metadata": {},
     "output_type": "display_data"
    }
   ],
   "source": [
    "fig, ax = plt.subplots(figsize=(15, 3))\n",
    "sns.histplot(df, y=\"TP_RANKING\", hue=\"TP_SEXO\", stat=\"probability\", multiple=\"fill\", shrink=0.8, ax=ax, edgecolor=\"none\")\n",
    "sns.despine(left=True, bottom=True)\n",
    "plt.margins(x=0.7)\n",
    "ax.set_ylabel('')\n",
    "ax.set_xlabel('Proporção a cada 100')\n",
    "plt.show()"
   ]
  },
  {
   "cell_type": "code",
   "execution_count": null,
   "metadata": {},
   "outputs": [],
   "source": []
  }
 ],
 "metadata": {
  "kernelspec": {
   "display_name": "Python 3",
   "language": "python",
   "name": "python3"
  },
  "language_info": {
   "codemirror_mode": {
    "name": "ipython",
    "version": 3
   },
   "file_extension": ".py",
   "mimetype": "text/x-python",
   "name": "python",
   "nbconvert_exporter": "python",
   "pygments_lexer": "ipython3",
   "version": "3.8.1"
  }
 },
 "nbformat": 4,
 "nbformat_minor": 2
}
